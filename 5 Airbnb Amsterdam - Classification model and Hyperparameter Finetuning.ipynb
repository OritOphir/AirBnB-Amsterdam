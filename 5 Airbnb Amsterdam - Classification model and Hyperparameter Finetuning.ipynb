{
 "cells": [
  {
   "cell_type": "markdown",
   "metadata": {},
   "source": [
    "# Classification Models and Hyperparameter Finetuning "
   ]
  },
  {
   "cell_type": "code",
   "execution_count": 1,
   "metadata": {},
   "outputs": [
    {
     "name": "stderr",
     "output_type": "stream",
     "text": [
      "C:\\Users\\ophir\\anaconda3\\lib\\site-packages\\xgboost\\compat.py:36: FutureWarning: pandas.Int64Index is deprecated and will be removed from pandas in a future version. Use pandas.Index with the appropriate dtype instead.\n",
      "  from pandas import MultiIndex, Int64Index\n"
     ]
    }
   ],
   "source": [
    "import matplotlib.pyplot as plt\n",
    "#%matplotlib ipympl\n",
    "import pandas as pd\n",
    "import numpy as np\n",
    "import seaborn as sns\n",
    "import sklearn.metrics as metrics \n",
    "from sklearn.datasets import make_classification\n",
    "#from xgboost import XGBClassifier\n",
    "#!pip install xgboost scikit-learn pandas numpy\n",
    "import xgboost as xgb\n",
    "import warnings\n",
    "warnings.filterwarnings(\"ignore\")"
   ]
  },
  {
   "cell_type": "code",
   "execution_count": 2,
   "metadata": {},
   "outputs": [],
   "source": [
    "def classificationMetrics(y, yhat):\n",
    "    prf1 = metrics.precision_recall_fscore_support(y,yhat)\n",
    "    res = {'Accuracy': metrics.accuracy_score(y,yhat),\n",
    "           'Precision':prf1[0][1],\n",
    "           'Recall': prf1[1][1],\n",
    "           'f1-score': prf1[2][1],\n",
    "           'Log-loss': metrics.log_loss(y,yhat),\n",
    "           'AUC': metrics.roc_auc_score(y,yhat)\n",
    "          }\n",
    "    return res\n"
   ]
  },
  {
   "cell_type": "markdown",
   "metadata": {},
   "source": [
    "## Data"
   ]
  },
  {
   "cell_type": "code",
   "execution_count": 3,
   "metadata": {},
   "outputs": [
    {
     "data": {
      "text/html": [
       "<div>\n",
       "<style scoped>\n",
       "    .dataframe tbody tr th:only-of-type {\n",
       "        vertical-align: middle;\n",
       "    }\n",
       "\n",
       "    .dataframe tbody tr th {\n",
       "        vertical-align: top;\n",
       "    }\n",
       "\n",
       "    .dataframe thead th {\n",
       "        text-align: right;\n",
       "    }\n",
       "</style>\n",
       "<table border=\"1\" class=\"dataframe\">\n",
       "  <thead>\n",
       "    <tr style=\"text-align: right;\">\n",
       "      <th></th>\n",
       "      <th>Unnamed: 0</th>\n",
       "      <th>host_response_time</th>\n",
       "      <th>host_neighbourhood</th>\n",
       "      <th>host_total_listings_count</th>\n",
       "      <th>neighbourhood</th>\n",
       "      <th>neighbourhood_cleansed</th>\n",
       "      <th>latitude</th>\n",
       "      <th>property_type</th>\n",
       "      <th>room_type</th>\n",
       "      <th>beds</th>\n",
       "      <th>...</th>\n",
       "      <th>reviews_per_month</th>\n",
       "      <th>years_of_hosting</th>\n",
       "      <th>qnum_since_last_review</th>\n",
       "      <th>qnum_since_first_review</th>\n",
       "      <th>hair_dryer</th>\n",
       "      <th>shampoo</th>\n",
       "      <th>hot_water</th>\n",
       "      <th>dishes_and_silverware</th>\n",
       "      <th>luggage_dropoff_allowed</th>\n",
       "      <th>host_is_superhost</th>\n",
       "    </tr>\n",
       "  </thead>\n",
       "  <tbody>\n",
       "    <tr>\n",
       "      <th>0</th>\n",
       "      <td>0</td>\n",
       "      <td>0.0</td>\n",
       "      <td>49.0</td>\n",
       "      <td>1</td>\n",
       "      <td>32.0</td>\n",
       "      <td>4.0</td>\n",
       "      <td>52.374031</td>\n",
       "      <td>1.0</td>\n",
       "      <td>0.0</td>\n",
       "      <td>1</td>\n",
       "      <td>...</td>\n",
       "      <td>0.37</td>\n",
       "      <td>7</td>\n",
       "      <td>6</td>\n",
       "      <td>14</td>\n",
       "      <td>1</td>\n",
       "      <td>1</td>\n",
       "      <td>1</td>\n",
       "      <td>0</td>\n",
       "      <td>1</td>\n",
       "      <td>0</td>\n",
       "    </tr>\n",
       "    <tr>\n",
       "      <th>1</th>\n",
       "      <td>1</td>\n",
       "      <td>3.0</td>\n",
       "      <td>0.0</td>\n",
       "      <td>1</td>\n",
       "      <td>1.0</td>\n",
       "      <td>5.0</td>\n",
       "      <td>52.376054</td>\n",
       "      <td>1.0</td>\n",
       "      <td>1.0</td>\n",
       "      <td>2</td>\n",
       "      <td>...</td>\n",
       "      <td>3.53</td>\n",
       "      <td>3</td>\n",
       "      <td>4</td>\n",
       "      <td>5</td>\n",
       "      <td>1</td>\n",
       "      <td>1</td>\n",
       "      <td>1</td>\n",
       "      <td>0</td>\n",
       "      <td>1</td>\n",
       "      <td>0</td>\n",
       "    </tr>\n",
       "    <tr>\n",
       "      <th>2</th>\n",
       "      <td>2</td>\n",
       "      <td>4.0</td>\n",
       "      <td>16.0</td>\n",
       "      <td>19</td>\n",
       "      <td>15.0</td>\n",
       "      <td>21.0</td>\n",
       "      <td>52.357052</td>\n",
       "      <td>1.0</td>\n",
       "      <td>0.0</td>\n",
       "      <td>2</td>\n",
       "      <td>...</td>\n",
       "      <td>1.11</td>\n",
       "      <td>9</td>\n",
       "      <td>6</td>\n",
       "      <td>7</td>\n",
       "      <td>0</td>\n",
       "      <td>0</td>\n",
       "      <td>1</td>\n",
       "      <td>0</td>\n",
       "      <td>0</td>\n",
       "      <td>0</td>\n",
       "    </tr>\n",
       "    <tr>\n",
       "      <th>3</th>\n",
       "      <td>3</td>\n",
       "      <td>1.0</td>\n",
       "      <td>43.0</td>\n",
       "      <td>1</td>\n",
       "      <td>52.0</td>\n",
       "      <td>13.0</td>\n",
       "      <td>52.410611</td>\n",
       "      <td>13.0</td>\n",
       "      <td>0.0</td>\n",
       "      <td>3</td>\n",
       "      <td>...</td>\n",
       "      <td>0.23</td>\n",
       "      <td>7</td>\n",
       "      <td>6</td>\n",
       "      <td>13</td>\n",
       "      <td>0</td>\n",
       "      <td>1</td>\n",
       "      <td>0</td>\n",
       "      <td>0</td>\n",
       "      <td>0</td>\n",
       "      <td>0</td>\n",
       "    </tr>\n",
       "    <tr>\n",
       "      <th>4</th>\n",
       "      <td>4</td>\n",
       "      <td>4.0</td>\n",
       "      <td>31.0</td>\n",
       "      <td>1</td>\n",
       "      <td>37.0</td>\n",
       "      <td>20.0</td>\n",
       "      <td>52.384146</td>\n",
       "      <td>1.0</td>\n",
       "      <td>0.0</td>\n",
       "      <td>2</td>\n",
       "      <td>...</td>\n",
       "      <td>0.92</td>\n",
       "      <td>8</td>\n",
       "      <td>5</td>\n",
       "      <td>8</td>\n",
       "      <td>0</td>\n",
       "      <td>1</td>\n",
       "      <td>0</td>\n",
       "      <td>0</td>\n",
       "      <td>0</td>\n",
       "      <td>0</td>\n",
       "    </tr>\n",
       "  </tbody>\n",
       "</table>\n",
       "<p>5 rows × 36 columns</p>\n",
       "</div>"
      ],
      "text/plain": [
       "   Unnamed: 0  host_response_time  host_neighbourhood  \\\n",
       "0           0                 0.0                49.0   \n",
       "1           1                 3.0                 0.0   \n",
       "2           2                 4.0                16.0   \n",
       "3           3                 1.0                43.0   \n",
       "4           4                 4.0                31.0   \n",
       "\n",
       "   host_total_listings_count  neighbourhood  neighbourhood_cleansed  \\\n",
       "0                          1           32.0                     4.0   \n",
       "1                          1            1.0                     5.0   \n",
       "2                         19           15.0                    21.0   \n",
       "3                          1           52.0                    13.0   \n",
       "4                          1           37.0                    20.0   \n",
       "\n",
       "    latitude  property_type  room_type  beds  ...  reviews_per_month  \\\n",
       "0  52.374031            1.0        0.0     1  ...               0.37   \n",
       "1  52.376054            1.0        1.0     2  ...               3.53   \n",
       "2  52.357052            1.0        0.0     2  ...               1.11   \n",
       "3  52.410611           13.0        0.0     3  ...               0.23   \n",
       "4  52.384146            1.0        0.0     2  ...               0.92   \n",
       "\n",
       "   years_of_hosting  qnum_since_last_review  qnum_since_first_review  \\\n",
       "0                 7                       6                       14   \n",
       "1                 3                       4                        5   \n",
       "2                 9                       6                        7   \n",
       "3                 7                       6                       13   \n",
       "4                 8                       5                        8   \n",
       "\n",
       "   hair_dryer  shampoo  hot_water  dishes_and_silverware  \\\n",
       "0           1        1          1                      0   \n",
       "1           1        1          1                      0   \n",
       "2           0        0          1                      0   \n",
       "3           0        1          0                      0   \n",
       "4           0        1          0                      0   \n",
       "\n",
       "   luggage_dropoff_allowed  host_is_superhost  \n",
       "0                        1                  0  \n",
       "1                        1                  0  \n",
       "2                        0                  0  \n",
       "3                        0                  0  \n",
       "4                        0                  0  \n",
       "\n",
       "[5 rows x 36 columns]"
      ]
     },
     "execution_count": 3,
     "metadata": {},
     "output_type": "execute_result"
    }
   ],
   "source": [
    "#importing imbalanced data\n",
    "df_ros = pd.read_csv('df_ros.csv')\n",
    "df_ros.head()"
   ]
  },
  {
   "cell_type": "code",
   "execution_count": 4,
   "metadata": {},
   "outputs": [],
   "source": [
    "#stubborn upload bug is here to stay \n",
    "del df_ros['Unnamed: 0']\n",
    "#del df_ros['split']"
   ]
  },
  {
   "cell_type": "code",
   "execution_count": 5,
   "metadata": {},
   "outputs": [
    {
     "data": {
      "text/plain": [
       "(18226, 35)"
      ]
     },
     "execution_count": 5,
     "metadata": {},
     "output_type": "execute_result"
    }
   ],
   "source": [
    "df_ros.shape"
   ]
  },
  {
   "cell_type": "code",
   "execution_count": 6,
   "metadata": {},
   "outputs": [],
   "source": [
    "dev = pd.read_csv(\"Amsterdam_dev.csv\")\n",
    "#test = pd.read_csv(\"Amsterdam_test.csv\")"
   ]
  },
  {
   "cell_type": "code",
   "execution_count": 7,
   "metadata": {},
   "outputs": [
    {
     "data": {
      "text/plain": [
       "(4006, 37)"
      ]
     },
     "execution_count": 7,
     "metadata": {},
     "output_type": "execute_result"
    }
   ],
   "source": [
    "dev.shape"
   ]
  },
  {
   "cell_type": "code",
   "execution_count": 8,
   "metadata": {},
   "outputs": [],
   "source": [
    "#stubborn upload bug is here to stay \n",
    "del dev['Unnamed: 0']\n",
    "del dev['split']"
   ]
  },
  {
   "cell_type": "markdown",
   "metadata": {},
   "source": [
    "Visual of the imblanced data created on stage 5 with RandomOverSample techniqe "
   ]
  },
  {
   "cell_type": "code",
   "execution_count": 9,
   "metadata": {},
   "outputs": [
    {
     "data": {
      "text/plain": [
       "[Text(0.5, 1.0, 'Data after Over Sampling')]"
      ]
     },
     "execution_count": 9,
     "metadata": {},
     "output_type": "execute_result"
    },
    {
     "data": {
      "image/png": "[encoded data removed]",
      "text/plain": [
       "<Figure size 720x360 with 1 Axes>"
      ]
     },
     "metadata": {
      "needs_background": "light"
     },
     "output_type": "display_data"
    }
   ],
   "source": [
    "fig, ax = plt.subplots(figsize=(10,5))\n",
    "sns.countplot(x=df_ros['host_is_superhost'].dropna(),data=df_ros, palette=\"Set2\").set(title='Data after Over Sampling')"
   ]
  },
  {
   "cell_type": "code",
   "execution_count": 10,
   "metadata": {},
   "outputs": [
    {
     "data": {
      "text/plain": [
       "0    9113\n",
       "1    9113\n",
       "Name: host_is_superhost, dtype: int64"
      ]
     },
     "execution_count": 10,
     "metadata": {},
     "output_type": "execute_result"
    }
   ],
   "source": [
    "df_ros['host_is_superhost'].value_counts()"
   ]
  },
  {
   "cell_type": "code",
   "execution_count": 11,
   "metadata": {},
   "outputs": [],
   "source": [
    "X_train = df_ros.loc[:,df_ros.columns != 'host_is_superhost']\n",
    "X_dev = dev.loc[:,dev.columns != 'host_is_superhost']\n",
    "y_train = df_ros['host_is_superhost']\n",
    "y_dev = dev['host_is_superhost']"
   ]
  },
  {
   "cell_type": "markdown",
   "metadata": {},
   "source": [
    "## Supervised Models"
   ]
  },
  {
   "cell_type": "code",
   "execution_count": 12,
   "metadata": {},
   "outputs": [],
   "source": [
    "from sklearn.linear_model import LogisticRegression\n",
    "from sklearn.tree import DecisionTreeClassifier\n",
    "from sklearn.ensemble import RandomForestClassifier, AdaBoostClassifier, GradientBoostingClassifier\n",
    "from xgboost import XGBClassifier\n",
    "from sklearn.svm import SVC\n",
    "from sklearn.ensemble import ExtraTreesClassifier"
   ]
  },
  {
   "cell_type": "code",
   "execution_count": 13,
   "metadata": {},
   "outputs": [],
   "source": [
    "models_list = pd.DataFrame()"
   ]
  },
  {
   "cell_type": "markdown",
   "metadata": {},
   "source": [
    "### Linear Regression"
   ]
  },
  {
   "cell_type": "code",
   "execution_count": 14,
   "metadata": {},
   "outputs": [],
   "source": [
    "mod1 = LogisticRegression(random_state=1, max_iter=1000)\n",
    "mod1.fit(X_train,y_train)\n",
    "pred1 = mod1.predict(X_dev)\n",
    "\n",
    "model_dict = {'model': \"Logistic Regression\"}\n",
    "models_list = models_list.append({**model_dict, **classificationMetrics(y_dev, pred1)}, ignore_index=True)\n"
   ]
  },
  {
   "cell_type": "code",
   "execution_count": 15,
   "metadata": {},
   "outputs": [
    {
     "data": {
      "text/html": [
       "<div>\n",
       "<style scoped>\n",
       "    .dataframe tbody tr th:only-of-type {\n",
       "        vertical-align: middle;\n",
       "    }\n",
       "\n",
       "    .dataframe tbody tr th {\n",
       "        vertical-align: top;\n",
       "    }\n",
       "\n",
       "    .dataframe thead th {\n",
       "        text-align: right;\n",
       "    }\n",
       "</style>\n",
       "<table border=\"1\" class=\"dataframe\">\n",
       "  <thead>\n",
       "    <tr style=\"text-align: right;\">\n",
       "      <th>col_0</th>\n",
       "      <th>0</th>\n",
       "      <th>1</th>\n",
       "    </tr>\n",
       "    <tr>\n",
       "      <th>host_is_superhost</th>\n",
       "      <th></th>\n",
       "      <th></th>\n",
       "    </tr>\n",
       "  </thead>\n",
       "  <tbody>\n",
       "    <tr>\n",
       "      <th>0</th>\n",
       "      <td>2616</td>\n",
       "      <td>734</td>\n",
       "    </tr>\n",
       "    <tr>\n",
       "      <th>1</th>\n",
       "      <td>167</td>\n",
       "      <td>489</td>\n",
       "    </tr>\n",
       "  </tbody>\n",
       "</table>\n",
       "</div>"
      ],
      "text/plain": [
       "col_0                 0    1\n",
       "host_is_superhost           \n",
       "0                  2616  734\n",
       "1                   167  489"
      ]
     },
     "execution_count": 15,
     "metadata": {},
     "output_type": "execute_result"
    }
   ],
   "source": [
    "pd.crosstab(y_dev, pred1)"
   ]
  },
  {
   "cell_type": "markdown",
   "metadata": {},
   "source": [
    "### Decision Tree"
   ]
  },
  {
   "cell_type": "code",
   "execution_count": 16,
   "metadata": {},
   "outputs": [],
   "source": [
    "mod2 = DecisionTreeClassifier(random_state=1)\n",
    "mod2.fit(X_train,y_train)\n",
    "pred2= mod2.predict(X_dev)\n",
    "\n",
    "model_dict = {'model': \"Decision Tree\"}\n",
    "models_list = models_list.append({**model_dict, **classificationMetrics(y_dev, pred2)}, ignore_index=True)\n"
   ]
  },
  {
   "cell_type": "code",
   "execution_count": 17,
   "metadata": {},
   "outputs": [
    {
     "data": {
      "text/html": [
       "<div>\n",
       "<style scoped>\n",
       "    .dataframe tbody tr th:only-of-type {\n",
       "        vertical-align: middle;\n",
       "    }\n",
       "\n",
       "    .dataframe tbody tr th {\n",
       "        vertical-align: top;\n",
       "    }\n",
       "\n",
       "    .dataframe thead th {\n",
       "        text-align: right;\n",
       "    }\n",
       "</style>\n",
       "<table border=\"1\" class=\"dataframe\">\n",
       "  <thead>\n",
       "    <tr style=\"text-align: right;\">\n",
       "      <th>col_0</th>\n",
       "      <th>0</th>\n",
       "      <th>1</th>\n",
       "    </tr>\n",
       "    <tr>\n",
       "      <th>host_is_superhost</th>\n",
       "      <th></th>\n",
       "      <th></th>\n",
       "    </tr>\n",
       "  </thead>\n",
       "  <tbody>\n",
       "    <tr>\n",
       "      <th>0</th>\n",
       "      <td>3098</td>\n",
       "      <td>252</td>\n",
       "    </tr>\n",
       "    <tr>\n",
       "      <th>1</th>\n",
       "      <td>387</td>\n",
       "      <td>269</td>\n",
       "    </tr>\n",
       "  </tbody>\n",
       "</table>\n",
       "</div>"
      ],
      "text/plain": [
       "col_0                 0    1\n",
       "host_is_superhost           \n",
       "0                  3098  252\n",
       "1                   387  269"
      ]
     },
     "execution_count": 17,
     "metadata": {},
     "output_type": "execute_result"
    }
   ],
   "source": [
    "pd.crosstab(y_dev, pred2)"
   ]
  },
  {
   "cell_type": "markdown",
   "metadata": {},
   "source": [
    "### Random Forest"
   ]
  },
  {
   "cell_type": "code",
   "execution_count": 18,
   "metadata": {},
   "outputs": [],
   "source": [
    "mod3 = RandomForestClassifier(random_state=1)\n",
    "mod3.fit(X_train,y_train)\n",
    "pred3 = mod3.predict(X_dev)\n",
    "model_dict = {'model': \"RandomForest\"}\n",
    "models_list = models_list.append({**model_dict, **classificationMetrics(y_dev, pred3)}, ignore_index=True)\n"
   ]
  },
  {
   "cell_type": "code",
   "execution_count": 19,
   "metadata": {},
   "outputs": [
    {
     "data": {
      "text/html": [
       "<div>\n",
       "<style scoped>\n",
       "    .dataframe tbody tr th:only-of-type {\n",
       "        vertical-align: middle;\n",
       "    }\n",
       "\n",
       "    .dataframe tbody tr th {\n",
       "        vertical-align: top;\n",
       "    }\n",
       "\n",
       "    .dataframe thead th {\n",
       "        text-align: right;\n",
       "    }\n",
       "</style>\n",
       "<table border=\"1\" class=\"dataframe\">\n",
       "  <thead>\n",
       "    <tr style=\"text-align: right;\">\n",
       "      <th>col_0</th>\n",
       "      <th>0</th>\n",
       "      <th>1</th>\n",
       "    </tr>\n",
       "    <tr>\n",
       "      <th>host_is_superhost</th>\n",
       "      <th></th>\n",
       "      <th></th>\n",
       "    </tr>\n",
       "  </thead>\n",
       "  <tbody>\n",
       "    <tr>\n",
       "      <th>0</th>\n",
       "      <td>3259</td>\n",
       "      <td>91</td>\n",
       "    </tr>\n",
       "    <tr>\n",
       "      <th>1</th>\n",
       "      <td>379</td>\n",
       "      <td>277</td>\n",
       "    </tr>\n",
       "  </tbody>\n",
       "</table>\n",
       "</div>"
      ],
      "text/plain": [
       "col_0                 0    1\n",
       "host_is_superhost           \n",
       "0                  3259   91\n",
       "1                   379  277"
      ]
     },
     "execution_count": 19,
     "metadata": {},
     "output_type": "execute_result"
    }
   ],
   "source": [
    "pd.crosstab(y_dev, pred3)"
   ]
  },
  {
   "cell_type": "markdown",
   "metadata": {},
   "source": [
    "### Adaptive Boosting (ADABoost)"
   ]
  },
  {
   "cell_type": "code",
   "execution_count": 20,
   "metadata": {},
   "outputs": [],
   "source": [
    "mod4 = AdaBoostClassifier(random_state=1)\n",
    "mod4.fit(X_train,y_train)\n",
    "pred4 = mod4.predict(X_dev)\n",
    "model_dict = {'model': \"ADABoost\"}\n",
    "models_list = models_list.append({**model_dict, **classificationMetrics(y_dev, pred4)}, ignore_index=True)\n"
   ]
  },
  {
   "cell_type": "code",
   "execution_count": 21,
   "metadata": {},
   "outputs": [
    {
     "data": {
      "text/html": [
       "<div>\n",
       "<style scoped>\n",
       "    .dataframe tbody tr th:only-of-type {\n",
       "        vertical-align: middle;\n",
       "    }\n",
       "\n",
       "    .dataframe tbody tr th {\n",
       "        vertical-align: top;\n",
       "    }\n",
       "\n",
       "    .dataframe thead th {\n",
       "        text-align: right;\n",
       "    }\n",
       "</style>\n",
       "<table border=\"1\" class=\"dataframe\">\n",
       "  <thead>\n",
       "    <tr style=\"text-align: right;\">\n",
       "      <th>col_0</th>\n",
       "      <th>0</th>\n",
       "      <th>1</th>\n",
       "    </tr>\n",
       "    <tr>\n",
       "      <th>host_is_superhost</th>\n",
       "      <th></th>\n",
       "      <th></th>\n",
       "    </tr>\n",
       "  </thead>\n",
       "  <tbody>\n",
       "    <tr>\n",
       "      <th>0</th>\n",
       "      <td>2837</td>\n",
       "      <td>513</td>\n",
       "    </tr>\n",
       "    <tr>\n",
       "      <th>1</th>\n",
       "      <td>123</td>\n",
       "      <td>533</td>\n",
       "    </tr>\n",
       "  </tbody>\n",
       "</table>\n",
       "</div>"
      ],
      "text/plain": [
       "col_0                 0    1\n",
       "host_is_superhost           \n",
       "0                  2837  513\n",
       "1                   123  533"
      ]
     },
     "execution_count": 21,
     "metadata": {},
     "output_type": "execute_result"
    }
   ],
   "source": [
    "pd.crosstab(y_dev, pred4)"
   ]
  },
  {
   "cell_type": "markdown",
   "metadata": {},
   "source": [
    "### Gradient Boosting Machine (GBM)"
   ]
  },
  {
   "cell_type": "code",
   "execution_count": 22,
   "metadata": {},
   "outputs": [],
   "source": [
    "mod5 = GradientBoostingClassifier(random_state=1)\n",
    "mod5.fit(X_train,y_train)\n",
    "pred5 = mod5.predict(X_dev)\n",
    "model_dict = {'model': \"GBM\"}\n",
    "models_list = models_list.append({**model_dict, **classificationMetrics(y_dev, pred5)}, ignore_index=True)\n"
   ]
  },
  {
   "cell_type": "code",
   "execution_count": 23,
   "metadata": {},
   "outputs": [
    {
     "data": {
      "text/html": [
       "<div>\n",
       "<style scoped>\n",
       "    .dataframe tbody tr th:only-of-type {\n",
       "        vertical-align: middle;\n",
       "    }\n",
       "\n",
       "    .dataframe tbody tr th {\n",
       "        vertical-align: top;\n",
       "    }\n",
       "\n",
       "    .dataframe thead th {\n",
       "        text-align: right;\n",
       "    }\n",
       "</style>\n",
       "<table border=\"1\" class=\"dataframe\">\n",
       "  <thead>\n",
       "    <tr style=\"text-align: right;\">\n",
       "      <th>col_0</th>\n",
       "      <th>0</th>\n",
       "      <th>1</th>\n",
       "    </tr>\n",
       "    <tr>\n",
       "      <th>host_is_superhost</th>\n",
       "      <th></th>\n",
       "      <th></th>\n",
       "    </tr>\n",
       "  </thead>\n",
       "  <tbody>\n",
       "    <tr>\n",
       "      <th>0</th>\n",
       "      <td>2881</td>\n",
       "      <td>469</td>\n",
       "    </tr>\n",
       "    <tr>\n",
       "      <th>1</th>\n",
       "      <td>100</td>\n",
       "      <td>556</td>\n",
       "    </tr>\n",
       "  </tbody>\n",
       "</table>\n",
       "</div>"
      ],
      "text/plain": [
       "col_0                 0    1\n",
       "host_is_superhost           \n",
       "0                  2881  469\n",
       "1                   100  556"
      ]
     },
     "execution_count": 23,
     "metadata": {},
     "output_type": "execute_result"
    }
   ],
   "source": [
    "pd.crosstab(y_dev, pred5)"
   ]
  },
  {
   "cell_type": "markdown",
   "metadata": {},
   "source": [
    "### Support Vector Machine (SVM)"
   ]
  },
  {
   "cell_type": "code",
   "execution_count": 24,
   "metadata": {},
   "outputs": [],
   "source": [
    "mod6 = SVC(probability=True)\n",
    "mod6.fit(X_train,y_train)\n",
    "pred6 = mod6.predict(X_dev)\n",
    "model_dict = {'model': \"SVM\"}\n"
   ]
  },
  {
   "cell_type": "code",
   "execution_count": 25,
   "metadata": {},
   "outputs": [
    {
     "data": {
      "text/html": [
       "<div>\n",
       "<style scoped>\n",
       "    .dataframe tbody tr th:only-of-type {\n",
       "        vertical-align: middle;\n",
       "    }\n",
       "\n",
       "    .dataframe tbody tr th {\n",
       "        vertical-align: top;\n",
       "    }\n",
       "\n",
       "    .dataframe thead th {\n",
       "        text-align: right;\n",
       "    }\n",
       "</style>\n",
       "<table border=\"1\" class=\"dataframe\">\n",
       "  <thead>\n",
       "    <tr style=\"text-align: right;\">\n",
       "      <th>col_0</th>\n",
       "      <th>0</th>\n",
       "      <th>1</th>\n",
       "    </tr>\n",
       "    <tr>\n",
       "      <th>host_is_superhost</th>\n",
       "      <th></th>\n",
       "      <th></th>\n",
       "    </tr>\n",
       "  </thead>\n",
       "  <tbody>\n",
       "    <tr>\n",
       "      <th>0</th>\n",
       "      <td>2875</td>\n",
       "      <td>475</td>\n",
       "    </tr>\n",
       "    <tr>\n",
       "      <th>1</th>\n",
       "      <td>305</td>\n",
       "      <td>351</td>\n",
       "    </tr>\n",
       "  </tbody>\n",
       "</table>\n",
       "</div>"
      ],
      "text/plain": [
       "col_0                 0    1\n",
       "host_is_superhost           \n",
       "0                  2875  475\n",
       "1                   305  351"
      ]
     },
     "execution_count": 25,
     "metadata": {},
     "output_type": "execute_result"
    }
   ],
   "source": [
    "pd.crosstab(y_dev, pred6)"
   ]
  },
  {
   "cell_type": "markdown",
   "metadata": {},
   "source": [
    "### XGBoost parallel tree boosting (GBDT, GBM) "
   ]
  },
  {
   "cell_type": "code",
   "execution_count": 26,
   "metadata": {},
   "outputs": [
    {
     "name": "stdout",
     "output_type": "stream",
     "text": [
      "[19:26:54] WARNING: C:/Users/Administrator/workspace/xgboost-win64_release_1.5.1/src/learner.cc:1115: Starting in XGBoost 1.3.0, the default evaluation metric used with the objective 'binary:logistic' was changed from 'error' to 'logloss'. Explicitly set eval_metric if you'd like to restore the old behavior.\n"
     ]
    }
   ],
   "source": [
    "from xgboost import XGBClassifier\n",
    "mod7 = XGBClassifier(random_state=1)\n",
    "mod7.fit(X_train,y_train)\n",
    "pred7 = mod7.predict(X_dev)\n",
    "model_dict = {'model': \"XGB\"}\n",
    "models_list = models_list.append({**model_dict, **classificationMetrics(y_dev, pred7)}, ignore_index=True)\n"
   ]
  },
  {
   "cell_type": "code",
   "execution_count": 27,
   "metadata": {},
   "outputs": [
    {
     "data": {
      "text/html": [
       "<div>\n",
       "<style scoped>\n",
       "    .dataframe tbody tr th:only-of-type {\n",
       "        vertical-align: middle;\n",
       "    }\n",
       "\n",
       "    .dataframe tbody tr th {\n",
       "        vertical-align: top;\n",
       "    }\n",
       "\n",
       "    .dataframe thead th {\n",
       "        text-align: right;\n",
       "    }\n",
       "</style>\n",
       "<table border=\"1\" class=\"dataframe\">\n",
       "  <thead>\n",
       "    <tr style=\"text-align: right;\">\n",
       "      <th>col_0</th>\n",
       "      <th>0</th>\n",
       "      <th>1</th>\n",
       "    </tr>\n",
       "    <tr>\n",
       "      <th>host_is_superhost</th>\n",
       "      <th></th>\n",
       "      <th></th>\n",
       "    </tr>\n",
       "  </thead>\n",
       "  <tbody>\n",
       "    <tr>\n",
       "      <th>0</th>\n",
       "      <td>3083</td>\n",
       "      <td>267</td>\n",
       "    </tr>\n",
       "    <tr>\n",
       "      <th>1</th>\n",
       "      <td>203</td>\n",
       "      <td>453</td>\n",
       "    </tr>\n",
       "  </tbody>\n",
       "</table>\n",
       "</div>"
      ],
      "text/plain": [
       "col_0                 0    1\n",
       "host_is_superhost           \n",
       "0                  3083  267\n",
       "1                   203  453"
      ]
     },
     "execution_count": 27,
     "metadata": {},
     "output_type": "execute_result"
    }
   ],
   "source": [
    "pd.crosstab(y_dev, pred7)"
   ]
  },
  {
   "cell_type": "markdown",
   "metadata": {},
   "source": [
    "## Model Selection"
   ]
  },
  {
   "cell_type": "code",
   "execution_count": 28,
   "metadata": {},
   "outputs": [
    {
     "data": {
      "text/html": [
       "<div>\n",
       "<style scoped>\n",
       "    .dataframe tbody tr th:only-of-type {\n",
       "        vertical-align: middle;\n",
       "    }\n",
       "\n",
       "    .dataframe tbody tr th {\n",
       "        vertical-align: top;\n",
       "    }\n",
       "\n",
       "    .dataframe thead th {\n",
       "        text-align: right;\n",
       "    }\n",
       "</style>\n",
       "<table border=\"1\" class=\"dataframe\">\n",
       "  <thead>\n",
       "    <tr style=\"text-align: right;\">\n",
       "      <th></th>\n",
       "      <th>model</th>\n",
       "      <th>Accuracy</th>\n",
       "      <th>Precision</th>\n",
       "      <th>Recall</th>\n",
       "      <th>f1-score</th>\n",
       "      <th>Log-loss</th>\n",
       "      <th>AUC</th>\n",
       "    </tr>\n",
       "  </thead>\n",
       "  <tbody>\n",
       "    <tr>\n",
       "      <th>4</th>\n",
       "      <td>GBM</td>\n",
       "      <td>0.857963</td>\n",
       "      <td>0.542439</td>\n",
       "      <td>0.847561</td>\n",
       "      <td>0.661511</td>\n",
       "      <td>4.905876</td>\n",
       "      <td>0.853780</td>\n",
       "    </tr>\n",
       "    <tr>\n",
       "      <th>3</th>\n",
       "      <td>ADABoost</td>\n",
       "      <td>0.841238</td>\n",
       "      <td>0.509560</td>\n",
       "      <td>0.812500</td>\n",
       "      <td>0.626322</td>\n",
       "      <td>5.483543</td>\n",
       "      <td>0.829683</td>\n",
       "    </tr>\n",
       "    <tr>\n",
       "      <th>5</th>\n",
       "      <td>XGB</td>\n",
       "      <td>0.882676</td>\n",
       "      <td>0.629167</td>\n",
       "      <td>0.690549</td>\n",
       "      <td>0.658430</td>\n",
       "      <td>4.052281</td>\n",
       "      <td>0.805424</td>\n",
       "    </tr>\n",
       "    <tr>\n",
       "      <th>0</th>\n",
       "      <td>Logistic Regression</td>\n",
       "      <td>0.775087</td>\n",
       "      <td>0.399836</td>\n",
       "      <td>0.745427</td>\n",
       "      <td>0.520490</td>\n",
       "      <td>7.768354</td>\n",
       "      <td>0.763161</td>\n",
       "    </tr>\n",
       "    <tr>\n",
       "      <th>2</th>\n",
       "      <td>RandomForest</td>\n",
       "      <td>0.882676</td>\n",
       "      <td>0.752717</td>\n",
       "      <td>0.422256</td>\n",
       "      <td>0.541016</td>\n",
       "      <td>4.052246</td>\n",
       "      <td>0.697546</td>\n",
       "    </tr>\n",
       "    <tr>\n",
       "      <th>1</th>\n",
       "      <td>Decision Tree</td>\n",
       "      <td>0.840489</td>\n",
       "      <td>0.516315</td>\n",
       "      <td>0.410061</td>\n",
       "      <td>0.457094</td>\n",
       "      <td>5.509356</td>\n",
       "      <td>0.667419</td>\n",
       "    </tr>\n",
       "  </tbody>\n",
       "</table>\n",
       "</div>"
      ],
      "text/plain": [
       "                 model  Accuracy  Precision    Recall  f1-score  Log-loss  \\\n",
       "4                  GBM  0.857963   0.542439  0.847561  0.661511  4.905876   \n",
       "3             ADABoost  0.841238   0.509560  0.812500  0.626322  5.483543   \n",
       "5                  XGB  0.882676   0.629167  0.690549  0.658430  4.052281   \n",
       "0  Logistic Regression  0.775087   0.399836  0.745427  0.520490  7.768354   \n",
       "2         RandomForest  0.882676   0.752717  0.422256  0.541016  4.052246   \n",
       "1        Decision Tree  0.840489   0.516315  0.410061  0.457094  5.509356   \n",
       "\n",
       "        AUC  \n",
       "4  0.853780  \n",
       "3  0.829683  \n",
       "5  0.805424  \n",
       "0  0.763161  \n",
       "2  0.697546  \n",
       "1  0.667419  "
      ]
     },
     "execution_count": 28,
     "metadata": {},
     "output_type": "execute_result"
    }
   ],
   "source": [
    "models_list.sort_values('AUC',ascending=False)"
   ]
  },
  {
   "cell_type": "markdown",
   "metadata": {},
   "source": [
    "# GBM provides the best results with 85.7% accuracy"
   ]
  },
  {
   "cell_type": "markdown",
   "metadata": {},
   "source": [
    "### Hyperparameter Finetuning for Gradient Boosting Model (GBM)\n"
   ]
  },
  {
   "cell_type": "code",
   "execution_count": 29,
   "metadata": {},
   "outputs": [],
   "source": [
    "#importing the boosting algorithm \n",
    "from sklearn.metrics import mean_absolute_error\n",
    "from sklearn.model_selection import train_test_split, GridSearchCV, RandomizedSearchCV\n",
    "from sklearn.ensemble import GradientBoostingClassifier, GradientBoostingRegressor\n",
    "from sklearn.metrics import classification_report"
   ]
  },
  {
   "cell_type": "code",
   "execution_count": 30,
   "metadata": {},
   "outputs": [
    {
     "data": {
      "text/html": [
       "<div>\n",
       "<style scoped>\n",
       "    .dataframe tbody tr th:only-of-type {\n",
       "        vertical-align: middle;\n",
       "    }\n",
       "\n",
       "    .dataframe tbody tr th {\n",
       "        vertical-align: top;\n",
       "    }\n",
       "\n",
       "    .dataframe thead th {\n",
       "        text-align: right;\n",
       "    }\n",
       "</style>\n",
       "<table border=\"1\" class=\"dataframe\">\n",
       "  <thead>\n",
       "    <tr style=\"text-align: right;\">\n",
       "      <th></th>\n",
       "      <th>Unnamed: 0</th>\n",
       "      <th>host_response_time</th>\n",
       "      <th>host_neighbourhood</th>\n",
       "      <th>host_total_listings_count</th>\n",
       "      <th>neighbourhood</th>\n",
       "      <th>neighbourhood_cleansed</th>\n",
       "      <th>latitude</th>\n",
       "      <th>property_type</th>\n",
       "      <th>room_type</th>\n",
       "      <th>beds</th>\n",
       "      <th>...</th>\n",
       "      <th>years_of_hosting</th>\n",
       "      <th>qnum_since_last_review</th>\n",
       "      <th>qnum_since_first_review</th>\n",
       "      <th>hair_dryer</th>\n",
       "      <th>shampoo</th>\n",
       "      <th>hot_water</th>\n",
       "      <th>dishes_and_silverware</th>\n",
       "      <th>luggage_dropoff_allowed</th>\n",
       "      <th>host_is_superhost</th>\n",
       "      <th>split</th>\n",
       "    </tr>\n",
       "  </thead>\n",
       "  <tbody>\n",
       "    <tr>\n",
       "      <th>0</th>\n",
       "      <td>19727</td>\n",
       "      <td>1.0</td>\n",
       "      <td>31.0</td>\n",
       "      <td>1</td>\n",
       "      <td>37.0</td>\n",
       "      <td>7.0</td>\n",
       "      <td>52.369465</td>\n",
       "      <td>1.0</td>\n",
       "      <td>0.0</td>\n",
       "      <td>2</td>\n",
       "      <td>...</td>\n",
       "      <td>8</td>\n",
       "      <td>4</td>\n",
       "      <td>12</td>\n",
       "      <td>1</td>\n",
       "      <td>1</td>\n",
       "      <td>1</td>\n",
       "      <td>0</td>\n",
       "      <td>1</td>\n",
       "      <td>0</td>\n",
       "      <td>test</td>\n",
       "    </tr>\n",
       "    <tr>\n",
       "      <th>1</th>\n",
       "      <td>3644</td>\n",
       "      <td>1.0</td>\n",
       "      <td>45.0</td>\n",
       "      <td>2</td>\n",
       "      <td>54.0</td>\n",
       "      <td>19.0</td>\n",
       "      <td>52.353754</td>\n",
       "      <td>18.0</td>\n",
       "      <td>0.0</td>\n",
       "      <td>5</td>\n",
       "      <td>...</td>\n",
       "      <td>4</td>\n",
       "      <td>6</td>\n",
       "      <td>15</td>\n",
       "      <td>1</td>\n",
       "      <td>1</td>\n",
       "      <td>1</td>\n",
       "      <td>0</td>\n",
       "      <td>1</td>\n",
       "      <td>0</td>\n",
       "      <td>test</td>\n",
       "    </tr>\n",
       "    <tr>\n",
       "      <th>2</th>\n",
       "      <td>14036</td>\n",
       "      <td>1.0</td>\n",
       "      <td>8.0</td>\n",
       "      <td>1</td>\n",
       "      <td>11.0</td>\n",
       "      <td>8.0</td>\n",
       "      <td>52.353056</td>\n",
       "      <td>13.0</td>\n",
       "      <td>0.0</td>\n",
       "      <td>1</td>\n",
       "      <td>...</td>\n",
       "      <td>3</td>\n",
       "      <td>7</td>\n",
       "      <td>12</td>\n",
       "      <td>0</td>\n",
       "      <td>0</td>\n",
       "      <td>1</td>\n",
       "      <td>0</td>\n",
       "      <td>0</td>\n",
       "      <td>0</td>\n",
       "      <td>test</td>\n",
       "    </tr>\n",
       "    <tr>\n",
       "      <th>3</th>\n",
       "      <td>9262</td>\n",
       "      <td>4.0</td>\n",
       "      <td>49.0</td>\n",
       "      <td>1</td>\n",
       "      <td>33.0</td>\n",
       "      <td>17.0</td>\n",
       "      <td>52.357328</td>\n",
       "      <td>1.0</td>\n",
       "      <td>0.0</td>\n",
       "      <td>3</td>\n",
       "      <td>...</td>\n",
       "      <td>7</td>\n",
       "      <td>5</td>\n",
       "      <td>13</td>\n",
       "      <td>1</td>\n",
       "      <td>1</td>\n",
       "      <td>1</td>\n",
       "      <td>1</td>\n",
       "      <td>1</td>\n",
       "      <td>0</td>\n",
       "      <td>test</td>\n",
       "    </tr>\n",
       "    <tr>\n",
       "      <th>4</th>\n",
       "      <td>12343</td>\n",
       "      <td>1.0</td>\n",
       "      <td>9.0</td>\n",
       "      <td>2</td>\n",
       "      <td>12.0</td>\n",
       "      <td>5.0</td>\n",
       "      <td>52.372714</td>\n",
       "      <td>1.0</td>\n",
       "      <td>0.0</td>\n",
       "      <td>3</td>\n",
       "      <td>...</td>\n",
       "      <td>5</td>\n",
       "      <td>6</td>\n",
       "      <td>14</td>\n",
       "      <td>0</td>\n",
       "      <td>1</td>\n",
       "      <td>0</td>\n",
       "      <td>0</td>\n",
       "      <td>0</td>\n",
       "      <td>0</td>\n",
       "      <td>test</td>\n",
       "    </tr>\n",
       "  </tbody>\n",
       "</table>\n",
       "<p>5 rows × 37 columns</p>\n",
       "</div>"
      ],
      "text/plain": [
       "   Unnamed: 0  host_response_time  host_neighbourhood  \\\n",
       "0       19727                 1.0                31.0   \n",
       "1        3644                 1.0                45.0   \n",
       "2       14036                 1.0                 8.0   \n",
       "3        9262                 4.0                49.0   \n",
       "4       12343                 1.0                 9.0   \n",
       "\n",
       "   host_total_listings_count  neighbourhood  neighbourhood_cleansed  \\\n",
       "0                          1           37.0                     7.0   \n",
       "1                          2           54.0                    19.0   \n",
       "2                          1           11.0                     8.0   \n",
       "3                          1           33.0                    17.0   \n",
       "4                          2           12.0                     5.0   \n",
       "\n",
       "    latitude  property_type  room_type  beds  ...  years_of_hosting  \\\n",
       "0  52.369465            1.0        0.0     2  ...                 8   \n",
       "1  52.353754           18.0        0.0     5  ...                 4   \n",
       "2  52.353056           13.0        0.0     1  ...                 3   \n",
       "3  52.357328            1.0        0.0     3  ...                 7   \n",
       "4  52.372714            1.0        0.0     3  ...                 5   \n",
       "\n",
       "   qnum_since_last_review  qnum_since_first_review  hair_dryer  shampoo  \\\n",
       "0                       4                       12           1        1   \n",
       "1                       6                       15           1        1   \n",
       "2                       7                       12           0        0   \n",
       "3                       5                       13           1        1   \n",
       "4                       6                       14           0        1   \n",
       "\n",
       "   hot_water  dishes_and_silverware  luggage_dropoff_allowed  \\\n",
       "0          1                      0                        1   \n",
       "1          1                      0                        1   \n",
       "2          1                      0                        0   \n",
       "3          1                      1                        1   \n",
       "4          0                      0                        0   \n",
       "\n",
       "   host_is_superhost  split  \n",
       "0                  0   test  \n",
       "1                  0   test  \n",
       "2                  0   test  \n",
       "3                  0   test  \n",
       "4                  0   test  \n",
       "\n",
       "[5 rows x 37 columns]"
      ]
     },
     "execution_count": 30,
     "metadata": {},
     "output_type": "execute_result"
    }
   ],
   "source": [
    "test = pd.read_csv('Amsterdam_test.csv')\n",
    "test.head()"
   ]
  },
  {
   "cell_type": "code",
   "execution_count": 31,
   "metadata": {},
   "outputs": [],
   "source": [
    "del test['Unnamed: 0']\n",
    "del test['split']"
   ]
  },
  {
   "cell_type": "code",
   "execution_count": 32,
   "metadata": {},
   "outputs": [],
   "source": [
    "X_test = test.loc[:,test.columns != 'host_is_superhost']\n",
    "y_test = test['host_is_superhost']"
   ]
  },
  {
   "cell_type": "markdown",
   "metadata": {},
   "source": [
    "## Random Search"
   ]
  },
  {
   "cell_type": "code",
   "execution_count": 33,
   "metadata": {},
   "outputs": [
    {
     "data": {
      "text/plain": [
       "dict_keys(['ccp_alpha', 'criterion', 'init', 'learning_rate', 'loss', 'max_depth', 'max_features', 'max_leaf_nodes', 'min_impurity_decrease', 'min_samples_leaf', 'min_samples_split', 'min_weight_fraction_leaf', 'n_estimators', 'n_iter_no_change', 'random_state', 'subsample', 'tol', 'validation_fraction', 'verbose', 'warm_start'])"
      ]
     },
     "execution_count": 33,
     "metadata": {},
     "output_type": "execute_result"
    }
   ],
   "source": [
    "#Calling Gradient boosting classifier\n",
    "GB = GradientBoostingClassifier()\n",
    "GB.get_params().keys()"
   ]
  },
  {
   "cell_type": "markdown",
   "metadata": {},
   "source": [
    "Creating Parameters"
   ]
  },
  {
   "cell_type": "code",
   "execution_count": 34,
   "metadata": {},
   "outputs": [
    {
     "data": {
      "text/plain": [
       "array([ 10.,  20.,  30.,  40.,  50.,  60.,  70.,  80.,  90., 100., 110.])"
      ]
     },
     "execution_count": 34,
     "metadata": {},
     "output_type": "execute_result"
    }
   ],
   "source": [
    "#Creating array for the next to come n_estimator\n",
    "np.linspace(10, 110, num = 11)"
   ]
  },
  {
   "cell_type": "code",
   "execution_count": 35,
   "metadata": {},
   "outputs": [],
   "source": [
    "# Number of trees in GBM\n",
    "n_estimators = [int(x) for x in np.linspace(start = 100, stop = 1000, num = 10)]\n",
    "# Number of features to consider at every split\n",
    "max_features = ['auto', 'sqrt']\n",
    "# Maximum number of levels in tree\n",
    "#max_depth=10\n",
    "max_depth = [int(x) for x in np.linspace(10, 110, num = 11)]\n",
    "max_depth.append(None)\n",
    "#Minimum number of samples required to split a node\n",
    "min_samples_split = [500]\n",
    "# Minimum number of samples required at each leaf node\n",
    "min_samples_leaf = [50]\n",
    "# This is a commonly used used start value\n",
    "subsample = [0.8]\n",
    "#Checking recomendations for GBM and imbalanced data\n",
    "#resource https://www.analyticsvidhya.com/blog/2016/02/complete-guide-parameter-tuning-gradient-boosting-gbm-python/"
   ]
  },
  {
   "cell_type": "code",
   "execution_count": 36,
   "metadata": {},
   "outputs": [
    {
     "name": "stdout",
     "output_type": "stream",
     "text": [
      "{'n_estimators': [100, 200, 300, 400, 500, 600, 700, 800, 900, 1000], 'max_features': ['auto', 'sqrt'], 'max_depth': [10, 20, 30, 40, 50, 60, 70, 80, 90, 100, 110, None], 'min_samples_split': [500], 'min_samples_leaf': [50], 'subsample': [0.8]}\n"
     ]
    }
   ],
   "source": [
    "# Creating random grid\n",
    "random_grid = {'n_estimators': n_estimators,\n",
    "               'max_features': max_features,\n",
    "               'max_depth': max_depth,\n",
    "               'min_samples_split': min_samples_split,\n",
    "               'min_samples_leaf': min_samples_leaf,\n",
    "               'subsample':subsample,\n",
    "              }\n",
    "\n",
    "print(random_grid)"
   ]
  },
  {
   "cell_type": "code",
   "execution_count": 37,
   "metadata": {},
   "outputs": [],
   "source": [
    "gb_random = RandomizedSearchCV(estimator = GB, param_distributions = random_grid, verbose=2, random_state=42, cv=5)"
   ]
  },
  {
   "cell_type": "code",
   "execution_count": 38,
   "metadata": {
    "scrolled": true
   },
   "outputs": [
    {
     "name": "stdout",
     "output_type": "stream",
     "text": [
      "Fitting 5 folds for each of 10 candidates, totalling 50 fits\n",
      "[CV] END max_depth=20, max_features=auto, min_samples_leaf=50, min_samples_split=500, n_estimators=500, subsample=0.8; total time=  44.5s\n",
      "[CV] END max_depth=20, max_features=auto, min_samples_leaf=50, min_samples_split=500, n_estimators=500, subsample=0.8; total time=  43.2s\n",
      "[CV] END max_depth=20, max_features=auto, min_samples_leaf=50, min_samples_split=500, n_estimators=500, subsample=0.8; total time=  43.2s\n",
      "[CV] END max_depth=20, max_features=auto, min_samples_leaf=50, min_samples_split=500, n_estimators=500, subsample=0.8; total time=  44.0s\n",
      "[CV] END max_depth=20, max_features=auto, min_samples_leaf=50, min_samples_split=500, n_estimators=500, subsample=0.8; total time=  43.1s\n",
      "[CV] END max_depth=10, max_features=auto, min_samples_leaf=50, min_samples_split=500, n_estimators=700, subsample=0.8; total time=  47.8s\n",
      "[CV] END max_depth=10, max_features=auto, min_samples_leaf=50, min_samples_split=500, n_estimators=700, subsample=0.8; total time=  48.4s\n",
      "[CV] END max_depth=10, max_features=auto, min_samples_leaf=50, min_samples_split=500, n_estimators=700, subsample=0.8; total time=  48.4s\n",
      "[CV] END max_depth=10, max_features=auto, min_samples_leaf=50, min_samples_split=500, n_estimators=700, subsample=0.8; total time=  48.5s\n",
      "[CV] END max_depth=10, max_features=auto, min_samples_leaf=50, min_samples_split=500, n_estimators=700, subsample=0.8; total time=  47.9s\n",
      "[CV] END max_depth=50, max_features=sqrt, min_samples_leaf=50, min_samples_split=500, n_estimators=400, subsample=0.8; total time=   6.9s\n",
      "[CV] END max_depth=50, max_features=sqrt, min_samples_leaf=50, min_samples_split=500, n_estimators=400, subsample=0.8; total time=   7.3s\n",
      "[CV] END max_depth=50, max_features=sqrt, min_samples_leaf=50, min_samples_split=500, n_estimators=400, subsample=0.8; total time=   7.1s\n",
      "[CV] END max_depth=50, max_features=sqrt, min_samples_leaf=50, min_samples_split=500, n_estimators=400, subsample=0.8; total time=   7.2s\n",
      "[CV] END max_depth=50, max_features=sqrt, min_samples_leaf=50, min_samples_split=500, n_estimators=400, subsample=0.8; total time=   7.0s\n",
      "[CV] END max_depth=60, max_features=auto, min_samples_leaf=50, min_samples_split=500, n_estimators=1000, subsample=0.8; total time= 1.5min\n",
      "[CV] END max_depth=60, max_features=auto, min_samples_leaf=50, min_samples_split=500, n_estimators=1000, subsample=0.8; total time= 1.5min\n",
      "[CV] END max_depth=60, max_features=auto, min_samples_leaf=50, min_samples_split=500, n_estimators=1000, subsample=0.8; total time= 1.5min\n",
      "[CV] END max_depth=60, max_features=auto, min_samples_leaf=50, min_samples_split=500, n_estimators=1000, subsample=0.8; total time= 1.5min\n",
      "[CV] END max_depth=60, max_features=auto, min_samples_leaf=50, min_samples_split=500, n_estimators=1000, subsample=0.8; total time= 1.5min\n",
      "[CV] END max_depth=60, max_features=auto, min_samples_leaf=50, min_samples_split=500, n_estimators=500, subsample=0.8; total time=  44.9s\n",
      "[CV] END max_depth=60, max_features=auto, min_samples_leaf=50, min_samples_split=500, n_estimators=500, subsample=0.8; total time=  45.1s\n",
      "[CV] END max_depth=60, max_features=auto, min_samples_leaf=50, min_samples_split=500, n_estimators=500, subsample=0.8; total time=  44.4s\n",
      "[CV] END max_depth=60, max_features=auto, min_samples_leaf=50, min_samples_split=500, n_estimators=500, subsample=0.8; total time=  44.3s\n",
      "[CV] END max_depth=60, max_features=auto, min_samples_leaf=50, min_samples_split=500, n_estimators=500, subsample=0.8; total time=  45.0s\n",
      "[CV] END max_depth=90, max_features=sqrt, min_samples_leaf=50, min_samples_split=500, n_estimators=300, subsample=0.8; total time=   5.3s\n",
      "[CV] END max_depth=90, max_features=sqrt, min_samples_leaf=50, min_samples_split=500, n_estimators=300, subsample=0.8; total time=   5.2s\n",
      "[CV] END max_depth=90, max_features=sqrt, min_samples_leaf=50, min_samples_split=500, n_estimators=300, subsample=0.8; total time=   5.2s\n",
      "[CV] END max_depth=90, max_features=sqrt, min_samples_leaf=50, min_samples_split=500, n_estimators=300, subsample=0.8; total time=   5.3s\n",
      "[CV] END max_depth=90, max_features=sqrt, min_samples_leaf=50, min_samples_split=500, n_estimators=300, subsample=0.8; total time=   5.5s\n",
      "[CV] END max_depth=None, max_features=sqrt, min_samples_leaf=50, min_samples_split=500, n_estimators=400, subsample=0.8; total time=   7.1s\n",
      "[CV] END max_depth=None, max_features=sqrt, min_samples_leaf=50, min_samples_split=500, n_estimators=400, subsample=0.8; total time=   7.0s\n",
      "[CV] END max_depth=None, max_features=sqrt, min_samples_leaf=50, min_samples_split=500, n_estimators=400, subsample=0.8; total time=   7.0s\n",
      "[CV] END max_depth=None, max_features=sqrt, min_samples_leaf=50, min_samples_split=500, n_estimators=400, subsample=0.8; total time=   7.0s\n",
      "[CV] END max_depth=None, max_features=sqrt, min_samples_leaf=50, min_samples_split=500, n_estimators=400, subsample=0.8; total time=   7.1s\n",
      "[CV] END max_depth=50, max_features=auto, min_samples_leaf=50, min_samples_split=500, n_estimators=700, subsample=0.8; total time= 1.0min\n",
      "[CV] END max_depth=50, max_features=auto, min_samples_leaf=50, min_samples_split=500, n_estimators=700, subsample=0.8; total time= 1.0min\n",
      "[CV] END max_depth=50, max_features=auto, min_samples_leaf=50, min_samples_split=500, n_estimators=700, subsample=0.8; total time= 1.1min\n",
      "[CV] END max_depth=50, max_features=auto, min_samples_leaf=50, min_samples_split=500, n_estimators=700, subsample=0.8; total time= 1.1min\n",
      "[CV] END max_depth=50, max_features=auto, min_samples_leaf=50, min_samples_split=500, n_estimators=700, subsample=0.8; total time= 1.0min\n",
      "[CV] END max_depth=10, max_features=auto, min_samples_leaf=50, min_samples_split=500, n_estimators=1000, subsample=0.8; total time= 1.2min\n",
      "[CV] END max_depth=10, max_features=auto, min_samples_leaf=50, min_samples_split=500, n_estimators=1000, subsample=0.8; total time= 1.1min\n",
      "[CV] END max_depth=10, max_features=auto, min_samples_leaf=50, min_samples_split=500, n_estimators=1000, subsample=0.8; total time= 1.2min\n",
      "[CV] END max_depth=10, max_features=auto, min_samples_leaf=50, min_samples_split=500, n_estimators=1000, subsample=0.8; total time= 1.1min\n",
      "[CV] END max_depth=10, max_features=auto, min_samples_leaf=50, min_samples_split=500, n_estimators=1000, subsample=0.8; total time= 1.1min\n",
      "[CV] END max_depth=80, max_features=auto, min_samples_leaf=50, min_samples_split=500, n_estimators=400, subsample=0.8; total time=  36.5s\n",
      "[CV] END max_depth=80, max_features=auto, min_samples_leaf=50, min_samples_split=500, n_estimators=400, subsample=0.8; total time=  35.4s\n",
      "[CV] END max_depth=80, max_features=auto, min_samples_leaf=50, min_samples_split=500, n_estimators=400, subsample=0.8; total time=  35.9s\n",
      "[CV] END max_depth=80, max_features=auto, min_samples_leaf=50, min_samples_split=500, n_estimators=400, subsample=0.8; total time=  36.0s\n",
      "[CV] END max_depth=80, max_features=auto, min_samples_leaf=50, min_samples_split=500, n_estimators=400, subsample=0.8; total time=  35.8s\n"
     ]
    },
    {
     "data": {
      "text/plain": [
       "RandomizedSearchCV(cv=5, estimator=GradientBoostingClassifier(),\n",
       "                   param_distributions={'max_depth': [10, 20, 30, 40, 50, 60,\n",
       "                                                      70, 80, 90, 100, 110,\n",
       "                                                      None],\n",
       "                                        'max_features': ['auto', 'sqrt'],\n",
       "                                        'min_samples_leaf': [50],\n",
       "                                        'min_samples_split': [500],\n",
       "                                        'n_estimators': [100, 200, 300, 400,\n",
       "                                                         500, 600, 700, 800,\n",
       "                                                         900, 1000],\n",
       "                                        'subsample': [0.8]},\n",
       "                   random_state=42, verbose=2)"
      ]
     },
     "execution_count": 38,
     "metadata": {},
     "output_type": "execute_result"
    }
   ],
   "source": [
    "# Fit the random search model\n",
    "gb_random.fit(X_train, y_train)"
   ]
  },
  {
   "cell_type": "code",
   "execution_count": 39,
   "metadata": {},
   "outputs": [
    {
     "data": {
      "text/plain": [
       "{'subsample': 0.8,\n",
       " 'n_estimators': 1000,\n",
       " 'min_samples_split': 500,\n",
       " 'min_samples_leaf': 50,\n",
       " 'max_features': 'auto',\n",
       " 'max_depth': 60}"
      ]
     },
     "execution_count": 39,
     "metadata": {},
     "output_type": "execute_result"
    }
   ],
   "source": [
    " gb_random.best_params_"
   ]
  },
  {
   "cell_type": "code",
   "execution_count": 40,
   "metadata": {},
   "outputs": [],
   "source": [
    "def evaluate(model, test_features, test_labels):\n",
    "    predictions = model.predict(test_features)\n",
    "    errors = abs(predictions - test_labels)\n",
    "    mae = 100 * np.mean(errors)\n",
    "    print('Model Performance')\n",
    "    print('Mean Absolute Error: {:0.4f}'.format(np.mean(errors)))\n",
    "    return mae"
   ]
  },
  {
   "cell_type": "markdown",
   "metadata": {},
   "source": [
    "### Runing base model"
   ]
  },
  {
   "cell_type": "code",
   "execution_count": 41,
   "metadata": {},
   "outputs": [
    {
     "name": "stdout",
     "output_type": "stream",
     "text": [
      "Model Performance\n",
      "Mean Absolute Error: 0.1198\n"
     ]
    }
   ],
   "source": [
    "base_model = GradientBoostingClassifier(n_estimators = 1000, random_state = 4)\n",
    "base_model.fit(X_train, y_train)\n",
    "base_accuracy = evaluate(base_model, X_test, y_test)"
   ]
  },
  {
   "cell_type": "markdown",
   "metadata": {},
   "source": [
    "### Compare fine-tunned model"
   ]
  },
  {
   "cell_type": "markdown",
   "metadata": {},
   "source": [
    "Choosing the best model of the cv we run with test:"
   ]
  },
  {
   "cell_type": "code",
   "execution_count": 42,
   "metadata": {},
   "outputs": [
    {
     "name": "stdout",
     "output_type": "stream",
     "text": [
      "Model Performance\n",
      "Mean Absolute Error: 0.1048\n"
     ]
    }
   ],
   "source": [
    "best_random = gb_random.best_estimator_\n",
    "random_accuracy = evaluate(best_random, X_test, y_test)"
   ]
  },
  {
   "cell_type": "markdown",
   "metadata": {},
   "source": [
    "We got a better result - smaller error, thus we have an improvment on the finetuning model:"
   ]
  },
  {
   "cell_type": "code",
   "execution_count": 43,
   "metadata": {},
   "outputs": [
    {
     "name": "stdout",
     "output_type": "stream",
     "text": [
      "Improvement of 12.50%.\n"
     ]
    }
   ],
   "source": [
    "print('Improvement of {:0.2f}%.'.format( 100 * (base_accuracy - random_accuracy) / base_accuracy))"
   ]
  },
  {
   "cell_type": "markdown",
   "metadata": {},
   "source": [
    "Running the model with Dev:"
   ]
  },
  {
   "cell_type": "code",
   "execution_count": 52,
   "metadata": {},
   "outputs": [
    {
     "name": "stdout",
     "output_type": "stream",
     "text": [
      "Model Performance\n",
      "Mean Absolute Error: 0.1221\n"
     ]
    }
   ],
   "source": [
    "base_accuracy_dev = evaluate(base_model, X_dev, y_dev)"
   ]
  },
  {
   "cell_type": "code",
   "execution_count": 50,
   "metadata": {},
   "outputs": [
    {
     "name": "stdout",
     "output_type": "stream",
     "text": [
      "Model Performance\n",
      "Mean Absolute Error: 0.1071\n"
     ]
    }
   ],
   "source": [
    "#best_random = gb_random.best_estimator_\n",
    "random_accuracy_dev = evaluate(best_random, X_dev, y_dev)"
   ]
  },
  {
   "cell_type": "code",
   "execution_count": 51,
   "metadata": {},
   "outputs": [
    {
     "name": "stdout",
     "output_type": "stream",
     "text": [
      "Improvement of 12.27%.\n"
     ]
    }
   ],
   "source": [
    "print('Improvement of {:0.2f}%.'.format( 100 * (base_accuracy_dev - random_accuracy_dev) / base_accuracy_dev))"
   ]
  },
  {
   "cell_type": "markdown",
   "metadata": {},
   "source": [
    "The Improvment is very close for  Dev and Test "
   ]
  },
  {
   "cell_type": "markdown",
   "metadata": {},
   "source": [
    "### Grid Searh Cross -Validation"
   ]
  },
  {
   "cell_type": "markdown",
   "metadata": {},
   "source": [
    "We will use the best parametrs from pervoius random search and will stay in the neighborhood with the grid search parameters"
   ]
  },
  {
   "cell_type": "code",
   "execution_count": 48,
   "metadata": {},
   "outputs": [],
   "source": [
    "#{'subsample': 0.8, p- not callable by gridsearch\n",
    "# 'n_estimators': 1000,\n",
    "#'min_samples_split': 500,\n",
    "# 'min_samples_leaf': 50,\n",
    "# 'max_features': 'auto',\n",
    "# 'max_depth': 60}"
   ]
  },
  {
   "cell_type": "code",
   "execution_count": 53,
   "metadata": {},
   "outputs": [],
   "source": [
    "#Creating Grid \n",
    "param_grid = {'max_depth': [55, 60],\n",
    "              'max_features': ['auto'],\n",
    "              'min_samples_leaf': [45, 50],\n",
    "              'min_samples_split': [500],\n",
    "              'n_estimators': [1000]\n",
    "              }\n",
    "\n",
    "#GB = GradientBoostingClassifier()"
   ]
  },
  {
   "cell_type": "code",
   "execution_count": 54,
   "metadata": {},
   "outputs": [],
   "source": [
    "grid_search = GridSearchCV(estimator = GB, param_grid = param_grid, cv = 3, n_jobs = -1, verbose = 2)"
   ]
  },
  {
   "cell_type": "code",
   "execution_count": 55,
   "metadata": {},
   "outputs": [
    {
     "name": "stdout",
     "output_type": "stream",
     "text": [
      "Fitting 3 folds for each of 4 candidates, totalling 12 fits\n"
     ]
    },
    {
     "data": {
      "text/plain": [
       "GridSearchCV(cv=3, estimator=GradientBoostingClassifier(), n_jobs=-1,\n",
       "             param_grid={'max_depth': [55, 60], 'max_features': ['auto'],\n",
       "                         'min_samples_leaf': [45, 50],\n",
       "                         'min_samples_split': [500], 'n_estimators': [1000]},\n",
       "             verbose=2)"
      ]
     },
     "execution_count": 55,
     "metadata": {},
     "output_type": "execute_result"
    }
   ],
   "source": [
    "# Fit the grid search to the data\n",
    "grid_search.fit(X_train, y_train)"
   ]
  },
  {
   "cell_type": "code",
   "execution_count": 56,
   "metadata": {},
   "outputs": [
    {
     "data": {
      "text/plain": [
       "{'max_depth': 55,\n",
       " 'max_features': 'auto',\n",
       " 'min_samples_leaf': 45,\n",
       " 'min_samples_split': 500,\n",
       " 'n_estimators': 1000}"
      ]
     },
     "execution_count": 56,
     "metadata": {},
     "output_type": "execute_result"
    }
   ],
   "source": [
    "grid_search.best_params_"
   ]
  },
  {
   "cell_type": "markdown",
   "metadata": {},
   "source": [
    "Running the model with test"
   ]
  },
  {
   "cell_type": "code",
   "execution_count": 57,
   "metadata": {},
   "outputs": [
    {
     "name": "stdout",
     "output_type": "stream",
     "text": [
      "Model Performance\n",
      "Mean Absolute Error: 0.1106\n"
     ]
    }
   ],
   "source": [
    "best_grid = grid_search.best_estimator_\n",
    "grid_accuracy = evaluate(best_grid, X_test, y_test)"
   ]
  },
  {
   "cell_type": "code",
   "execution_count": 58,
   "metadata": {},
   "outputs": [
    {
     "name": "stdout",
     "output_type": "stream",
     "text": [
      "Improvement of 7.71%.\n"
     ]
    }
   ],
   "source": [
    "print('Improvement of {:0.2f}%.'.format( 100 * (base_accuracy - grid_accuracy) / base_accuracy))"
   ]
  },
  {
   "cell_type": "markdown",
   "metadata": {},
   "source": [
    "Running the model with dev"
   ]
  },
  {
   "cell_type": "code",
   "execution_count": 59,
   "metadata": {},
   "outputs": [
    {
     "name": "stdout",
     "output_type": "stream",
     "text": [
      "Model Performance\n",
      "Mean Absolute Error: 0.1088\n"
     ]
    }
   ],
   "source": [
    "best_grid = grid_search.best_estimator_\n",
    "grid_accuracy_dev = evaluate(best_grid, X_dev, y_dev)"
   ]
  },
  {
   "cell_type": "code",
   "execution_count": 60,
   "metadata": {},
   "outputs": [
    {
     "name": "stdout",
     "output_type": "stream",
     "text": [
      "Improvement of 9.17%.\n"
     ]
    }
   ],
   "source": [
    "print('Improvement of {:0.2f}%.'.format( 100 * (base_accuracy - grid_accuracy_dev) / base_accuracy))"
   ]
  },
  {
   "cell_type": "markdown",
   "metadata": {},
   "source": [
    "gb_random.best_estimator_ provides the best improvment and similar results between Train, Dev and Test"
   ]
  },
  {
   "cell_type": "markdown",
   "metadata": {},
   "source": [
    "### gb_random.best_estimator_ model is now saved ang moving forward to production "
   ]
  },
  {
   "cell_type": "markdown",
   "metadata": {},
   "source": [
    "# END"
   ]
  }
 ],
 "metadata": {
  "kernelspec": {
   "display_name": "Python 3",
   "language": "python",
   "name": "python3"
  },
  "language_info": {
   "codemirror_mode": {
    "name": "ipython",
    "version": 3
   },
   "file_extension": ".py",
   "mimetype": "text/x-python",
   "name": "python",
   "nbconvert_exporter": "python",
   "pygments_lexer": "ipython3",
   "version": "3.8.8"
  }
 },
 "nbformat": 4,
 "nbformat_minor": 4
}
