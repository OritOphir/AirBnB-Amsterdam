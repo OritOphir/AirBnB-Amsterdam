{
 "cells": [
  {
   "cell_type": "markdown",
   "id": "1a55e52c",
   "metadata": {},
   "source": [
    "# Stage 5: Imbalanced Dataset"
   ]
  },
  {
   "cell_type": "markdown",
   "id": "cc87fb94",
   "metadata": {},
   "source": [
    "Class Imbalance is a common problem in machine learning, especially in classification.\n",
    "Most ML algorithms work best when the number of samples in each class are about equal.\n",
    "Our dataset is imbalanced with a target value of 15%; We will get high accuracy just by predicting the majority class, but we will fail to capture the minority class, which is the point of creating the model in the first place.\n",
    "In this stage we will find the technique to find the dataset balance that will provide us with the best performance. "
   ]
  },
  {
   "cell_type": "code",
   "execution_count": 1,
   "id": "1670ca14",
   "metadata": {},
   "outputs": [
    {
     "name": "stdout",
     "output_type": "stream",
     "text": [
      "Requirement already satisfied: matplotlib in c:\\users\\ophir\\anaconda3\\lib\\site-packages (3.5.2)\n",
      "Requirement already satisfied: pillow>=6.2.0 in c:\\users\\ophir\\anaconda3\\lib\\site-packages (from matplotlib) (8.2.0)\n",
      "Requirement already satisfied: cycler>=0.10 in c:\\users\\ophir\\anaconda3\\lib\\site-packages (from matplotlib) (0.10.0)\n",
      "Requirement already satisfied: numpy>=1.17 in c:\\users\\ophir\\anaconda3\\lib\\site-packages (from matplotlib) (1.22.4)\n",
      "Requirement already satisfied: packaging>=20.0 in c:\\users\\ophir\\anaconda3\\lib\\site-packages (from matplotlib) (20.9)\n",
      "Requirement already satisfied: kiwisolver>=1.0.1 in c:\\users\\ophir\\anaconda3\\lib\\site-packages (from matplotlib) (1.3.1)\n",
      "Requirement already satisfied: python-dateutil>=2.7 in c:\\users\\ophir\\anaconda3\\lib\\site-packages (from matplotlib) (2.8.1)\n",
      "Requirement already satisfied: pyparsing>=2.2.1 in c:\\users\\ophir\\anaconda3\\lib\\site-packages (from matplotlib) (2.4.7)\n",
      "Requirement already satisfied: fonttools>=4.22.0 in c:\\users\\ophir\\anaconda3\\lib\\site-packages (from matplotlib) (4.33.3)\n",
      "Requirement already satisfied: six in c:\\users\\ophir\\anaconda3\\lib\\site-packages (from cycler>=0.10->matplotlib) (1.15.0)\n",
      "Requirement already satisfied: imbalanced-learn in c:\\users\\ophir\\anaconda3\\lib\\site-packages (0.9.1)\n",
      "Requirement already satisfied: scikit-learn>=1.1.0 in c:\\users\\ophir\\anaconda3\\lib\\site-packages (from imbalanced-learn) (1.1.1)\n",
      "Requirement already satisfied: threadpoolctl>=2.0.0 in c:\\users\\ophir\\anaconda3\\lib\\site-packages (from imbalanced-learn) (2.1.0)\n",
      "Requirement already satisfied: scipy>=1.3.2 in c:\\users\\ophir\\anaconda3\\lib\\site-packages (from imbalanced-learn) (1.6.2)\n",
      "Requirement already satisfied: joblib>=1.0.0 in c:\\users\\ophir\\anaconda3\\lib\\site-packages (from imbalanced-learn) (1.0.1)\n",
      "Requirement already satisfied: numpy>=1.17.3 in c:\\users\\ophir\\anaconda3\\lib\\site-packages (from imbalanced-learn) (1.22.4)\n",
      "0.9.1\n"
     ]
    }
   ],
   "source": [
    "#PART 1\n",
    "!pip install matplotlib\n",
    "!pip install imbalanced-learn\n",
    "import imblearn\n",
    "print(imblearn.__version__)\n",
    "#import random undersampling and other necessary libraries \n",
    "from collections import Counter\n",
    "from imblearn.under_sampling import RandomUnderSampler\n",
    "from sklearn.model_selection import train_test_split\n",
    "from imblearn.pipeline import Pipeline\n",
    "from sklearn.model_selection import cross_validate\n",
    "from sklearn.model_selection import RepeatedStratifiedKFold\n",
    "import pandas as pd\n",
    "import numpy as np\n",
    "import warnings\n",
    "warnings.simplefilter(action='ignore', category=FutureWarning)\n",
    "import pandas as pd\n",
    "import numpy as np\n",
    "import seaborn as sns\n",
    "import matplotlib.pyplot as plt\n",
    "warnings.filterwarnings(\"ignore\")"
   ]
  },
  {
   "cell_type": "markdown",
   "id": "9d48a50b",
   "metadata": {},
   "source": [
    "Imbalanced dataset process is performed with the train dataframe only"
   ]
  },
  {
   "cell_type": "code",
   "execution_count": 2,
   "id": "101e8153",
   "metadata": {
    "scrolled": true
   },
   "outputs": [
    {
     "data": {
      "text/html": [
       "<div>\n",
       "<style scoped>\n",
       "    .dataframe tbody tr th:only-of-type {\n",
       "        vertical-align: middle;\n",
       "    }\n",
       "\n",
       "    .dataframe tbody tr th {\n",
       "        vertical-align: top;\n",
       "    }\n",
       "\n",
       "    .dataframe thead th {\n",
       "        text-align: right;\n",
       "    }\n",
       "</style>\n",
       "<table border=\"1\" class=\"dataframe\">\n",
       "  <thead>\n",
       "    <tr style=\"text-align: right;\">\n",
       "      <th></th>\n",
       "      <th>Unnamed: 0</th>\n",
       "      <th>host_neighbourhood</th>\n",
       "      <th>host_total_listings_count</th>\n",
       "      <th>host_identity_verified</th>\n",
       "      <th>neighbourhood</th>\n",
       "      <th>neighbourhood_cleansed</th>\n",
       "      <th>latitude</th>\n",
       "      <th>longitude</th>\n",
       "      <th>property_type</th>\n",
       "      <th>room_type</th>\n",
       "      <th>...</th>\n",
       "      <th>availability_365</th>\n",
       "      <th>number_of_reviews</th>\n",
       "      <th>review_scores_rating</th>\n",
       "      <th>review_scores_accuracy</th>\n",
       "      <th>review_scores_cleanliness</th>\n",
       "      <th>review_scores_checkin</th>\n",
       "      <th>review_scores_communication</th>\n",
       "      <th>review_scores_location</th>\n",
       "      <th>host_is_superhost</th>\n",
       "      <th>split</th>\n",
       "    </tr>\n",
       "  </thead>\n",
       "  <tbody>\n",
       "    <tr>\n",
       "      <th>0</th>\n",
       "      <td>5554</td>\n",
       "      <td>16.0</td>\n",
       "      <td>1</td>\n",
       "      <td>1</td>\n",
       "      <td>19.0</td>\n",
       "      <td>5.0</td>\n",
       "      <td>52.380491</td>\n",
       "      <td>4.887432</td>\n",
       "      <td>1.0</td>\n",
       "      <td>0.0</td>\n",
       "      <td>...</td>\n",
       "      <td>158</td>\n",
       "      <td>16</td>\n",
       "      <td>100</td>\n",
       "      <td>10</td>\n",
       "      <td>10</td>\n",
       "      <td>10</td>\n",
       "      <td>10</td>\n",
       "      <td>10</td>\n",
       "      <td>0</td>\n",
       "      <td>0.0</td>\n",
       "    </tr>\n",
       "    <tr>\n",
       "      <th>1</th>\n",
       "      <td>4382</td>\n",
       "      <td>31.0</td>\n",
       "      <td>1</td>\n",
       "      <td>0</td>\n",
       "      <td>37.0</td>\n",
       "      <td>7.0</td>\n",
       "      <td>52.367068</td>\n",
       "      <td>4.866769</td>\n",
       "      <td>1.0</td>\n",
       "      <td>1.0</td>\n",
       "      <td>...</td>\n",
       "      <td>34</td>\n",
       "      <td>12</td>\n",
       "      <td>87</td>\n",
       "      <td>9</td>\n",
       "      <td>9</td>\n",
       "      <td>9</td>\n",
       "      <td>9</td>\n",
       "      <td>9</td>\n",
       "      <td>0</td>\n",
       "      <td>0.0</td>\n",
       "    </tr>\n",
       "    <tr>\n",
       "      <th>2</th>\n",
       "      <td>13026</td>\n",
       "      <td>41.0</td>\n",
       "      <td>1</td>\n",
       "      <td>0</td>\n",
       "      <td>50.0</td>\n",
       "      <td>16.0</td>\n",
       "      <td>52.391986</td>\n",
       "      <td>4.925497</td>\n",
       "      <td>13.0</td>\n",
       "      <td>0.0</td>\n",
       "      <td>...</td>\n",
       "      <td>0</td>\n",
       "      <td>10</td>\n",
       "      <td>92</td>\n",
       "      <td>9</td>\n",
       "      <td>9</td>\n",
       "      <td>9</td>\n",
       "      <td>10</td>\n",
       "      <td>9</td>\n",
       "      <td>0</td>\n",
       "      <td>0.0</td>\n",
       "    </tr>\n",
       "    <tr>\n",
       "      <th>3</th>\n",
       "      <td>7085</td>\n",
       "      <td>8.0</td>\n",
       "      <td>1</td>\n",
       "      <td>1</td>\n",
       "      <td>11.0</td>\n",
       "      <td>8.0</td>\n",
       "      <td>52.350850</td>\n",
       "      <td>4.895104</td>\n",
       "      <td>1.0</td>\n",
       "      <td>0.0</td>\n",
       "      <td>...</td>\n",
       "      <td>0</td>\n",
       "      <td>13</td>\n",
       "      <td>97</td>\n",
       "      <td>10</td>\n",
       "      <td>9</td>\n",
       "      <td>10</td>\n",
       "      <td>10</td>\n",
       "      <td>10</td>\n",
       "      <td>0</td>\n",
       "      <td>0.0</td>\n",
       "    </tr>\n",
       "    <tr>\n",
       "      <th>4</th>\n",
       "      <td>16572</td>\n",
       "      <td>31.0</td>\n",
       "      <td>1</td>\n",
       "      <td>0</td>\n",
       "      <td>37.0</td>\n",
       "      <td>7.0</td>\n",
       "      <td>52.369953</td>\n",
       "      <td>4.858866</td>\n",
       "      <td>15.0</td>\n",
       "      <td>0.0</td>\n",
       "      <td>...</td>\n",
       "      <td>0</td>\n",
       "      <td>14</td>\n",
       "      <td>80</td>\n",
       "      <td>9</td>\n",
       "      <td>7</td>\n",
       "      <td>8</td>\n",
       "      <td>9</td>\n",
       "      <td>9</td>\n",
       "      <td>0</td>\n",
       "      <td>0.0</td>\n",
       "    </tr>\n",
       "  </tbody>\n",
       "</table>\n",
       "<p>5 rows × 34 columns</p>\n",
       "</div>"
      ],
      "text/plain": [
       "   Unnamed: 0  host_neighbourhood  host_total_listings_count  \\\n",
       "0        5554                16.0                          1   \n",
       "1        4382                31.0                          1   \n",
       "2       13026                41.0                          1   \n",
       "3        7085                 8.0                          1   \n",
       "4       16572                31.0                          1   \n",
       "\n",
       "   host_identity_verified  neighbourhood  neighbourhood_cleansed   latitude  \\\n",
       "0                       1           19.0                     5.0  52.380491   \n",
       "1                       0           37.0                     7.0  52.367068   \n",
       "2                       0           50.0                    16.0  52.391986   \n",
       "3                       1           11.0                     8.0  52.350850   \n",
       "4                       0           37.0                     7.0  52.369953   \n",
       "\n",
       "   longitude  property_type  room_type  ...  availability_365  \\\n",
       "0   4.887432            1.0        0.0  ...               158   \n",
       "1   4.866769            1.0        1.0  ...                34   \n",
       "2   4.925497           13.0        0.0  ...                 0   \n",
       "3   4.895104            1.0        0.0  ...                 0   \n",
       "4   4.858866           15.0        0.0  ...                 0   \n",
       "\n",
       "   number_of_reviews  review_scores_rating  review_scores_accuracy  \\\n",
       "0                 16                   100                      10   \n",
       "1                 12                    87                       9   \n",
       "2                 10                    92                       9   \n",
       "3                 13                    97                      10   \n",
       "4                 14                    80                       9   \n",
       "\n",
       "   review_scores_cleanliness  review_scores_checkin  \\\n",
       "0                         10                     10   \n",
       "1                          9                      9   \n",
       "2                          9                      9   \n",
       "3                          9                     10   \n",
       "4                          7                      8   \n",
       "\n",
       "   review_scores_communication  review_scores_location  host_is_superhost  \\\n",
       "0                           10                      10                  0   \n",
       "1                            9                       9                  0   \n",
       "2                           10                       9                  0   \n",
       "3                           10                      10                  0   \n",
       "4                            9                       9                  0   \n",
       "\n",
       "   split  \n",
       "0    0.0  \n",
       "1    0.0  \n",
       "2    0.0  \n",
       "3    0.0  \n",
       "4    0.0  \n",
       "\n",
       "[5 rows x 34 columns]"
      ]
     },
     "execution_count": 2,
     "metadata": {},
     "output_type": "execute_result"
    }
   ],
   "source": [
    "#uploading the train data\n",
    "df_train = pd.read_csv('Amsterdam_train.csv')\n",
    "df_train.head()"
   ]
  },
  {
   "cell_type": "code",
   "execution_count": 3,
   "id": "c3438f3d",
   "metadata": {},
   "outputs": [],
   "source": [
    "#stubborn upload bug\n",
    "del df_train['Unnamed: 0']"
   ]
  },
  {
   "cell_type": "code",
   "execution_count": 4,
   "id": "37f3c702",
   "metadata": {},
   "outputs": [
    {
     "data": {
      "text/plain": [
       "(16024, 33)"
      ]
     },
     "execution_count": 4,
     "metadata": {},
     "output_type": "execute_result"
    }
   ],
   "source": [
    "df_train.shape"
   ]
  },
  {
   "cell_type": "code",
   "execution_count": 5,
   "id": "2f7bd804",
   "metadata": {},
   "outputs": [
    {
     "data": {
      "image/png": "[encoded data removed]",
      "text/plain": [
       "<Figure size 432x288 with 1 Axes>"
      ]
     },
     "metadata": {
      "needs_background": "light"
     },
     "output_type": "display_data"
    }
   ],
   "source": [
    "# visualize the target variable\n",
    "g = sns.countplot(df_train['host_is_superhost'])\n",
    "g.set_xticklabels(['host_is_superhost'==0,'host_is_superhost'==1])\n",
    "\n",
    "plt.show()\n"
   ]
  },
  {
   "cell_type": "markdown",
   "id": "5066212e",
   "metadata": {},
   "source": [
    "# The Metric Trap"
   ]
  },
  {
   "cell_type": "markdown",
   "id": "6238d360",
   "metadata": {},
   "source": [
    "Running example with xgboost "
   ]
  },
  {
   "cell_type": "code",
   "execution_count": 6,
   "id": "d5ce9b85",
   "metadata": {},
   "outputs": [
    {
     "name": "stdout",
     "output_type": "stream",
     "text": [
      "[22:02:38] WARNING: C:/Users/Administrator/workspace/xgboost-win64_release_1.5.1/src/learner.cc:1115: Starting in XGBoost 1.3.0, the default evaluation metric used with the objective 'binary:logistic' was changed from 'error' to 'logloss'. Explicitly set eval_metric if you'd like to restore the old behavior.\n",
      "Accuracy: 87.77%\n"
     ]
    }
   ],
   "source": [
    "from xgboost import XGBClassifier\n",
    "from sklearn.model_selection import train_test_split\n",
    "from sklearn.metrics import accuracy_score\n",
    "\n",
    "X= df_train.loc[:,df_train.columns != 'host_is_superhost']\n",
    "y = df_train['host_is_superhost']\n",
    "\n",
    "X_train, X_test, y_train, y_test = train_test_split(X, y, test_size=0.1, random_state=10)\n",
    "\n",
    "model = XGBClassifier()\n",
    "model.fit(X_train, y_train)\n",
    "y_pred = model.predict(X_test)\n",
    "\n",
    "accuracy = accuracy_score(y_test, y_pred)\n",
    "print(\"Accuracy: %.2f%%\" % (accuracy * 100.0))"
   ]
  },
  {
   "cell_type": "markdown",
   "id": "86741496",
   "metadata": {},
   "source": [
    "We got 88% accuracy with xgboost classsifier; provided prediction of the host_is_soperhost = 0"
   ]
  },
  {
   "cell_type": "code",
   "execution_count": 7,
   "id": "d8d62fd8",
   "metadata": {},
   "outputs": [
    {
     "name": "stdout",
     "output_type": "stream",
     "text": [
      "class 0: (13507, 33)\n",
      "class 1: (2517, 33)\n",
      "difference: 10990\n",
      "mid range 1258.5\n"
     ]
    }
   ],
   "source": [
    "# class count\n",
    "class_count_0, class_count_1 = df_train['host_is_superhost'].value_counts()\n",
    "\n",
    "# Separate class\n",
    "class_0 = df_train[df_train['host_is_superhost'] == 0]\n",
    "class_1 = df_train[df_train['host_is_superhost'] == 1]# print the shape of the class\n",
    "print('class 0:', class_0.shape)\n",
    "print('class 1:', class_1.shape)\n",
    "print('difference:', (df_train['host_is_superhost'] == 0).sum()-(df_train['host_is_superhost'] == 1).sum())\n",
    "print('mid range', df_train['host_is_superhost'].sum()/2 )"
   ]
  },
  {
   "cell_type": "markdown",
   "id": "9dbbeb3f",
   "metadata": {},
   "source": [
    "# Confusion matrix"
   ]
  },
  {
   "cell_type": "markdown",
   "id": "adbc234e",
   "metadata": {},
   "source": [
    "Therefore, the higher the diagonal values of the confusion matrix - the better, indicating many correct predictions."
   ]
  },
  {
   "cell_type": "code",
   "execution_count": 8,
   "id": "c6d4d74f",
   "metadata": {},
   "outputs": [
    {
     "name": "stdout",
     "output_type": "stream",
     "text": [
      "Confusion matrix:\n",
      " [[1279   79]\n",
      " [ 117  128]]\n"
     ]
    },
    {
     "data": {
      "image/png": "[encoded data removed]",
      "text/plain": [
       "<Figure size 432x288 with 2 Axes>"
      ]
     },
     "metadata": {
      "needs_background": "light"
     },
     "output_type": "display_data"
    }
   ],
   "source": [
    "from sklearn.metrics import confusion_matrix\n",
    "from matplotlib import pyplot as plt\n",
    "\n",
    "conf_mat = confusion_matrix(y_true=y_test, y_pred=y_pred)\n",
    "print('Confusion matrix:\\n', conf_mat)\n",
    "\n",
    "labels = ['Class 0', 'Class 1']\n",
    "fig = plt.figure()\n",
    "ax = fig.add_subplot(111)\n",
    "cax = ax.matshow(conf_mat, cmap=plt.cm.Blues)\n",
    "fig.colorbar(cax)\n",
    "ax.set_xticklabels([''] + labels)\n",
    "ax.set_yticklabels([''] + labels)\n",
    "plt.xlabel('Predicted')\n",
    "plt.ylabel('Expected')\n",
    "plt.show()"
   ]
  },
  {
   "cell_type": "code",
   "execution_count": 9,
   "id": "2e8ccc62",
   "metadata": {},
   "outputs": [],
   "source": [
    "# Class count\n",
    "count_class_0, count_class_1 = df_train['host_is_superhost'].value_counts()\n",
    "\n",
    "# Divide df by class\n",
    "df_class_0 = df_train[df_train['host_is_superhost'] == 0]\n",
    "df_class_1 = df_train[df_train['host_is_superhost'] == 1]"
   ]
  },
  {
   "cell_type": "markdown",
   "id": "5d12fa59",
   "metadata": {},
   "source": [
    "### 1. Random Under-Sampling"
   ]
  },
  {
   "cell_type": "markdown",
   "id": "f868f807",
   "metadata": {},
   "source": [
    "Visualizing balanced datasets: first cutting the majority value to the level of the minority. Than – creating additional data from the minority (Target Value)"
   ]
  },
  {
   "cell_type": "code",
   "execution_count": 10,
   "id": "4ee24409",
   "metadata": {},
   "outputs": [
    {
     "name": "stdout",
     "output_type": "stream",
     "text": [
      "Random under-sampling:\n",
      "0    2517\n",
      "1    2517\n",
      "Name: host_is_superhost, dtype: int64\n"
     ]
    },
    {
     "data": {
      "text/plain": [
       "[Text(0.5, 1.0, 'Under Sampling')]"
      ]
     },
     "execution_count": 10,
     "metadata": {},
     "output_type": "execute_result"
    },
    {
     "data": {
      "image/png": "[encoded data removed]",
      "text/plain": [
       "<Figure size 720x360 with 1 Axes>"
      ]
     },
     "metadata": {
      "needs_background": "light"
     },
     "output_type": "display_data"
    }
   ],
   "source": [
    "df_class_0_under = df_class_0.sample(count_class_1)\n",
    "df_test_under = pd.concat([df_class_0_under, df_class_1], axis=0)\n",
    "\n",
    "print('Random under-sampling:')\n",
    "print(df_test_under['host_is_superhost'].value_counts())\n",
    "\n",
    "fig, ax = plt.subplots(figsize=(10,5))\n",
    "sns.countplot(x=df_test_under['host_is_superhost'].dropna(),data=df_test_under, palette=\"Set2\").set(title='Under Sampling')"
   ]
  },
  {
   "cell_type": "code",
   "execution_count": null,
   "id": "bc240abf",
   "metadata": {},
   "outputs": [],
   "source": []
  },
  {
   "cell_type": "markdown",
   "id": "276e3faf",
   "metadata": {},
   "source": [
    "### 2. Random Over-Sampling\n"
   ]
  },
  {
   "cell_type": "code",
   "execution_count": 11,
   "id": "878fe0fd",
   "metadata": {},
   "outputs": [
    {
     "name": "stdout",
     "output_type": "stream",
     "text": [
      "Random over-sampling:\n",
      "1    13507\n",
      "0    13507\n",
      "Name: host_is_superhost, dtype: int64\n"
     ]
    },
    {
     "data": {
      "text/plain": [
       "[Text(0.5, 1.0, 'Over Sampling')]"
      ]
     },
     "execution_count": 11,
     "metadata": {},
     "output_type": "execute_result"
    },
    {
     "data": {
      "image/png": "[encoded data removed]",
      "text/plain": [
       "<Figure size 720x360 with 1 Axes>"
      ]
     },
     "metadata": {
      "needs_background": "light"
     },
     "output_type": "display_data"
    }
   ],
   "source": [
    "df_class_1_over = df_class_1.sample(count_class_0, replace=True)\n",
    "df_test_over = pd.concat([df_class_1_over, df_class_0], axis=0)\n",
    "\n",
    "print('Random over-sampling:')\n",
    "print(df_test_over['host_is_superhost'].value_counts())\n",
    "\n",
    "fig, ax = plt.subplots(figsize=(10,5))\n",
    "sns.countplot(x=df_test_over['host_is_superhost'].dropna(),data=df_test_over, palette=\"Set1\").set(title='Over Sampling')"
   ]
  },
  {
   "cell_type": "markdown",
   "id": "b1eb0326",
   "metadata": {},
   "source": [
    "# Imbalanced Techniques "
   ]
  },
  {
   "cell_type": "code",
   "execution_count": 12,
   "id": "5020fcbf",
   "metadata": {},
   "outputs": [],
   "source": [
    "import imblearn\n",
    "from imblearn.under_sampling import RandomUnderSampler\n",
    "from imblearn.under_sampling import TomekLinks\n",
    "from imblearn.over_sampling import RandomOverSampler \n",
    "from sklearn.datasets import make_classification\n",
    "from sklearn.ensemble import RandomForestClassifier"
   ]
  },
  {
   "cell_type": "code",
   "execution_count": 13,
   "id": "3eae634c",
   "metadata": {},
   "outputs": [],
   "source": [
    "# define dataset\n",
    "X, y = make_classification(n_samples=10000, n_features=2, n_redundant=0,\n",
    "       n_clusters_per_class=1, weights=[0.99], flip_y=0, random_state=1)"
   ]
  },
  {
   "cell_type": "markdown",
   "id": "f50ac722",
   "metadata": {},
   "source": [
    "Visualizing Classes"
   ]
  },
  {
   "cell_type": "code",
   "execution_count": 14,
   "id": "fd4b9737",
   "metadata": {},
   "outputs": [],
   "source": [
    "def plot_2d_space(X, y, label='Classes'):   \n",
    "    colors = ['#1F77B4', '#FF7F0E']\n",
    "    markers = ['o', 's']\n",
    "    for l, c, m in zip(np.unique(y), colors, markers):\n",
    "        plt.scatter(\n",
    "            X[y==l, 0],\n",
    "            X[y==l, 1],\n",
    "            c=c, label=l, marker=m\n",
    "        )\n",
    "    plt.title(label)\n",
    "    plt.legend(loc='upper right')\n",
    "    plt.show()"
   ]
  },
  {
   "cell_type": "code",
   "execution_count": 15,
   "id": "48d99f7f",
   "metadata": {},
   "outputs": [
    {
     "data": {
      "image/png": "[encoded data removed]",
      "text/plain": [
       "<Figure size 432x288 with 1 Axes>"
      ]
     },
     "metadata": {
      "needs_background": "light"
     },
     "output_type": "display_data"
    }
   ],
   "source": [
    "from sklearn.decomposition import PCA\n",
    "\n",
    "pca = PCA(n_components=2)\n",
    "X = pca.fit_transform(X)\n",
    "\n",
    "plot_2d_space(X, y, 'Imbalanced dataset (2 PCA components)')"
   ]
  },
  {
   "cell_type": "markdown",
   "id": "8bb139e6",
   "metadata": {},
   "source": [
    "# Random Under-Sampling"
   ]
  },
  {
   "cell_type": "markdown",
   "id": "1ba53569",
   "metadata": {},
   "source": [
    "The following models will provide blancing resluts and accuracy using Random Forest Classifier\n",
    "We choose sampling_strategy='all'"
   ]
  },
  {
   "cell_type": "code",
   "execution_count": 16,
   "id": "046f8272",
   "metadata": {},
   "outputs": [
    {
     "name": "stdout",
     "output_type": "stream",
     "text": [
      "original dataset shape: Counter({0: 9900, 1: 100})\n",
      "Resample dataset shape Counter({0: 100, 1: 100})\n",
      "0 new random picked points\n"
     ]
    },
    {
     "data": {
      "image/png": "[encoded data removed]",
      "text/plain": [
       "<Figure size 432x288 with 1 Axes>"
      ]
     },
     "metadata": {
      "needs_background": "light"
     },
     "output_type": "display_data"
    }
   ],
   "source": [
    "# import library\n",
    "from imblearn.under_sampling import RandomUnderSampler\n",
    "\n",
    "rus = RandomUnderSampler()# fit predictor and target variable\n",
    "X_rus, y_rus = rus.fit_resample(X, y)\n",
    "\n",
    "print('original dataset shape:', Counter(y))\n",
    "print('Resample dataset shape', Counter(y_rus))\n",
    "print(X_rus.shape[1] - X.shape[1], 'new random picked points')\n",
    "\n",
    "plot_2d_space(X_rus, y_rus, 'Random under-sampling')"
   ]
  },
  {
   "cell_type": "code",
   "execution_count": 17,
   "id": "7e9be0fd",
   "metadata": {},
   "outputs": [
    {
     "name": "stdout",
     "output_type": "stream",
     "text": [
      "Mean Accuracy: 0.9109\n",
      "Mean Precision: 0.5465\n",
      "Mean Recall: 0.8956\n"
     ]
    }
   ],
   "source": [
    "#Define model\n",
    "model=RandomForestClassifier()\n",
    "#Define sampler\n",
    "rus_resample = RandomUnderSampler(sampling_strategy='all')\n",
    "#Define pipeline\n",
    "pipeline=Pipeline(steps=[('r', rus_resample), ('m', model)])\n",
    "#Define evaluation procedure (here we use Repeated Stratified K-Fold CV)\n",
    "cv=RepeatedStratifiedKFold(n_splits=10, n_repeats=3, random_state=1)\n",
    "#Evaluate model\n",
    "scoring=['accuracy','precision_macro','recall_macro']\n",
    "scores = cross_validate(pipeline, X, y, scoring=scoring, cv=cv, n_jobs=-1)\n",
    "\n",
    "# summarize performance\n",
    "print('Mean Accuracy: %.4f' % np.mean(scores['test_accuracy']))\n",
    "print('Mean Precision: %.4f' % np.mean(scores['test_precision_macro']))\n",
    "print('Mean Recall: %.4f' % np.mean(scores['test_recall_macro']))"
   ]
  },
  {
   "cell_type": "markdown",
   "id": "09d40b52",
   "metadata": {},
   "source": [
    "# Random Over-Sampling"
   ]
  },
  {
   "cell_type": "markdown",
   "id": "ccdb5270",
   "metadata": {},
   "source": [
    "Generate new samples in the minority classes"
   ]
  },
  {
   "cell_type": "code",
   "execution_count": 18,
   "id": "98837d24",
   "metadata": {},
   "outputs": [
    {
     "name": "stdout",
     "output_type": "stream",
     "text": [
      "original dataset shape: Counter({0: 9900, 1: 100})\n",
      "Resample dataset shape Counter({0: 9900, 1: 9900})\n",
      "9800 new random picked points\n"
     ]
    },
    {
     "data": {
      "image/png": "[encoded data removed]",
      "text/plain": [
       "<Figure size 432x288 with 1 Axes>"
      ]
     },
     "metadata": {
      "needs_background": "light"
     },
     "output_type": "display_data"
    }
   ],
   "source": [
    "from imblearn.over_sampling import RandomOverSampler\n",
    "\n",
    "ros = RandomOverSampler()\n",
    "X_ros, y_ros = ros.fit_resample(X, y)\n",
    "\n",
    "print('original dataset shape:', Counter(y))\n",
    "print('Resample dataset shape', Counter(y_ros))\n",
    "print(X_ros.shape[0] - X.shape[0], 'new random picked points')\n",
    "\n",
    "plot_2d_space(X_ros, y_ros, 'Random over-sampling')"
   ]
  },
  {
   "cell_type": "code",
   "execution_count": null,
   "id": "695ba2fb",
   "metadata": {},
   "outputs": [],
   "source": []
  },
  {
   "cell_type": "code",
   "execution_count": 19,
   "id": "bbd594c0",
   "metadata": {},
   "outputs": [
    {
     "name": "stdout",
     "output_type": "stream",
     "text": [
      "Mean Accuracy: 0.9929\n",
      "Mean Precision: 0.8456\n",
      "Mean Recall: 0.7572\n"
     ]
    }
   ],
   "source": [
    "#Define model\n",
    "model=RandomForestClassifier()\n",
    "#Define sampler\n",
    "ros_resample = RandomOverSampler(sampling_strategy='all')\n",
    "#Define pipeline\n",
    "pipeline=Pipeline(steps=[('r', ros_resample), ('m', model)])\n",
    "#Define evaluation procedure (here we use Repeated Stratified K-Fold CV)\n",
    "cv=RepeatedStratifiedKFold(n_splits=10, n_repeats=3, random_state=1)\n",
    "#Evaluate model\n",
    "scoring=['accuracy','precision_macro','recall_macro']\n",
    "scores = cross_validate(pipeline, X, y, scoring=scoring, cv=cv, n_jobs=-1)\n",
    "\n",
    "# summarize performance\n",
    "print('Mean Accuracy: %.4f' % np.mean(scores['test_accuracy']))\n",
    "print('Mean Precision: %.4f' % np.mean(scores['test_precision_macro']))\n",
    "print('Mean Recall: %.4f' % np.mean(scores['test_recall_macro']))"
   ]
  },
  {
   "cell_type": "markdown",
   "id": "689e5429",
   "metadata": {},
   "source": [
    "Checking distribution differences"
   ]
  },
  {
   "cell_type": "code",
   "execution_count": 20,
   "id": "e71d0215",
   "metadata": {},
   "outputs": [
    {
     "data": {
      "text/plain": [
       "<AxesSubplot:ylabel='Density'>"
      ]
     },
     "execution_count": 20,
     "metadata": {},
     "output_type": "execute_result"
    },
    {
     "data": {
      "image/png": "[encoded data removed]",
      "text/plain": [
       "<Figure size 432x288 with 1 Axes>"
      ]
     },
     "metadata": {
      "needs_background": "light"
     },
     "output_type": "display_data"
    }
   ],
   "source": [
    "sns.distplot(X_rus)\n",
    "sns.distplot(X_ros)"
   ]
  },
  {
   "cell_type": "markdown",
   "id": "09a7cd55",
   "metadata": {},
   "source": [
    "# Over-sampling: SMOTE"
   ]
  },
  {
   "cell_type": "code",
   "execution_count": 21,
   "id": "50369370",
   "metadata": {},
   "outputs": [],
   "source": [
    "from collections import Counter\n",
    "from sklearn.datasets import make_classification\n",
    "from imblearn.over_sampling import SMOTE\n",
    "from imblearn.combine import SMOTETomek\n",
    "import random"
   ]
  },
  {
   "cell_type": "markdown",
   "id": "7828f55e",
   "metadata": {},
   "source": [
    "Synthetic Minority Oversampling Technique using synthetic data"
   ]
  },
  {
   "cell_type": "code",
   "execution_count": 22,
   "id": "9fa167f2",
   "metadata": {},
   "outputs": [
    {
     "name": "stdout",
     "output_type": "stream",
     "text": [
      "Original dataset shape Counter({0: 9900, 1: 100})\n",
      "Resample dataset shape Counter({0: 9900, 1: 9900})\n"
     ]
    },
    {
     "data": {
      "image/png": "[encoded data removed]",
      "text/plain": [
       "<Figure size 432x288 with 1 Axes>"
      ]
     },
     "metadata": {
      "needs_background": "light"
     },
     "output_type": "display_data"
    }
   ],
   "source": [
    "# import library\n",
    "from imblearn.over_sampling import SMOTE\n",
    "\n",
    "smote = SMOTE()\n",
    "\n",
    "# fit predictor and target variable\n",
    "x_smote, y_smote = smote.fit_resample(X, y)\n",
    "\n",
    "print('Original dataset shape', Counter(y))\n",
    "print('Resample dataset shape', Counter(y_smote))\n",
    "plot_2d_space(x_smote, y_smote, 'SMOTE over-sampling')"
   ]
  },
  {
   "cell_type": "code",
   "execution_count": 23,
   "id": "3a867159",
   "metadata": {},
   "outputs": [
    {
     "name": "stdout",
     "output_type": "stream",
     "text": [
      "Mean Accuracy: 0.9471\n",
      "Mean Precision: 0.5649\n",
      "Mean Recall: 0.8545\n"
     ]
    }
   ],
   "source": [
    "##Using SMOTE to balance the data\n",
    "#Define model\n",
    "model=RandomForestClassifier()\n",
    "#Define SMOTE\n",
    "smt_resample = SMOTE(sampling_strategy='all')\n",
    "#Define pipeline\n",
    "pipeline=Pipeline(steps=[('r', smt_resample), ('m', model)])\n",
    "#Define evaluation procedure (here we use Repeated Stratified K-Fold CV)\n",
    "cv=RepeatedStratifiedKFold(n_splits=10, n_repeats=3, random_state=1)\n",
    "#Evaluate model\n",
    "scoring=['accuracy','precision_macro','recall_macro']\n",
    "scores = cross_validate(pipeline, X, y, scoring=scoring, cv=cv, n_jobs=-1)\n",
    "\n",
    "# summarize performance\n",
    "print('Mean Accuracy: %.4f' % np.mean(scores['test_accuracy']))\n",
    "print('Mean Precision: %.4f' % np.mean(scores['test_precision_macro']))\n",
    "print('Mean Recall: %.4f' % np.mean(scores['test_recall_macro']))"
   ]
  },
  {
   "cell_type": "markdown",
   "id": "7ae13bdd",
   "metadata": {},
   "source": [
    "Comparing the SMOTE distribution to OverSample "
   ]
  },
  {
   "cell_type": "code",
   "execution_count": 24,
   "id": "f8726b95",
   "metadata": {},
   "outputs": [
    {
     "data": {
      "text/plain": [
       "<AxesSubplot:ylabel='Density'>"
      ]
     },
     "execution_count": 24,
     "metadata": {},
     "output_type": "execute_result"
    },
    {
     "data": {
      "image/png": "[encoded data removed]",
      "text/plain": [
       "<Figure size 432x288 with 1 Axes>"
      ]
     },
     "metadata": {
      "needs_background": "light"
     },
     "output_type": "display_data"
    }
   ],
   "source": [
    "sns.distplot(x_smote)\n",
    "sns.distplot(X_ros)"
   ]
  },
  {
   "cell_type": "code",
   "execution_count": null,
   "id": "7ab1d1be",
   "metadata": {},
   "outputs": [],
   "source": []
  },
  {
   "cell_type": "markdown",
   "id": "64dc4980",
   "metadata": {},
   "source": [
    "# Over-sampling followed by under-sampling"
   ]
  },
  {
   "cell_type": "markdown",
   "id": "703d6a37",
   "metadata": {},
   "source": [
    "Synthetic data in the neigbourhood"
   ]
  },
  {
   "cell_type": "code",
   "execution_count": 25,
   "id": "4aa07424",
   "metadata": {},
   "outputs": [
    {
     "name": "stdout",
     "output_type": "stream",
     "text": [
      "original dataset shape: Counter({0: 9900, 1: 100})\n",
      "SMOTE dataset shape Counter({0: 9664, 1: 9664})\n"
     ]
    },
    {
     "data": {
      "image/png": "[encoded data removed]",
      "text/plain": [
       "<Figure size 432x288 with 1 Axes>"
      ]
     },
     "metadata": {
      "needs_background": "light"
     },
     "output_type": "display_data"
    }
   ],
   "source": [
    "from imblearn.combine import SMOTETomek\n",
    "\n",
    "smtk = SMOTETomek()\n",
    "X_smtk, y_smtk = smtk.fit_resample(X, y)\n",
    "print('original dataset shape:', Counter(y))\n",
    "print('SMOTE dataset shape', Counter(y_smtk))\n",
    "\n",
    "plot_2d_space(X_smtk, y_smtk, 'SMOTE + Tomek links')"
   ]
  },
  {
   "cell_type": "code",
   "execution_count": 26,
   "id": "0cb266ab",
   "metadata": {},
   "outputs": [
    {
     "name": "stdout",
     "output_type": "stream",
     "text": [
      "Mean Accuracy: 0.9497\n",
      "Mean Precision: 0.5672\n",
      "Mean Recall: 0.8525\n"
     ]
    }
   ],
   "source": [
    "##Using SMOTE-ENN to balance the data\n",
    "#Define model\n",
    "model=RandomForestClassifier()\n",
    "#Define SMOTek\n",
    "smtk_resample = SMOTETomek(sampling_strategy='all')\n",
    "#Define pipeline\n",
    "pipeline=Pipeline(steps=[('r', smtk_resample), ('m', model)])\n",
    "#Define evaluation procedure (here we use Repeated Stratified K-Fold CV)\n",
    "cv=RepeatedStratifiedKFold(n_splits=10, n_repeats=3, random_state=1)\n",
    "#Evaluate model\n",
    "scoring=['accuracy','precision_macro','recall_macro']\n",
    "scores = cross_validate(pipeline, X, y, scoring=scoring, cv=cv, n_jobs=-1)\n",
    "\n",
    "# summarize performance\n",
    "print('Mean Accuracy: %.4f' % np.mean(scores['test_accuracy']))\n",
    "print('Mean Precision: %.4f' % np.mean(scores['test_precision_macro']))\n",
    "print('Mean Recall: %.4f' % np.mean(scores['test_recall_macro']))"
   ]
  },
  {
   "cell_type": "code",
   "execution_count": null,
   "id": "4a02ee3d",
   "metadata": {},
   "outputs": [],
   "source": []
  },
  {
   "cell_type": "markdown",
   "id": "4a6c00c5",
   "metadata": {},
   "source": [
    "## NearMiss"
   ]
  },
  {
   "cell_type": "markdown",
   "id": "5d6d69a1",
   "metadata": {},
   "source": [
    "NearMiss is an under-sampling technique. Instead of resampling the Minority class, using a distance, this will make the majority class equal to the minority class."
   ]
  },
  {
   "cell_type": "code",
   "execution_count": 27,
   "id": "4a6ca73d",
   "metadata": {},
   "outputs": [
    {
     "name": "stdout",
     "output_type": "stream",
     "text": [
      "Original dataset shape: Counter({0: 9900, 1: 100})\n",
      "Resample dataset shape: Counter({0: 100, 1: 100})\n"
     ]
    },
    {
     "data": {
      "image/png": "[encoded data removed]",
      "text/plain": [
       "<Figure size 432x288 with 1 Axes>"
      ]
     },
     "metadata": {
      "needs_background": "light"
     },
     "output_type": "display_data"
    }
   ],
   "source": [
    "from imblearn.under_sampling import NearMiss\n",
    "\n",
    "nm = NearMiss()\n",
    "\n",
    "x_nm, y_nm = nm.fit_resample(X, y)\n",
    "\n",
    "print('Original dataset shape:', Counter(y))\n",
    "print('Resample dataset shape:', Counter(y_nm))\n",
    "plot_2d_space(x_nm, y_nm, 'NearMiss ')"
   ]
  },
  {
   "cell_type": "code",
   "execution_count": 28,
   "id": "82efb583",
   "metadata": {},
   "outputs": [
    {
     "name": "stdout",
     "output_type": "stream",
     "text": [
      "Mean Accuracy: 0.1966\n",
      "Mean Precision: 0.5046\n",
      "Mean Recall: 0.5711\n"
     ]
    }
   ],
   "source": [
    "##Using SMOTE-ENN to balance the data\n",
    "#Define model\n",
    "model=RandomForestClassifier()\n",
    "#Define SMOTE-ENN\n",
    "nm_resample = NearMiss(sampling_strategy='all')\n",
    "#Define pipeline\n",
    "pipeline=Pipeline(steps=[('r', nm_resample), ('m', model)])\n",
    "#Define evaluation procedure (here we use Repeated Stratified K-Fold CV)\n",
    "cv=RepeatedStratifiedKFold(n_splits=10, n_repeats=3, random_state=1)\n",
    "#Evaluate model\n",
    "scoring=['accuracy','precision_macro','recall_macro']\n",
    "scores = cross_validate(pipeline, X, y, scoring=scoring, cv=cv, n_jobs=-1)\n",
    "\n",
    "# summarize performance\n",
    "print('Mean Accuracy: %.4f' % np.mean(scores['test_accuracy']))\n",
    "print('Mean Precision: %.4f' % np.mean(scores['test_precision_macro']))\n",
    "print('Mean Recall: %.4f' % np.mean(scores['test_recall_macro']))"
   ]
  },
  {
   "cell_type": "markdown",
   "id": "fa8b668f",
   "metadata": {},
   "source": [
    "# Change the performance metrics"
   ]
  },
  {
   "cell_type": "code",
   "execution_count": 29,
   "id": "76e105ed",
   "metadata": {},
   "outputs": [],
   "source": [
    "# load library\n",
    "from sklearn.svm import SVC\n",
    "from sklearn.metrics import roc_auc_score\n",
    "from sklearn.metrics import f1_score"
   ]
  },
  {
   "cell_type": "code",
   "execution_count": 30,
   "id": "c705b1e8",
   "metadata": {},
   "outputs": [
    {
     "name": "stdout",
     "output_type": "stream",
     "text": [
      "ROCAUC score: 0.6918051756785188\n",
      "Accuracy score: 0.8122270742358079\n",
      "F1 score: 0.45765765765765765\n"
     ]
    }
   ],
   "source": [
    "# we can add class_weight='balanced' to add panalize mistake\n",
    "svc_model = SVC(class_weight='balanced', probability=True)\n",
    "\n",
    "svc_model.fit(X_train, y_train)\n",
    "\n",
    "svc_predict = svc_model.predict(X_test)# check performance\n",
    "print('ROCAUC score:',roc_auc_score(y_test, svc_predict))\n",
    "print('Accuracy score:',accuracy_score(y_test, svc_predict))\n",
    "print('F1 score:',f1_score(y_test, svc_predict))"
   ]
  },
  {
   "cell_type": "markdown",
   "id": "b53d810e",
   "metadata": {},
   "source": [
    "We will run again the original data over Random forest Classifier"
   ]
  },
  {
   "cell_type": "code",
   "execution_count": 31,
   "id": "7a03f6d2",
   "metadata": {},
   "outputs": [
    {
     "name": "stdout",
     "output_type": "stream",
     "text": [
      "ROCAUC score: 0.7088260046286556\n",
      "Accuracy score: 0.8920773549594511\n",
      "F1 score: 0.557544757033248\n"
     ]
    }
   ],
   "source": [
    "# load library\n",
    "from sklearn.ensemble import RandomForestClassifier\n",
    "\n",
    "rfc = RandomForestClassifier()\n",
    "\n",
    "# fit the predictor and target\n",
    "rfc.fit(X_train, y_train)\n",
    "\n",
    "# predict\n",
    "rfc_predict = rfc.predict(X_test)# check performance\n",
    "print('ROCAUC score:',roc_auc_score(y_test, rfc_predict))\n",
    "print('Accuracy score:',accuracy_score(y_test, rfc_predict))\n",
    "print('F1 score:',f1_score(y_test, rfc_predict))"
   ]
  },
  {
   "cell_type": "markdown",
   "id": "5fac08fb",
   "metadata": {},
   "source": [
    "The best results are provided by Mean RandomOverSampler:\n",
    "Accuracy: 0.9929\n",
    "Mean Precision: 0.8479\n",
    "Mean Recall: 0.7621"
   ]
  },
  {
   "cell_type": "markdown",
   "id": "f0edce4c",
   "metadata": {},
   "source": [
    "Creating Train DataFrame with ROS Strategy"
   ]
  },
  {
   "cell_type": "code",
   "execution_count": 59,
   "id": "d8361b6c",
   "metadata": {},
   "outputs": [],
   "source": [
    "ros = RandomOverSampler()\n",
    "columns=X_train.columns\n",
    "X_train_oversampled, y_train_oversampled = ros.fit_resample(X_train, y_train)\n",
    "df_ros = pd.DataFrame(X_train_oversampled, columns=X_train.columns)\n",
    "df_ros['host_is_superhost'] = y_train_oversampled"
   ]
  },
  {
   "cell_type": "code",
   "execution_count": 60,
   "id": "4d5cff53",
   "metadata": {},
   "outputs": [
    {
     "data": {
      "text/plain": [
       "Index(['host_neighbourhood', 'host_total_listings_count',\n",
       "       'host_identity_verified', 'neighbourhood', 'neighbourhood_cleansed',\n",
       "       'latitude', 'longitude', 'property_type', 'room_type', 'bedrooms',\n",
       "       'beds', 'bed_type', 'price', 'weekly_price', 'cleaning_fee',\n",
       "       'guests_included', 'extra_people', 'minimum_nights', 'maximum_nights',\n",
       "       'calendar_updated', 'availability_30', 'availability_60',\n",
       "       'availability_90', 'availability_365', 'number_of_reviews',\n",
       "       'review_scores_rating', 'review_scores_accuracy',\n",
       "       'review_scores_cleanliness', 'review_scores_checkin',\n",
       "       'review_scores_communication', 'review_scores_location',\n",
       "       'host_is_superhost'],\n",
       "      dtype='object')"
      ]
     },
     "execution_count": 60,
     "metadata": {},
     "output_type": "execute_result"
    }
   ],
   "source": [
    "df_train.columns"
   ]
  },
  {
   "cell_type": "code",
   "execution_count": 61,
   "id": "176e7f8e",
   "metadata": {},
   "outputs": [
    {
     "data": {
      "text/plain": [
       "Index(['host_neighbourhood', 'host_total_listings_count',\n",
       "       'host_identity_verified', 'neighbourhood', 'neighbourhood_cleansed',\n",
       "       'latitude', 'longitude', 'property_type', 'room_type', 'bedrooms',\n",
       "       'beds', 'bed_type', 'price', 'weekly_price', 'cleaning_fee',\n",
       "       'guests_included', 'extra_people', 'minimum_nights', 'maximum_nights',\n",
       "       'calendar_updated', 'availability_30', 'availability_60',\n",
       "       'availability_90', 'availability_365', 'number_of_reviews',\n",
       "       'review_scores_rating', 'review_scores_accuracy',\n",
       "       'review_scores_cleanliness', 'review_scores_checkin',\n",
       "       'review_scores_communication', 'review_scores_location', 'split',\n",
       "       'host_is_superhost'],\n",
       "      dtype='object')"
      ]
     },
     "execution_count": 61,
     "metadata": {},
     "output_type": "execute_result"
    }
   ],
   "source": [
    "df_ros.columns"
   ]
  },
  {
   "cell_type": "code",
   "execution_count": 62,
   "id": "f280ce29",
   "metadata": {},
   "outputs": [
    {
     "data": {
      "text/html": [
       "<div>\n",
       "<style scoped>\n",
       "    .dataframe tbody tr th:only-of-type {\n",
       "        vertical-align: middle;\n",
       "    }\n",
       "\n",
       "    .dataframe tbody tr th {\n",
       "        vertical-align: top;\n",
       "    }\n",
       "\n",
       "    .dataframe thead th {\n",
       "        text-align: right;\n",
       "    }\n",
       "</style>\n",
       "<table border=\"1\" class=\"dataframe\">\n",
       "  <thead>\n",
       "    <tr style=\"text-align: right;\">\n",
       "      <th></th>\n",
       "      <th>host_neighbourhood</th>\n",
       "      <th>host_total_listings_count</th>\n",
       "      <th>host_identity_verified</th>\n",
       "      <th>neighbourhood</th>\n",
       "      <th>neighbourhood_cleansed</th>\n",
       "      <th>latitude</th>\n",
       "      <th>longitude</th>\n",
       "      <th>property_type</th>\n",
       "      <th>room_type</th>\n",
       "      <th>bedrooms</th>\n",
       "      <th>...</th>\n",
       "      <th>availability_365</th>\n",
       "      <th>number_of_reviews</th>\n",
       "      <th>review_scores_rating</th>\n",
       "      <th>review_scores_accuracy</th>\n",
       "      <th>review_scores_cleanliness</th>\n",
       "      <th>review_scores_checkin</th>\n",
       "      <th>review_scores_communication</th>\n",
       "      <th>review_scores_location</th>\n",
       "      <th>split</th>\n",
       "      <th>host_is_superhost</th>\n",
       "    </tr>\n",
       "  </thead>\n",
       "  <tbody>\n",
       "    <tr>\n",
       "      <th>0</th>\n",
       "      <td>49.0</td>\n",
       "      <td>1</td>\n",
       "      <td>0</td>\n",
       "      <td>54.0</td>\n",
       "      <td>19.0</td>\n",
       "      <td>52.340700</td>\n",
       "      <td>4.917093</td>\n",
       "      <td>1.0</td>\n",
       "      <td>0.0</td>\n",
       "      <td>1</td>\n",
       "      <td>...</td>\n",
       "      <td>0</td>\n",
       "      <td>0</td>\n",
       "      <td>96</td>\n",
       "      <td>10</td>\n",
       "      <td>9</td>\n",
       "      <td>10</td>\n",
       "      <td>10</td>\n",
       "      <td>9</td>\n",
       "      <td>0.0</td>\n",
       "      <td>0</td>\n",
       "    </tr>\n",
       "    <tr>\n",
       "      <th>1</th>\n",
       "      <td>49.0</td>\n",
       "      <td>2</td>\n",
       "      <td>0</td>\n",
       "      <td>11.0</td>\n",
       "      <td>8.0</td>\n",
       "      <td>52.356539</td>\n",
       "      <td>4.899771</td>\n",
       "      <td>2.0</td>\n",
       "      <td>1.0</td>\n",
       "      <td>1</td>\n",
       "      <td>...</td>\n",
       "      <td>316</td>\n",
       "      <td>0</td>\n",
       "      <td>100</td>\n",
       "      <td>10</td>\n",
       "      <td>10</td>\n",
       "      <td>10</td>\n",
       "      <td>10</td>\n",
       "      <td>10</td>\n",
       "      <td>0.0</td>\n",
       "      <td>0</td>\n",
       "    </tr>\n",
       "    <tr>\n",
       "      <th>2</th>\n",
       "      <td>49.0</td>\n",
       "      <td>1</td>\n",
       "      <td>0</td>\n",
       "      <td>38.0</td>\n",
       "      <td>21.0</td>\n",
       "      <td>52.352463</td>\n",
       "      <td>4.863346</td>\n",
       "      <td>1.0</td>\n",
       "      <td>0.0</td>\n",
       "      <td>1</td>\n",
       "      <td>...</td>\n",
       "      <td>355</td>\n",
       "      <td>50</td>\n",
       "      <td>95</td>\n",
       "      <td>9</td>\n",
       "      <td>9</td>\n",
       "      <td>10</td>\n",
       "      <td>10</td>\n",
       "      <td>9</td>\n",
       "      <td>0.0</td>\n",
       "      <td>1</td>\n",
       "    </tr>\n",
       "    <tr>\n",
       "      <th>3</th>\n",
       "      <td>32.0</td>\n",
       "      <td>1</td>\n",
       "      <td>0</td>\n",
       "      <td>38.0</td>\n",
       "      <td>21.0</td>\n",
       "      <td>52.351043</td>\n",
       "      <td>4.861912</td>\n",
       "      <td>13.0</td>\n",
       "      <td>0.0</td>\n",
       "      <td>1</td>\n",
       "      <td>...</td>\n",
       "      <td>0</td>\n",
       "      <td>14</td>\n",
       "      <td>86</td>\n",
       "      <td>9</td>\n",
       "      <td>8</td>\n",
       "      <td>10</td>\n",
       "      <td>9</td>\n",
       "      <td>9</td>\n",
       "      <td>0.0</td>\n",
       "      <td>0</td>\n",
       "    </tr>\n",
       "    <tr>\n",
       "      <th>4</th>\n",
       "      <td>15.0</td>\n",
       "      <td>1</td>\n",
       "      <td>0</td>\n",
       "      <td>18.0</td>\n",
       "      <td>14.0</td>\n",
       "      <td>52.362870</td>\n",
       "      <td>4.934647</td>\n",
       "      <td>1.0</td>\n",
       "      <td>0.0</td>\n",
       "      <td>2</td>\n",
       "      <td>...</td>\n",
       "      <td>0</td>\n",
       "      <td>24</td>\n",
       "      <td>96</td>\n",
       "      <td>10</td>\n",
       "      <td>10</td>\n",
       "      <td>10</td>\n",
       "      <td>10</td>\n",
       "      <td>9</td>\n",
       "      <td>0.0</td>\n",
       "      <td>0</td>\n",
       "    </tr>\n",
       "    <tr>\n",
       "      <th>...</th>\n",
       "      <td>...</td>\n",
       "      <td>...</td>\n",
       "      <td>...</td>\n",
       "      <td>...</td>\n",
       "      <td>...</td>\n",
       "      <td>...</td>\n",
       "      <td>...</td>\n",
       "      <td>...</td>\n",
       "      <td>...</td>\n",
       "      <td>...</td>\n",
       "      <td>...</td>\n",
       "      <td>...</td>\n",
       "      <td>...</td>\n",
       "      <td>...</td>\n",
       "      <td>...</td>\n",
       "      <td>...</td>\n",
       "      <td>...</td>\n",
       "      <td>...</td>\n",
       "      <td>...</td>\n",
       "      <td>...</td>\n",
       "      <td>...</td>\n",
       "    </tr>\n",
       "    <tr>\n",
       "      <th>24293</th>\n",
       "      <td>46.0</td>\n",
       "      <td>1</td>\n",
       "      <td>1</td>\n",
       "      <td>56.0</td>\n",
       "      <td>4.0</td>\n",
       "      <td>52.366918</td>\n",
       "      <td>4.909642</td>\n",
       "      <td>18.0</td>\n",
       "      <td>1.0</td>\n",
       "      <td>1</td>\n",
       "      <td>...</td>\n",
       "      <td>179</td>\n",
       "      <td>350</td>\n",
       "      <td>97</td>\n",
       "      <td>10</td>\n",
       "      <td>10</td>\n",
       "      <td>10</td>\n",
       "      <td>10</td>\n",
       "      <td>10</td>\n",
       "      <td>0.0</td>\n",
       "      <td>1</td>\n",
       "    </tr>\n",
       "    <tr>\n",
       "      <th>24294</th>\n",
       "      <td>32.0</td>\n",
       "      <td>1</td>\n",
       "      <td>0</td>\n",
       "      <td>38.0</td>\n",
       "      <td>21.0</td>\n",
       "      <td>52.342786</td>\n",
       "      <td>4.849849</td>\n",
       "      <td>3.0</td>\n",
       "      <td>0.0</td>\n",
       "      <td>2</td>\n",
       "      <td>...</td>\n",
       "      <td>42</td>\n",
       "      <td>92</td>\n",
       "      <td>97</td>\n",
       "      <td>10</td>\n",
       "      <td>10</td>\n",
       "      <td>10</td>\n",
       "      <td>10</td>\n",
       "      <td>9</td>\n",
       "      <td>0.0</td>\n",
       "      <td>1</td>\n",
       "    </tr>\n",
       "    <tr>\n",
       "      <th>24295</th>\n",
       "      <td>49.0</td>\n",
       "      <td>1</td>\n",
       "      <td>0</td>\n",
       "      <td>33.0</td>\n",
       "      <td>17.0</td>\n",
       "      <td>52.351218</td>\n",
       "      <td>4.914389</td>\n",
       "      <td>1.0</td>\n",
       "      <td>0.0</td>\n",
       "      <td>0</td>\n",
       "      <td>...</td>\n",
       "      <td>63</td>\n",
       "      <td>42</td>\n",
       "      <td>99</td>\n",
       "      <td>10</td>\n",
       "      <td>10</td>\n",
       "      <td>10</td>\n",
       "      <td>10</td>\n",
       "      <td>9</td>\n",
       "      <td>0.0</td>\n",
       "      <td>1</td>\n",
       "    </tr>\n",
       "    <tr>\n",
       "      <th>24296</th>\n",
       "      <td>13.0</td>\n",
       "      <td>4</td>\n",
       "      <td>0</td>\n",
       "      <td>15.0</td>\n",
       "      <td>21.0</td>\n",
       "      <td>52.352552</td>\n",
       "      <td>4.849991</td>\n",
       "      <td>1.0</td>\n",
       "      <td>0.0</td>\n",
       "      <td>2</td>\n",
       "      <td>...</td>\n",
       "      <td>0</td>\n",
       "      <td>25</td>\n",
       "      <td>97</td>\n",
       "      <td>10</td>\n",
       "      <td>10</td>\n",
       "      <td>10</td>\n",
       "      <td>10</td>\n",
       "      <td>9</td>\n",
       "      <td>0.0</td>\n",
       "      <td>1</td>\n",
       "    </tr>\n",
       "    <tr>\n",
       "      <th>24297</th>\n",
       "      <td>27.0</td>\n",
       "      <td>1</td>\n",
       "      <td>0</td>\n",
       "      <td>32.0</td>\n",
       "      <td>4.0</td>\n",
       "      <td>52.368891</td>\n",
       "      <td>4.924953</td>\n",
       "      <td>1.0</td>\n",
       "      <td>0.0</td>\n",
       "      <td>1</td>\n",
       "      <td>...</td>\n",
       "      <td>92</td>\n",
       "      <td>48</td>\n",
       "      <td>94</td>\n",
       "      <td>10</td>\n",
       "      <td>9</td>\n",
       "      <td>10</td>\n",
       "      <td>10</td>\n",
       "      <td>9</td>\n",
       "      <td>0.0</td>\n",
       "      <td>1</td>\n",
       "    </tr>\n",
       "  </tbody>\n",
       "</table>\n",
       "<p>24298 rows × 33 columns</p>\n",
       "</div>"
      ],
      "text/plain": [
       "       host_neighbourhood  host_total_listings_count  host_identity_verified  \\\n",
       "0                    49.0                          1                       0   \n",
       "1                    49.0                          2                       0   \n",
       "2                    49.0                          1                       0   \n",
       "3                    32.0                          1                       0   \n",
       "4                    15.0                          1                       0   \n",
       "...                   ...                        ...                     ...   \n",
       "24293                46.0                          1                       1   \n",
       "24294                32.0                          1                       0   \n",
       "24295                49.0                          1                       0   \n",
       "24296                13.0                          4                       0   \n",
       "24297                27.0                          1                       0   \n",
       "\n",
       "       neighbourhood  neighbourhood_cleansed   latitude  longitude  \\\n",
       "0               54.0                    19.0  52.340700   4.917093   \n",
       "1               11.0                     8.0  52.356539   4.899771   \n",
       "2               38.0                    21.0  52.352463   4.863346   \n",
       "3               38.0                    21.0  52.351043   4.861912   \n",
       "4               18.0                    14.0  52.362870   4.934647   \n",
       "...              ...                     ...        ...        ...   \n",
       "24293           56.0                     4.0  52.366918   4.909642   \n",
       "24294           38.0                    21.0  52.342786   4.849849   \n",
       "24295           33.0                    17.0  52.351218   4.914389   \n",
       "24296           15.0                    21.0  52.352552   4.849991   \n",
       "24297           32.0                     4.0  52.368891   4.924953   \n",
       "\n",
       "       property_type  room_type  bedrooms  ...  availability_365  \\\n",
       "0                1.0        0.0         1  ...                 0   \n",
       "1                2.0        1.0         1  ...               316   \n",
       "2                1.0        0.0         1  ...               355   \n",
       "3               13.0        0.0         1  ...                 0   \n",
       "4                1.0        0.0         2  ...                 0   \n",
       "...              ...        ...       ...  ...               ...   \n",
       "24293           18.0        1.0         1  ...               179   \n",
       "24294            3.0        0.0         2  ...                42   \n",
       "24295            1.0        0.0         0  ...                63   \n",
       "24296            1.0        0.0         2  ...                 0   \n",
       "24297            1.0        0.0         1  ...                92   \n",
       "\n",
       "       number_of_reviews  review_scores_rating  review_scores_accuracy  \\\n",
       "0                      0                    96                      10   \n",
       "1                      0                   100                      10   \n",
       "2                     50                    95                       9   \n",
       "3                     14                    86                       9   \n",
       "4                     24                    96                      10   \n",
       "...                  ...                   ...                     ...   \n",
       "24293                350                    97                      10   \n",
       "24294                 92                    97                      10   \n",
       "24295                 42                    99                      10   \n",
       "24296                 25                    97                      10   \n",
       "24297                 48                    94                      10   \n",
       "\n",
       "       review_scores_cleanliness  review_scores_checkin  \\\n",
       "0                              9                     10   \n",
       "1                             10                     10   \n",
       "2                              9                     10   \n",
       "3                              8                     10   \n",
       "4                             10                     10   \n",
       "...                          ...                    ...   \n",
       "24293                         10                     10   \n",
       "24294                         10                     10   \n",
       "24295                         10                     10   \n",
       "24296                         10                     10   \n",
       "24297                          9                     10   \n",
       "\n",
       "       review_scores_communication  review_scores_location  split  \\\n",
       "0                               10                       9    0.0   \n",
       "1                               10                      10    0.0   \n",
       "2                               10                       9    0.0   \n",
       "3                                9                       9    0.0   \n",
       "4                               10                       9    0.0   \n",
       "...                            ...                     ...    ...   \n",
       "24293                           10                      10    0.0   \n",
       "24294                           10                       9    0.0   \n",
       "24295                           10                       9    0.0   \n",
       "24296                           10                       9    0.0   \n",
       "24297                           10                       9    0.0   \n",
       "\n",
       "       host_is_superhost  \n",
       "0                      0  \n",
       "1                      0  \n",
       "2                      1  \n",
       "3                      0  \n",
       "4                      0  \n",
       "...                  ...  \n",
       "24293                  1  \n",
       "24294                  1  \n",
       "24295                  1  \n",
       "24296                  1  \n",
       "24297                  1  \n",
       "\n",
       "[24298 rows x 33 columns]"
      ]
     },
     "execution_count": 62,
     "metadata": {},
     "output_type": "execute_result"
    }
   ],
   "source": [
    "df_ros"
   ]
  },
  {
   "cell_type": "code",
   "execution_count": 63,
   "id": "f921bf0a",
   "metadata": {},
   "outputs": [
    {
     "data": {
      "text/plain": [
       "(24298, 33)"
      ]
     },
     "execution_count": 63,
     "metadata": {},
     "output_type": "execute_result"
    }
   ],
   "source": [
    "df_ros.shape"
   ]
  },
  {
   "cell_type": "code",
   "execution_count": 64,
   "id": "b59cecd2",
   "metadata": {},
   "outputs": [
    {
     "data": {
      "text/plain": [
       "(16024, 32)"
      ]
     },
     "execution_count": 64,
     "metadata": {},
     "output_type": "execute_result"
    }
   ],
   "source": [
    "df_train.shape"
   ]
  },
  {
   "cell_type": "code",
   "execution_count": 65,
   "id": "c073be6f",
   "metadata": {},
   "outputs": [
    {
     "data": {
      "text/html": [
       "<div>\n",
       "<style scoped>\n",
       "    .dataframe tbody tr th:only-of-type {\n",
       "        vertical-align: middle;\n",
       "    }\n",
       "\n",
       "    .dataframe tbody tr th {\n",
       "        vertical-align: top;\n",
       "    }\n",
       "\n",
       "    .dataframe thead th {\n",
       "        text-align: right;\n",
       "    }\n",
       "</style>\n",
       "<table border=\"1\" class=\"dataframe\">\n",
       "  <thead>\n",
       "    <tr style=\"text-align: right;\">\n",
       "      <th></th>\n",
       "      <th>host_neighbourhood</th>\n",
       "      <th>host_total_listings_count</th>\n",
       "      <th>host_identity_verified</th>\n",
       "      <th>neighbourhood</th>\n",
       "      <th>neighbourhood_cleansed</th>\n",
       "      <th>latitude</th>\n",
       "      <th>longitude</th>\n",
       "      <th>property_type</th>\n",
       "      <th>room_type</th>\n",
       "      <th>bedrooms</th>\n",
       "      <th>...</th>\n",
       "      <th>availability_90</th>\n",
       "      <th>availability_365</th>\n",
       "      <th>number_of_reviews</th>\n",
       "      <th>review_scores_rating</th>\n",
       "      <th>review_scores_accuracy</th>\n",
       "      <th>review_scores_cleanliness</th>\n",
       "      <th>review_scores_checkin</th>\n",
       "      <th>review_scores_communication</th>\n",
       "      <th>review_scores_location</th>\n",
       "      <th>host_is_superhost</th>\n",
       "    </tr>\n",
       "  </thead>\n",
       "  <tbody>\n",
       "    <tr>\n",
       "      <th>0</th>\n",
       "      <td>16.0</td>\n",
       "      <td>1</td>\n",
       "      <td>1</td>\n",
       "      <td>19.0</td>\n",
       "      <td>5.0</td>\n",
       "      <td>52.380491</td>\n",
       "      <td>4.887432</td>\n",
       "      <td>1.0</td>\n",
       "      <td>0.0</td>\n",
       "      <td>2</td>\n",
       "      <td>...</td>\n",
       "      <td>0</td>\n",
       "      <td>158</td>\n",
       "      <td>16</td>\n",
       "      <td>100</td>\n",
       "      <td>10</td>\n",
       "      <td>10</td>\n",
       "      <td>10</td>\n",
       "      <td>10</td>\n",
       "      <td>10</td>\n",
       "      <td>0</td>\n",
       "    </tr>\n",
       "    <tr>\n",
       "      <th>1</th>\n",
       "      <td>31.0</td>\n",
       "      <td>1</td>\n",
       "      <td>0</td>\n",
       "      <td>37.0</td>\n",
       "      <td>7.0</td>\n",
       "      <td>52.367068</td>\n",
       "      <td>4.866769</td>\n",
       "      <td>1.0</td>\n",
       "      <td>1.0</td>\n",
       "      <td>1</td>\n",
       "      <td>...</td>\n",
       "      <td>34</td>\n",
       "      <td>34</td>\n",
       "      <td>12</td>\n",
       "      <td>87</td>\n",
       "      <td>9</td>\n",
       "      <td>9</td>\n",
       "      <td>9</td>\n",
       "      <td>9</td>\n",
       "      <td>9</td>\n",
       "      <td>0</td>\n",
       "    </tr>\n",
       "    <tr>\n",
       "      <th>2</th>\n",
       "      <td>41.0</td>\n",
       "      <td>1</td>\n",
       "      <td>0</td>\n",
       "      <td>50.0</td>\n",
       "      <td>16.0</td>\n",
       "      <td>52.391986</td>\n",
       "      <td>4.925497</td>\n",
       "      <td>13.0</td>\n",
       "      <td>0.0</td>\n",
       "      <td>4</td>\n",
       "      <td>...</td>\n",
       "      <td>0</td>\n",
       "      <td>0</td>\n",
       "      <td>10</td>\n",
       "      <td>92</td>\n",
       "      <td>9</td>\n",
       "      <td>9</td>\n",
       "      <td>9</td>\n",
       "      <td>10</td>\n",
       "      <td>9</td>\n",
       "      <td>0</td>\n",
       "    </tr>\n",
       "    <tr>\n",
       "      <th>3</th>\n",
       "      <td>8.0</td>\n",
       "      <td>1</td>\n",
       "      <td>1</td>\n",
       "      <td>11.0</td>\n",
       "      <td>8.0</td>\n",
       "      <td>52.350850</td>\n",
       "      <td>4.895104</td>\n",
       "      <td>1.0</td>\n",
       "      <td>0.0</td>\n",
       "      <td>1</td>\n",
       "      <td>...</td>\n",
       "      <td>0</td>\n",
       "      <td>0</td>\n",
       "      <td>13</td>\n",
       "      <td>97</td>\n",
       "      <td>10</td>\n",
       "      <td>9</td>\n",
       "      <td>10</td>\n",
       "      <td>10</td>\n",
       "      <td>10</td>\n",
       "      <td>0</td>\n",
       "    </tr>\n",
       "    <tr>\n",
       "      <th>4</th>\n",
       "      <td>31.0</td>\n",
       "      <td>1</td>\n",
       "      <td>0</td>\n",
       "      <td>37.0</td>\n",
       "      <td>7.0</td>\n",
       "      <td>52.369953</td>\n",
       "      <td>4.858866</td>\n",
       "      <td>15.0</td>\n",
       "      <td>0.0</td>\n",
       "      <td>1</td>\n",
       "      <td>...</td>\n",
       "      <td>0</td>\n",
       "      <td>0</td>\n",
       "      <td>14</td>\n",
       "      <td>80</td>\n",
       "      <td>9</td>\n",
       "      <td>7</td>\n",
       "      <td>8</td>\n",
       "      <td>9</td>\n",
       "      <td>9</td>\n",
       "      <td>0</td>\n",
       "    </tr>\n",
       "  </tbody>\n",
       "</table>\n",
       "<p>5 rows × 32 columns</p>\n",
       "</div>"
      ],
      "text/plain": [
       "   host_neighbourhood  host_total_listings_count  host_identity_verified  \\\n",
       "0                16.0                          1                       1   \n",
       "1                31.0                          1                       0   \n",
       "2                41.0                          1                       0   \n",
       "3                 8.0                          1                       1   \n",
       "4                31.0                          1                       0   \n",
       "\n",
       "   neighbourhood  neighbourhood_cleansed   latitude  longitude  property_type  \\\n",
       "0           19.0                     5.0  52.380491   4.887432            1.0   \n",
       "1           37.0                     7.0  52.367068   4.866769            1.0   \n",
       "2           50.0                    16.0  52.391986   4.925497           13.0   \n",
       "3           11.0                     8.0  52.350850   4.895104            1.0   \n",
       "4           37.0                     7.0  52.369953   4.858866           15.0   \n",
       "\n",
       "   room_type  bedrooms  ...  availability_90  availability_365  \\\n",
       "0        0.0         2  ...                0               158   \n",
       "1        1.0         1  ...               34                34   \n",
       "2        0.0         4  ...                0                 0   \n",
       "3        0.0         1  ...                0                 0   \n",
       "4        0.0         1  ...                0                 0   \n",
       "\n",
       "   number_of_reviews  review_scores_rating  review_scores_accuracy  \\\n",
       "0                 16                   100                      10   \n",
       "1                 12                    87                       9   \n",
       "2                 10                    92                       9   \n",
       "3                 13                    97                      10   \n",
       "4                 14                    80                       9   \n",
       "\n",
       "   review_scores_cleanliness  review_scores_checkin  \\\n",
       "0                         10                     10   \n",
       "1                          9                      9   \n",
       "2                          9                      9   \n",
       "3                          9                     10   \n",
       "4                          7                      8   \n",
       "\n",
       "   review_scores_communication  review_scores_location  host_is_superhost  \n",
       "0                           10                      10                  0  \n",
       "1                            9                       9                  0  \n",
       "2                           10                       9                  0  \n",
       "3                           10                      10                  0  \n",
       "4                            9                       9                  0  \n",
       "\n",
       "[5 rows x 32 columns]"
      ]
     },
     "execution_count": 65,
     "metadata": {},
     "output_type": "execute_result"
    }
   ],
   "source": [
    "df_train.head()"
   ]
  },
  {
   "cell_type": "code",
   "execution_count": 71,
   "id": "d63b165a",
   "metadata": {},
   "outputs": [],
   "source": [
    "#del df_train['split']\n",
    "del df_ros['split']"
   ]
  },
  {
   "cell_type": "code",
   "execution_count": 68,
   "id": "7e3cbd73",
   "metadata": {},
   "outputs": [
    {
     "data": {
      "text/html": [
       "<div>\n",
       "<style scoped>\n",
       "    .dataframe tbody tr th:only-of-type {\n",
       "        vertical-align: middle;\n",
       "    }\n",
       "\n",
       "    .dataframe tbody tr th {\n",
       "        vertical-align: top;\n",
       "    }\n",
       "\n",
       "    .dataframe thead th {\n",
       "        text-align: right;\n",
       "    }\n",
       "</style>\n",
       "<table border=\"1\" class=\"dataframe\">\n",
       "  <thead>\n",
       "    <tr style=\"text-align: right;\">\n",
       "      <th></th>\n",
       "      <th>host_neighbourhood</th>\n",
       "      <th>host_total_listings_count</th>\n",
       "      <th>host_identity_verified</th>\n",
       "      <th>neighbourhood</th>\n",
       "      <th>neighbourhood_cleansed</th>\n",
       "      <th>latitude</th>\n",
       "      <th>longitude</th>\n",
       "      <th>property_type</th>\n",
       "      <th>room_type</th>\n",
       "      <th>bedrooms</th>\n",
       "      <th>...</th>\n",
       "      <th>availability_90</th>\n",
       "      <th>availability_365</th>\n",
       "      <th>number_of_reviews</th>\n",
       "      <th>review_scores_rating</th>\n",
       "      <th>review_scores_accuracy</th>\n",
       "      <th>review_scores_cleanliness</th>\n",
       "      <th>review_scores_checkin</th>\n",
       "      <th>review_scores_communication</th>\n",
       "      <th>review_scores_location</th>\n",
       "      <th>host_is_superhost</th>\n",
       "    </tr>\n",
       "  </thead>\n",
       "  <tbody>\n",
       "    <tr>\n",
       "      <th>0</th>\n",
       "      <td>16.0</td>\n",
       "      <td>1</td>\n",
       "      <td>1</td>\n",
       "      <td>19.0</td>\n",
       "      <td>5.0</td>\n",
       "      <td>52.380491</td>\n",
       "      <td>4.887432</td>\n",
       "      <td>1.0</td>\n",
       "      <td>0.0</td>\n",
       "      <td>2</td>\n",
       "      <td>...</td>\n",
       "      <td>0</td>\n",
       "      <td>158</td>\n",
       "      <td>16</td>\n",
       "      <td>100</td>\n",
       "      <td>10</td>\n",
       "      <td>10</td>\n",
       "      <td>10</td>\n",
       "      <td>10</td>\n",
       "      <td>10</td>\n",
       "      <td>0</td>\n",
       "    </tr>\n",
       "    <tr>\n",
       "      <th>1</th>\n",
       "      <td>31.0</td>\n",
       "      <td>1</td>\n",
       "      <td>0</td>\n",
       "      <td>37.0</td>\n",
       "      <td>7.0</td>\n",
       "      <td>52.367068</td>\n",
       "      <td>4.866769</td>\n",
       "      <td>1.0</td>\n",
       "      <td>1.0</td>\n",
       "      <td>1</td>\n",
       "      <td>...</td>\n",
       "      <td>34</td>\n",
       "      <td>34</td>\n",
       "      <td>12</td>\n",
       "      <td>87</td>\n",
       "      <td>9</td>\n",
       "      <td>9</td>\n",
       "      <td>9</td>\n",
       "      <td>9</td>\n",
       "      <td>9</td>\n",
       "      <td>0</td>\n",
       "    </tr>\n",
       "    <tr>\n",
       "      <th>2</th>\n",
       "      <td>41.0</td>\n",
       "      <td>1</td>\n",
       "      <td>0</td>\n",
       "      <td>50.0</td>\n",
       "      <td>16.0</td>\n",
       "      <td>52.391986</td>\n",
       "      <td>4.925497</td>\n",
       "      <td>13.0</td>\n",
       "      <td>0.0</td>\n",
       "      <td>4</td>\n",
       "      <td>...</td>\n",
       "      <td>0</td>\n",
       "      <td>0</td>\n",
       "      <td>10</td>\n",
       "      <td>92</td>\n",
       "      <td>9</td>\n",
       "      <td>9</td>\n",
       "      <td>9</td>\n",
       "      <td>10</td>\n",
       "      <td>9</td>\n",
       "      <td>0</td>\n",
       "    </tr>\n",
       "    <tr>\n",
       "      <th>3</th>\n",
       "      <td>8.0</td>\n",
       "      <td>1</td>\n",
       "      <td>1</td>\n",
       "      <td>11.0</td>\n",
       "      <td>8.0</td>\n",
       "      <td>52.350850</td>\n",
       "      <td>4.895104</td>\n",
       "      <td>1.0</td>\n",
       "      <td>0.0</td>\n",
       "      <td>1</td>\n",
       "      <td>...</td>\n",
       "      <td>0</td>\n",
       "      <td>0</td>\n",
       "      <td>13</td>\n",
       "      <td>97</td>\n",
       "      <td>10</td>\n",
       "      <td>9</td>\n",
       "      <td>10</td>\n",
       "      <td>10</td>\n",
       "      <td>10</td>\n",
       "      <td>0</td>\n",
       "    </tr>\n",
       "    <tr>\n",
       "      <th>4</th>\n",
       "      <td>31.0</td>\n",
       "      <td>1</td>\n",
       "      <td>0</td>\n",
       "      <td>37.0</td>\n",
       "      <td>7.0</td>\n",
       "      <td>52.369953</td>\n",
       "      <td>4.858866</td>\n",
       "      <td>15.0</td>\n",
       "      <td>0.0</td>\n",
       "      <td>1</td>\n",
       "      <td>...</td>\n",
       "      <td>0</td>\n",
       "      <td>0</td>\n",
       "      <td>14</td>\n",
       "      <td>80</td>\n",
       "      <td>9</td>\n",
       "      <td>7</td>\n",
       "      <td>8</td>\n",
       "      <td>9</td>\n",
       "      <td>9</td>\n",
       "      <td>0</td>\n",
       "    </tr>\n",
       "  </tbody>\n",
       "</table>\n",
       "<p>5 rows × 32 columns</p>\n",
       "</div>"
      ],
      "text/plain": [
       "   host_neighbourhood  host_total_listings_count  host_identity_verified  \\\n",
       "0                16.0                          1                       1   \n",
       "1                31.0                          1                       0   \n",
       "2                41.0                          1                       0   \n",
       "3                 8.0                          1                       1   \n",
       "4                31.0                          1                       0   \n",
       "\n",
       "   neighbourhood  neighbourhood_cleansed   latitude  longitude  property_type  \\\n",
       "0           19.0                     5.0  52.380491   4.887432            1.0   \n",
       "1           37.0                     7.0  52.367068   4.866769            1.0   \n",
       "2           50.0                    16.0  52.391986   4.925497           13.0   \n",
       "3           11.0                     8.0  52.350850   4.895104            1.0   \n",
       "4           37.0                     7.0  52.369953   4.858866           15.0   \n",
       "\n",
       "   room_type  bedrooms  ...  availability_90  availability_365  \\\n",
       "0        0.0         2  ...                0               158   \n",
       "1        1.0         1  ...               34                34   \n",
       "2        0.0         4  ...                0                 0   \n",
       "3        0.0         1  ...                0                 0   \n",
       "4        0.0         1  ...                0                 0   \n",
       "\n",
       "   number_of_reviews  review_scores_rating  review_scores_accuracy  \\\n",
       "0                 16                   100                      10   \n",
       "1                 12                    87                       9   \n",
       "2                 10                    92                       9   \n",
       "3                 13                    97                      10   \n",
       "4                 14                    80                       9   \n",
       "\n",
       "   review_scores_cleanliness  review_scores_checkin  \\\n",
       "0                         10                     10   \n",
       "1                          9                      9   \n",
       "2                          9                      9   \n",
       "3                          9                     10   \n",
       "4                          7                      8   \n",
       "\n",
       "   review_scores_communication  review_scores_location  host_is_superhost  \n",
       "0                           10                      10                  0  \n",
       "1                            9                       9                  0  \n",
       "2                           10                       9                  0  \n",
       "3                           10                      10                  0  \n",
       "4                            9                       9                  0  \n",
       "\n",
       "[5 rows x 32 columns]"
      ]
     },
     "execution_count": 68,
     "metadata": {},
     "output_type": "execute_result"
    }
   ],
   "source": [
    "df_train.head()"
   ]
  },
  {
   "cell_type": "code",
   "execution_count": 69,
   "id": "6af1bd89",
   "metadata": {},
   "outputs": [
    {
     "data": {
      "text/html": [
       "<div>\n",
       "<style scoped>\n",
       "    .dataframe tbody tr th:only-of-type {\n",
       "        vertical-align: middle;\n",
       "    }\n",
       "\n",
       "    .dataframe tbody tr th {\n",
       "        vertical-align: top;\n",
       "    }\n",
       "\n",
       "    .dataframe thead th {\n",
       "        text-align: right;\n",
       "    }\n",
       "</style>\n",
       "<table border=\"1\" class=\"dataframe\">\n",
       "  <thead>\n",
       "    <tr style=\"text-align: right;\">\n",
       "      <th></th>\n",
       "      <th>host_neighbourhood</th>\n",
       "      <th>host_total_listings_count</th>\n",
       "      <th>host_identity_verified</th>\n",
       "      <th>neighbourhood</th>\n",
       "      <th>neighbourhood_cleansed</th>\n",
       "      <th>latitude</th>\n",
       "      <th>longitude</th>\n",
       "      <th>property_type</th>\n",
       "      <th>room_type</th>\n",
       "      <th>bedrooms</th>\n",
       "      <th>...</th>\n",
       "      <th>availability_365</th>\n",
       "      <th>number_of_reviews</th>\n",
       "      <th>review_scores_rating</th>\n",
       "      <th>review_scores_accuracy</th>\n",
       "      <th>review_scores_cleanliness</th>\n",
       "      <th>review_scores_checkin</th>\n",
       "      <th>review_scores_communication</th>\n",
       "      <th>review_scores_location</th>\n",
       "      <th>split</th>\n",
       "      <th>host_is_superhost</th>\n",
       "    </tr>\n",
       "  </thead>\n",
       "  <tbody>\n",
       "    <tr>\n",
       "      <th>0</th>\n",
       "      <td>49.0</td>\n",
       "      <td>1</td>\n",
       "      <td>0</td>\n",
       "      <td>54.0</td>\n",
       "      <td>19.0</td>\n",
       "      <td>52.340700</td>\n",
       "      <td>4.917093</td>\n",
       "      <td>1.0</td>\n",
       "      <td>0.0</td>\n",
       "      <td>1</td>\n",
       "      <td>...</td>\n",
       "      <td>0</td>\n",
       "      <td>0</td>\n",
       "      <td>96</td>\n",
       "      <td>10</td>\n",
       "      <td>9</td>\n",
       "      <td>10</td>\n",
       "      <td>10</td>\n",
       "      <td>9</td>\n",
       "      <td>0.0</td>\n",
       "      <td>0</td>\n",
       "    </tr>\n",
       "    <tr>\n",
       "      <th>1</th>\n",
       "      <td>49.0</td>\n",
       "      <td>2</td>\n",
       "      <td>0</td>\n",
       "      <td>11.0</td>\n",
       "      <td>8.0</td>\n",
       "      <td>52.356539</td>\n",
       "      <td>4.899771</td>\n",
       "      <td>2.0</td>\n",
       "      <td>1.0</td>\n",
       "      <td>1</td>\n",
       "      <td>...</td>\n",
       "      <td>316</td>\n",
       "      <td>0</td>\n",
       "      <td>100</td>\n",
       "      <td>10</td>\n",
       "      <td>10</td>\n",
       "      <td>10</td>\n",
       "      <td>10</td>\n",
       "      <td>10</td>\n",
       "      <td>0.0</td>\n",
       "      <td>0</td>\n",
       "    </tr>\n",
       "    <tr>\n",
       "      <th>2</th>\n",
       "      <td>49.0</td>\n",
       "      <td>1</td>\n",
       "      <td>0</td>\n",
       "      <td>38.0</td>\n",
       "      <td>21.0</td>\n",
       "      <td>52.352463</td>\n",
       "      <td>4.863346</td>\n",
       "      <td>1.0</td>\n",
       "      <td>0.0</td>\n",
       "      <td>1</td>\n",
       "      <td>...</td>\n",
       "      <td>355</td>\n",
       "      <td>50</td>\n",
       "      <td>95</td>\n",
       "      <td>9</td>\n",
       "      <td>9</td>\n",
       "      <td>10</td>\n",
       "      <td>10</td>\n",
       "      <td>9</td>\n",
       "      <td>0.0</td>\n",
       "      <td>1</td>\n",
       "    </tr>\n",
       "    <tr>\n",
       "      <th>3</th>\n",
       "      <td>32.0</td>\n",
       "      <td>1</td>\n",
       "      <td>0</td>\n",
       "      <td>38.0</td>\n",
       "      <td>21.0</td>\n",
       "      <td>52.351043</td>\n",
       "      <td>4.861912</td>\n",
       "      <td>13.0</td>\n",
       "      <td>0.0</td>\n",
       "      <td>1</td>\n",
       "      <td>...</td>\n",
       "      <td>0</td>\n",
       "      <td>14</td>\n",
       "      <td>86</td>\n",
       "      <td>9</td>\n",
       "      <td>8</td>\n",
       "      <td>10</td>\n",
       "      <td>9</td>\n",
       "      <td>9</td>\n",
       "      <td>0.0</td>\n",
       "      <td>0</td>\n",
       "    </tr>\n",
       "    <tr>\n",
       "      <th>4</th>\n",
       "      <td>15.0</td>\n",
       "      <td>1</td>\n",
       "      <td>0</td>\n",
       "      <td>18.0</td>\n",
       "      <td>14.0</td>\n",
       "      <td>52.362870</td>\n",
       "      <td>4.934647</td>\n",
       "      <td>1.0</td>\n",
       "      <td>0.0</td>\n",
       "      <td>2</td>\n",
       "      <td>...</td>\n",
       "      <td>0</td>\n",
       "      <td>24</td>\n",
       "      <td>96</td>\n",
       "      <td>10</td>\n",
       "      <td>10</td>\n",
       "      <td>10</td>\n",
       "      <td>10</td>\n",
       "      <td>9</td>\n",
       "      <td>0.0</td>\n",
       "      <td>0</td>\n",
       "    </tr>\n",
       "  </tbody>\n",
       "</table>\n",
       "<p>5 rows × 33 columns</p>\n",
       "</div>"
      ],
      "text/plain": [
       "   host_neighbourhood  host_total_listings_count  host_identity_verified  \\\n",
       "0                49.0                          1                       0   \n",
       "1                49.0                          2                       0   \n",
       "2                49.0                          1                       0   \n",
       "3                32.0                          1                       0   \n",
       "4                15.0                          1                       0   \n",
       "\n",
       "   neighbourhood  neighbourhood_cleansed   latitude  longitude  property_type  \\\n",
       "0           54.0                    19.0  52.340700   4.917093            1.0   \n",
       "1           11.0                     8.0  52.356539   4.899771            2.0   \n",
       "2           38.0                    21.0  52.352463   4.863346            1.0   \n",
       "3           38.0                    21.0  52.351043   4.861912           13.0   \n",
       "4           18.0                    14.0  52.362870   4.934647            1.0   \n",
       "\n",
       "   room_type  bedrooms  ...  availability_365  number_of_reviews  \\\n",
       "0        0.0         1  ...                 0                  0   \n",
       "1        1.0         1  ...               316                  0   \n",
       "2        0.0         1  ...               355                 50   \n",
       "3        0.0         1  ...                 0                 14   \n",
       "4        0.0         2  ...                 0                 24   \n",
       "\n",
       "   review_scores_rating  review_scores_accuracy  review_scores_cleanliness  \\\n",
       "0                    96                      10                          9   \n",
       "1                   100                      10                         10   \n",
       "2                    95                       9                          9   \n",
       "3                    86                       9                          8   \n",
       "4                    96                      10                         10   \n",
       "\n",
       "   review_scores_checkin  review_scores_communication  review_scores_location  \\\n",
       "0                     10                           10                       9   \n",
       "1                     10                           10                      10   \n",
       "2                     10                           10                       9   \n",
       "3                     10                            9                       9   \n",
       "4                     10                           10                       9   \n",
       "\n",
       "   split  host_is_superhost  \n",
       "0    0.0                  0  \n",
       "1    0.0                  0  \n",
       "2    0.0                  1  \n",
       "3    0.0                  0  \n",
       "4    0.0                  0  \n",
       "\n",
       "[5 rows x 33 columns]"
      ]
     },
     "execution_count": 69,
     "metadata": {},
     "output_type": "execute_result"
    }
   ],
   "source": [
    "df_ros.head()"
   ]
  },
  {
   "cell_type": "code",
   "execution_count": 72,
   "id": "784d33d3",
   "metadata": {},
   "outputs": [
    {
     "data": {
      "text/plain": [
       "(24298, 32)"
      ]
     },
     "execution_count": 72,
     "metadata": {},
     "output_type": "execute_result"
    }
   ],
   "source": [
    "df_ros.shape"
   ]
  },
  {
   "cell_type": "code",
   "execution_count": 73,
   "id": "d756840b",
   "metadata": {},
   "outputs": [
    {
     "data": {
      "text/plain": [
       "(16024, 32)"
      ]
     },
     "execution_count": 73,
     "metadata": {},
     "output_type": "execute_result"
    }
   ],
   "source": [
    "df_train.shape"
   ]
  },
  {
   "cell_type": "code",
   "execution_count": 74,
   "id": "bbf31bf0",
   "metadata": {},
   "outputs": [],
   "source": [
    "df_ros.to_csv('df_ros.csv')"
   ]
  },
  {
   "cell_type": "markdown",
   "id": "9bd23446",
   "metadata": {},
   "source": [
    "# Next to stage 6 - Model selection"
   ]
  },
  {
   "cell_type": "code",
   "execution_count": null,
   "id": "5bb2a1a1",
   "metadata": {},
   "outputs": [],
   "source": []
  }
 ],
 "metadata": {
  "kernelspec": {
   "display_name": "Python 3",
   "language": "python",
   "name": "python3"
  },
  "language_info": {
   "codemirror_mode": {
    "name": "ipython",
    "version": 3
   },
   "file_extension": ".py",
   "mimetype": "text/x-python",
   "name": "python",
   "nbconvert_exporter": "python",
   "pygments_lexer": "ipython3",
   "version": "3.8.8"
  }
 },
 "nbformat": 4,
 "nbformat_minor": 5
}
