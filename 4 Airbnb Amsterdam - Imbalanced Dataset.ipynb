{
 "cells": [
  {
   "cell_type": "markdown",
   "id": "1a55e52c",
   "metadata": {},
   "source": [
    "# Stage 5: Imbalanced Dataset"
   ]
  },
  {
   "cell_type": "markdown",
   "id": "cc87fb94",
   "metadata": {},
   "source": [
    "Class Imbalance is a common problem in machine learning, especially in classification.\n",
    "Most ML algorithms work best when the number of samples in each class are about equal.\n",
    "Our dataset is imbalanced with a target value of 15%; We will get high accuracy just by predicting the majority class, but we will fail to capture the minority class, which is the point of creating the model in the first place.\n",
    "In this stage we will find the technique to find the dataset balance that will provide us with the best performance. "
   ]
  },
  {
   "cell_type": "code",
   "execution_count": 1,
   "id": "1670ca14",
   "metadata": {},
   "outputs": [
    {
     "name": "stdout",
     "output_type": "stream",
     "text": [
      "Requirement already satisfied: matplotlib in c:\\users\\ophir\\anaconda3\\lib\\site-packages (3.5.2)\n",
      "Requirement already satisfied: packaging>=20.0 in c:\\users\\ophir\\anaconda3\\lib\\site-packages (from matplotlib) (20.9)\n",
      "Requirement already satisfied: pillow>=6.2.0 in c:\\users\\ophir\\anaconda3\\lib\\site-packages (from matplotlib) (8.2.0)\n",
      "Requirement already satisfied: python-dateutil>=2.7 in c:\\users\\ophir\\anaconda3\\lib\\site-packages (from matplotlib) (2.8.1)\n",
      "Requirement already satisfied: cycler>=0.10 in c:\\users\\ophir\\anaconda3\\lib\\site-packages (from matplotlib) (0.10.0)\n",
      "Requirement already satisfied: fonttools>=4.22.0 in c:\\users\\ophir\\anaconda3\\lib\\site-packages (from matplotlib) (4.33.3)\n",
      "Requirement already satisfied: numpy>=1.17 in c:\\users\\ophir\\anaconda3\\lib\\site-packages (from matplotlib) (1.22.4)\n",
      "Requirement already satisfied: pyparsing>=2.2.1 in c:\\users\\ophir\\anaconda3\\lib\\site-packages (from matplotlib) (2.4.7)\n",
      "Requirement already satisfied: kiwisolver>=1.0.1 in c:\\users\\ophir\\anaconda3\\lib\\site-packages (from matplotlib) (1.3.1)\n",
      "Requirement already satisfied: six in c:\\users\\ophir\\anaconda3\\lib\\site-packages (from cycler>=0.10->matplotlib) (1.15.0)\n",
      "Requirement already satisfied: imbalanced-learn in c:\\users\\ophir\\anaconda3\\lib\\site-packages (0.9.1)\n",
      "Requirement already satisfied: threadpoolctl>=2.0.0 in c:\\users\\ophir\\anaconda3\\lib\\site-packages (from imbalanced-learn) (2.1.0)\n",
      "Requirement already satisfied: numpy>=1.17.3 in c:\\users\\ophir\\anaconda3\\lib\\site-packages (from imbalanced-learn) (1.22.4)\n",
      "Requirement already satisfied: joblib>=1.0.0 in c:\\users\\ophir\\anaconda3\\lib\\site-packages (from imbalanced-learn) (1.0.1)\n",
      "Requirement already satisfied: scikit-learn>=1.1.0 in c:\\users\\ophir\\anaconda3\\lib\\site-packages (from imbalanced-learn) (1.1.1)\n",
      "Requirement already satisfied: scipy>=1.3.2 in c:\\users\\ophir\\anaconda3\\lib\\site-packages (from imbalanced-learn) (1.6.2)\n",
      "0.9.1\n"
     ]
    }
   ],
   "source": [
    "#PART 1\n",
    "!pip install matplotlib\n",
    "!pip install imbalanced-learn\n",
    "import imblearn\n",
    "print(imblearn.__version__)\n",
    "#import random undersampling and other necessary libraries \n",
    "from collections import Counter\n",
    "from imblearn.under_sampling import RandomUnderSampler\n",
    "from sklearn.model_selection import train_test_split\n",
    "from imblearn.pipeline import Pipeline\n",
    "from sklearn.model_selection import cross_validate\n",
    "from sklearn.model_selection import RepeatedStratifiedKFold\n",
    "import pandas as pd\n",
    "import numpy as np\n",
    "import warnings\n",
    "warnings.simplefilter(action='ignore', category=FutureWarning)\n",
    "import pandas as pd\n",
    "import numpy as np\n",
    "import seaborn as sns\n",
    "import matplotlib.pyplot as plt\n",
    "warnings.filterwarnings(\"ignore\")"
   ]
  },
  {
   "cell_type": "markdown",
   "id": "9d48a50b",
   "metadata": {},
   "source": [
    "Imbalanced dataset process is performed with the train dataframe only"
   ]
  },
  {
   "cell_type": "code",
   "execution_count": 2,
   "id": "101e8153",
   "metadata": {
    "scrolled": true
   },
   "outputs": [
    {
     "data": {
      "text/html": [
       "<div>\n",
       "<style scoped>\n",
       "    .dataframe tbody tr th:only-of-type {\n",
       "        vertical-align: middle;\n",
       "    }\n",
       "\n",
       "    .dataframe tbody tr th {\n",
       "        vertical-align: top;\n",
       "    }\n",
       "\n",
       "    .dataframe thead th {\n",
       "        text-align: right;\n",
       "    }\n",
       "</style>\n",
       "<table border=\"1\" class=\"dataframe\">\n",
       "  <thead>\n",
       "    <tr style=\"text-align: right;\">\n",
       "      <th></th>\n",
       "      <th>Unnamed: 0</th>\n",
       "      <th>host_response_time</th>\n",
       "      <th>host_neighbourhood</th>\n",
       "      <th>host_total_listings_count</th>\n",
       "      <th>neighbourhood</th>\n",
       "      <th>neighbourhood_cleansed</th>\n",
       "      <th>latitude</th>\n",
       "      <th>property_type</th>\n",
       "      <th>room_type</th>\n",
       "      <th>beds</th>\n",
       "      <th>...</th>\n",
       "      <th>years_of_hosting</th>\n",
       "      <th>qnum_since_last_review</th>\n",
       "      <th>qnum_since_first_review</th>\n",
       "      <th>hair_dryer</th>\n",
       "      <th>shampoo</th>\n",
       "      <th>hot_water</th>\n",
       "      <th>dishes_and_silverware</th>\n",
       "      <th>luggage_dropoff_allowed</th>\n",
       "      <th>host_is_superhost</th>\n",
       "      <th>split</th>\n",
       "    </tr>\n",
       "  </thead>\n",
       "  <tbody>\n",
       "    <tr>\n",
       "      <th>0</th>\n",
       "      <td>17963</td>\n",
       "      <td>1.0</td>\n",
       "      <td>31.0</td>\n",
       "      <td>1</td>\n",
       "      <td>37.0</td>\n",
       "      <td>7.0</td>\n",
       "      <td>52.369168</td>\n",
       "      <td>1.0</td>\n",
       "      <td>0.0</td>\n",
       "      <td>3</td>\n",
       "      <td>...</td>\n",
       "      <td>1</td>\n",
       "      <td>6</td>\n",
       "      <td>6</td>\n",
       "      <td>1</td>\n",
       "      <td>0</td>\n",
       "      <td>0</td>\n",
       "      <td>0</td>\n",
       "      <td>0</td>\n",
       "      <td>0</td>\n",
       "      <td>0.0</td>\n",
       "    </tr>\n",
       "    <tr>\n",
       "      <th>1</th>\n",
       "      <td>16024</td>\n",
       "      <td>1.0</td>\n",
       "      <td>49.0</td>\n",
       "      <td>1</td>\n",
       "      <td>37.0</td>\n",
       "      <td>20.0</td>\n",
       "      <td>52.382810</td>\n",
       "      <td>1.0</td>\n",
       "      <td>0.0</td>\n",
       "      <td>8</td>\n",
       "      <td>...</td>\n",
       "      <td>3</td>\n",
       "      <td>0</td>\n",
       "      <td>0</td>\n",
       "      <td>1</td>\n",
       "      <td>1</td>\n",
       "      <td>0</td>\n",
       "      <td>0</td>\n",
       "      <td>0</td>\n",
       "      <td>0</td>\n",
       "      <td>0.0</td>\n",
       "    </tr>\n",
       "    <tr>\n",
       "      <th>2</th>\n",
       "      <td>11060</td>\n",
       "      <td>3.0</td>\n",
       "      <td>49.0</td>\n",
       "      <td>1</td>\n",
       "      <td>37.0</td>\n",
       "      <td>7.0</td>\n",
       "      <td>52.369850</td>\n",
       "      <td>1.0</td>\n",
       "      <td>0.0</td>\n",
       "      <td>1</td>\n",
       "      <td>...</td>\n",
       "      <td>5</td>\n",
       "      <td>5</td>\n",
       "      <td>19</td>\n",
       "      <td>1</td>\n",
       "      <td>0</td>\n",
       "      <td>0</td>\n",
       "      <td>0</td>\n",
       "      <td>0</td>\n",
       "      <td>0</td>\n",
       "      <td>0.0</td>\n",
       "    </tr>\n",
       "    <tr>\n",
       "      <th>3</th>\n",
       "      <td>1961</td>\n",
       "      <td>4.0</td>\n",
       "      <td>8.0</td>\n",
       "      <td>1</td>\n",
       "      <td>11.0</td>\n",
       "      <td>8.0</td>\n",
       "      <td>52.356726</td>\n",
       "      <td>1.0</td>\n",
       "      <td>1.0</td>\n",
       "      <td>1</td>\n",
       "      <td>...</td>\n",
       "      <td>5</td>\n",
       "      <td>5</td>\n",
       "      <td>13</td>\n",
       "      <td>1</td>\n",
       "      <td>0</td>\n",
       "      <td>1</td>\n",
       "      <td>0</td>\n",
       "      <td>0</td>\n",
       "      <td>1</td>\n",
       "      <td>0.0</td>\n",
       "    </tr>\n",
       "    <tr>\n",
       "      <th>4</th>\n",
       "      <td>2042</td>\n",
       "      <td>1.0</td>\n",
       "      <td>49.0</td>\n",
       "      <td>1</td>\n",
       "      <td>31.0</td>\n",
       "      <td>11.0</td>\n",
       "      <td>52.350358</td>\n",
       "      <td>18.0</td>\n",
       "      <td>1.0</td>\n",
       "      <td>1</td>\n",
       "      <td>...</td>\n",
       "      <td>7</td>\n",
       "      <td>6</td>\n",
       "      <td>13</td>\n",
       "      <td>1</td>\n",
       "      <td>1</td>\n",
       "      <td>1</td>\n",
       "      <td>0</td>\n",
       "      <td>0</td>\n",
       "      <td>1</td>\n",
       "      <td>0.0</td>\n",
       "    </tr>\n",
       "  </tbody>\n",
       "</table>\n",
       "<p>5 rows × 37 columns</p>\n",
       "</div>"
      ],
      "text/plain": [
       "   Unnamed: 0  host_response_time  host_neighbourhood  \\\n",
       "0       17963                 1.0                31.0   \n",
       "1       16024                 1.0                49.0   \n",
       "2       11060                 3.0                49.0   \n",
       "3        1961                 4.0                 8.0   \n",
       "4        2042                 1.0                49.0   \n",
       "\n",
       "   host_total_listings_count  neighbourhood  neighbourhood_cleansed  \\\n",
       "0                          1           37.0                     7.0   \n",
       "1                          1           37.0                    20.0   \n",
       "2                          1           37.0                     7.0   \n",
       "3                          1           11.0                     8.0   \n",
       "4                          1           31.0                    11.0   \n",
       "\n",
       "    latitude  property_type  room_type  beds  ...  years_of_hosting  \\\n",
       "0  52.369168            1.0        0.0     3  ...                 1   \n",
       "1  52.382810            1.0        0.0     8  ...                 3   \n",
       "2  52.369850            1.0        0.0     1  ...                 5   \n",
       "3  52.356726            1.0        1.0     1  ...                 5   \n",
       "4  52.350358           18.0        1.0     1  ...                 7   \n",
       "\n",
       "   qnum_since_last_review  qnum_since_first_review  hair_dryer  shampoo  \\\n",
       "0                       6                        6           1        0   \n",
       "1                       0                        0           1        1   \n",
       "2                       5                       19           1        0   \n",
       "3                       5                       13           1        0   \n",
       "4                       6                       13           1        1   \n",
       "\n",
       "   hot_water  dishes_and_silverware  luggage_dropoff_allowed  \\\n",
       "0          0                      0                        0   \n",
       "1          0                      0                        0   \n",
       "2          0                      0                        0   \n",
       "3          1                      0                        0   \n",
       "4          1                      0                        0   \n",
       "\n",
       "   host_is_superhost  split  \n",
       "0                  0    0.0  \n",
       "1                  0    0.0  \n",
       "2                  0    0.0  \n",
       "3                  1    0.0  \n",
       "4                  1    0.0  \n",
       "\n",
       "[5 rows x 37 columns]"
      ]
     },
     "execution_count": 2,
     "metadata": {},
     "output_type": "execute_result"
    }
   ],
   "source": [
    "#uploading the train data\n",
    "df_train = pd.read_csv('Amsterdam_train.csv')\n",
    "df_train.head()"
   ]
  },
  {
   "cell_type": "code",
   "execution_count": 3,
   "id": "c3438f3d",
   "metadata": {},
   "outputs": [],
   "source": [
    "#stubborn upload bug\n",
    "del df_train['Unnamed: 0']"
   ]
  },
  {
   "cell_type": "code",
   "execution_count": 4,
   "id": "37f3c702",
   "metadata": {},
   "outputs": [
    {
     "data": {
      "text/plain": [
       "(12018, 36)"
      ]
     },
     "execution_count": 4,
     "metadata": {},
     "output_type": "execute_result"
    }
   ],
   "source": [
    "df_train.shape"
   ]
  },
  {
   "cell_type": "code",
   "execution_count": 5,
   "id": "2f7bd804",
   "metadata": {},
   "outputs": [
    {
     "data": {
      "image/png": "[encoded data removed]",
      "text/plain": [
       "<Figure size 432x288 with 1 Axes>"
      ]
     },
     "metadata": {
      "needs_background": "light"
     },
     "output_type": "display_data"
    }
   ],
   "source": [
    "# visualize the target variable\n",
    "g = sns.countplot(df_train['host_is_superhost'])\n",
    "g.set_xticklabels(['host_is_superhost'==0,'host_is_superhost'==1])\n",
    "\n",
    "plt.show()\n"
   ]
  },
  {
   "cell_type": "markdown",
   "id": "5066212e",
   "metadata": {},
   "source": [
    "# The Metric Trap"
   ]
  },
  {
   "cell_type": "markdown",
   "id": "6238d360",
   "metadata": {},
   "source": [
    "Running example with xgboost "
   ]
  },
  {
   "cell_type": "code",
   "execution_count": 6,
   "id": "d5ce9b85",
   "metadata": {},
   "outputs": [
    {
     "name": "stdout",
     "output_type": "stream",
     "text": [
      "[14:55:16] WARNING: C:/Users/Administrator/workspace/xgboost-win64_release_1.5.1/src/learner.cc:1115: Starting in XGBoost 1.3.0, the default evaluation metric used with the objective 'binary:logistic' was changed from 'error' to 'logloss'. Explicitly set eval_metric if you'd like to restore the old behavior.\n",
      "Accuracy: 89.02%\n"
     ]
    }
   ],
   "source": [
    "from xgboost import XGBClassifier\n",
    "from sklearn.model_selection import train_test_split\n",
    "from sklearn.metrics import accuracy_score\n",
    "\n",
    "X= df_train.loc[:,df_train.columns != 'host_is_superhost']\n",
    "y = df_train['host_is_superhost']\n",
    "\n",
    "X_train, X_test, y_train, y_test = train_test_split(X, y, test_size=0.1, random_state=10)\n",
    "\n",
    "model = XGBClassifier()\n",
    "model.fit(X_train, y_train)\n",
    "y_pred = model.predict(X_test)\n",
    "\n",
    "accuracy = accuracy_score(y_test, y_pred)\n",
    "print(\"Accuracy: %.2f%%\" % (accuracy * 100.0))"
   ]
  },
  {
   "cell_type": "markdown",
   "id": "86741496",
   "metadata": {},
   "source": [
    "We got 89% accuracy with xgboost classsifier; provided prediction of the host_is_soperhost = 0"
   ]
  },
  {
   "cell_type": "code",
   "execution_count": 7,
   "id": "d8d62fd8",
   "metadata": {},
   "outputs": [
    {
     "name": "stdout",
     "output_type": "stream",
     "text": [
      "class 0: (10142, 36)\n",
      "class 1: (1876, 36)\n",
      "difference: 8266\n",
      "mid range 938.0\n"
     ]
    }
   ],
   "source": [
    "# class count\n",
    "class_count_0, class_count_1 = df_train['host_is_superhost'].value_counts()\n",
    "\n",
    "# Separate class\n",
    "class_0 = df_train[df_train['host_is_superhost'] == 0]\n",
    "class_1 = df_train[df_train['host_is_superhost'] == 1]# print the shape of the class\n",
    "print('class 0:', class_0.shape)\n",
    "print('class 1:', class_1.shape)\n",
    "print('difference:', (df_train['host_is_superhost'] == 0).sum()-(df_train['host_is_superhost'] == 1).sum())\n",
    "print('mid range', df_train['host_is_superhost'].sum()/2 )"
   ]
  },
  {
   "cell_type": "markdown",
   "id": "9dbbeb3f",
   "metadata": {},
   "source": [
    "# Confusion matrix"
   ]
  },
  {
   "cell_type": "markdown",
   "id": "adbc234e",
   "metadata": {},
   "source": [
    "Therefore, the higher the diagonal values of the confusion matrix - the better, indicating many correct predictions."
   ]
  },
  {
   "cell_type": "code",
   "execution_count": 8,
   "id": "c6d4d74f",
   "metadata": {},
   "outputs": [
    {
     "name": "stdout",
     "output_type": "stream",
     "text": [
      "Confusion matrix:\n",
      " [[981  48]\n",
      " [ 84  89]]\n"
     ]
    },
    {
     "data": {
      "image/png": "[encoded data removed]",
      "text/plain": [
       "<Figure size 432x288 with 2 Axes>"
      ]
     },
     "metadata": {
      "needs_background": "light"
     },
     "output_type": "display_data"
    }
   ],
   "source": [
    "from sklearn.metrics import confusion_matrix\n",
    "from matplotlib import pyplot as plt\n",
    "\n",
    "conf_mat = confusion_matrix(y_true=y_test, y_pred=y_pred)\n",
    "print('Confusion matrix:\\n', conf_mat)\n",
    "\n",
    "labels = ['Class 0', 'Class 1']\n",
    "fig = plt.figure()\n",
    "ax = fig.add_subplot(111)\n",
    "cax = ax.matshow(conf_mat, cmap=plt.cm.Blues)\n",
    "fig.colorbar(cax)\n",
    "ax.set_xticklabels([''] + labels)\n",
    "ax.set_yticklabels([''] + labels)\n",
    "plt.xlabel('Predicted')\n",
    "plt.ylabel('Expected')\n",
    "plt.show()"
   ]
  },
  {
   "cell_type": "code",
   "execution_count": 9,
   "id": "2e8ccc62",
   "metadata": {},
   "outputs": [],
   "source": [
    "# Class count\n",
    "count_class_0, count_class_1 = df_train['host_is_superhost'].value_counts()\n",
    "\n",
    "# Divide df by class\n",
    "df_class_0 = df_train[df_train['host_is_superhost'] == 0]\n",
    "df_class_1 = df_train[df_train['host_is_superhost'] == 1]"
   ]
  },
  {
   "cell_type": "markdown",
   "id": "5d12fa59",
   "metadata": {},
   "source": [
    "### 1. Random Under-Sampling"
   ]
  },
  {
   "cell_type": "markdown",
   "id": "f868f807",
   "metadata": {},
   "source": [
    "Visualizing balanced datasets: first cutting the majority value to the level of the minority. Than – creating additional data from the minority (Target Value)"
   ]
  },
  {
   "cell_type": "code",
   "execution_count": 10,
   "id": "4ee24409",
   "metadata": {},
   "outputs": [
    {
     "name": "stdout",
     "output_type": "stream",
     "text": [
      "Random under-sampling:\n",
      "0    1876\n",
      "1    1876\n",
      "Name: host_is_superhost, dtype: int64\n"
     ]
    },
    {
     "data": {
      "text/plain": [
       "[Text(0.5, 1.0, 'Under Sampling')]"
      ]
     },
     "execution_count": 10,
     "metadata": {},
     "output_type": "execute_result"
    },
    {
     "data": {
      "image/png": "[encoded data removed]",
      "text/plain": [
       "<Figure size 720x360 with 1 Axes>"
      ]
     },
     "metadata": {
      "needs_background": "light"
     },
     "output_type": "display_data"
    }
   ],
   "source": [
    "df_class_0_under = df_class_0.sample(count_class_1)\n",
    "df_test_under = pd.concat([df_class_0_under, df_class_1], axis=0)\n",
    "\n",
    "print('Random under-sampling:')\n",
    "print(df_test_under['host_is_superhost'].value_counts())\n",
    "\n",
    "fig, ax = plt.subplots(figsize=(10,5))\n",
    "sns.countplot(x=df_test_under['host_is_superhost'].dropna(),data=df_test_under, palette=\"Set2\").set(title='Under Sampling')"
   ]
  },
  {
   "cell_type": "code",
   "execution_count": null,
   "id": "bc240abf",
   "metadata": {},
   "outputs": [],
   "source": []
  },
  {
   "cell_type": "markdown",
   "id": "276e3faf",
   "metadata": {},
   "source": [
    "### 2. Random Over-Sampling\n"
   ]
  },
  {
   "cell_type": "code",
   "execution_count": 11,
   "id": "878fe0fd",
   "metadata": {},
   "outputs": [
    {
     "name": "stdout",
     "output_type": "stream",
     "text": [
      "Random over-sampling:\n",
      "1    10142\n",
      "0    10142\n",
      "Name: host_is_superhost, dtype: int64\n"
     ]
    },
    {
     "data": {
      "text/plain": [
       "[Text(0.5, 1.0, 'Over Sampling')]"
      ]
     },
     "execution_count": 11,
     "metadata": {},
     "output_type": "execute_result"
    },
    {
     "data": {
      "image/png": "[encoded data removed]",
      "text/plain": [
       "<Figure size 720x360 with 1 Axes>"
      ]
     },
     "metadata": {
      "needs_background": "light"
     },
     "output_type": "display_data"
    }
   ],
   "source": [
    "df_class_1_over = df_class_1.sample(count_class_0, replace=True)\n",
    "df_test_over = pd.concat([df_class_1_over, df_class_0], axis=0)\n",
    "\n",
    "print('Random over-sampling:')\n",
    "print(df_test_over['host_is_superhost'].value_counts())\n",
    "\n",
    "fig, ax = plt.subplots(figsize=(10,5))\n",
    "sns.countplot(x=df_test_over['host_is_superhost'].dropna(),data=df_test_over, palette=\"Set1\").set(title='Over Sampling')"
   ]
  },
  {
   "cell_type": "markdown",
   "id": "b1eb0326",
   "metadata": {},
   "source": [
    "# Imbalanced Techniques "
   ]
  },
  {
   "cell_type": "code",
   "execution_count": 12,
   "id": "5020fcbf",
   "metadata": {},
   "outputs": [],
   "source": [
    "import imblearn\n",
    "from imblearn.under_sampling import RandomUnderSampler\n",
    "from imblearn.under_sampling import TomekLinks\n",
    "from imblearn.over_sampling import RandomOverSampler \n",
    "from sklearn.datasets import make_classification\n",
    "from sklearn.ensemble import RandomForestClassifier"
   ]
  },
  {
   "cell_type": "code",
   "execution_count": 13,
   "id": "3eae634c",
   "metadata": {},
   "outputs": [],
   "source": [
    "# define dataset\n",
    "X, y = make_classification(n_samples=10000, n_features=2, n_redundant=0,\n",
    "       n_clusters_per_class=1, weights=[0.99], flip_y=0, random_state=1)"
   ]
  },
  {
   "cell_type": "markdown",
   "id": "f50ac722",
   "metadata": {},
   "source": [
    "Visualizing Classes"
   ]
  },
  {
   "cell_type": "code",
   "execution_count": 14,
   "id": "fd4b9737",
   "metadata": {},
   "outputs": [],
   "source": [
    "def plot_2d_space(X, y, label='Classes'):   \n",
    "    colors = ['#1F77B4', '#FF7F0E']\n",
    "    markers = ['o', 's']\n",
    "    for l, c, m in zip(np.unique(y), colors, markers):\n",
    "        plt.scatter(\n",
    "            X[y==l, 0],\n",
    "            X[y==l, 1],\n",
    "            c=c, label=l, marker=m\n",
    "        )\n",
    "    plt.title(label)\n",
    "    plt.legend(loc='upper right')\n",
    "    plt.show()"
   ]
  },
  {
   "cell_type": "code",
   "execution_count": 15,
   "id": "48d99f7f",
   "metadata": {},
   "outputs": [
    {
     "data": {
      "image/png": "[encoded data removed]",
      "text/plain": [
       "<Figure size 432x288 with 1 Axes>"
      ]
     },
     "metadata": {
      "needs_background": "light"
     },
     "output_type": "display_data"
    }
   ],
   "source": [
    "from sklearn.decomposition import PCA\n",
    "\n",
    "pca = PCA(n_components=2)\n",
    "X = pca.fit_transform(X)\n",
    "\n",
    "plot_2d_space(X, y, 'Imbalanced dataset (2 PCA components)')"
   ]
  },
  {
   "cell_type": "markdown",
   "id": "8bb139e6",
   "metadata": {},
   "source": [
    "# Random Under-Sampling"
   ]
  },
  {
   "cell_type": "markdown",
   "id": "1ba53569",
   "metadata": {},
   "source": [
    "The following models will provide blancing resluts and accuracy using Random Forest Classifier\n",
    "We choose sampling_strategy='all'"
   ]
  },
  {
   "cell_type": "code",
   "execution_count": 16,
   "id": "046f8272",
   "metadata": {},
   "outputs": [
    {
     "name": "stdout",
     "output_type": "stream",
     "text": [
      "original dataset shape: Counter({0: 9900, 1: 100})\n",
      "Resample dataset shape Counter({0: 100, 1: 100})\n",
      "0 new random picked points\n"
     ]
    },
    {
     "data": {
      "image/png": "[encoded data removed]",
      "text/plain": [
       "<Figure size 432x288 with 1 Axes>"
      ]
     },
     "metadata": {
      "needs_background": "light"
     },
     "output_type": "display_data"
    }
   ],
   "source": [
    "# import library\n",
    "from imblearn.under_sampling import RandomUnderSampler\n",
    "\n",
    "rus = RandomUnderSampler()# fit predictor and target variable\n",
    "X_rus, y_rus = rus.fit_resample(X, y)\n",
    "\n",
    "print('original dataset shape:', Counter(y))\n",
    "print('Resample dataset shape', Counter(y_rus))\n",
    "print(X_rus.shape[1] - X.shape[1], 'new random picked points')\n",
    "\n",
    "plot_2d_space(X_rus, y_rus, 'Random under-sampling')"
   ]
  },
  {
   "cell_type": "code",
   "execution_count": 17,
   "id": "7e9be0fd",
   "metadata": {},
   "outputs": [
    {
     "name": "stdout",
     "output_type": "stream",
     "text": [
      "Mean Accuracy: 0.9067\n",
      "Mean Precision: 0.5444\n",
      "Mean Recall: 0.8869\n"
     ]
    }
   ],
   "source": [
    "#Define model\n",
    "model=RandomForestClassifier()\n",
    "#Define sampler\n",
    "rus_resample = RandomUnderSampler(sampling_strategy='all')\n",
    "#Define pipeline\n",
    "pipeline=Pipeline(steps=[('r', rus_resample), ('m', model)])\n",
    "#Define evaluation procedure (here we use Repeated Stratified K-Fold CV)\n",
    "cv=RepeatedStratifiedKFold(n_splits=10, n_repeats=3, random_state=1)\n",
    "#Evaluate model\n",
    "scoring=['accuracy','precision_macro','recall_macro']\n",
    "scores = cross_validate(pipeline, X, y, scoring=scoring, cv=cv, n_jobs=-1)\n",
    "\n",
    "# summarize performance\n",
    "print('Mean Accuracy: %.4f' % np.mean(scores['test_accuracy']))\n",
    "print('Mean Precision: %.4f' % np.mean(scores['test_precision_macro']))\n",
    "print('Mean Recall: %.4f' % np.mean(scores['test_recall_macro']))"
   ]
  },
  {
   "cell_type": "markdown",
   "id": "09d40b52",
   "metadata": {},
   "source": [
    "# Random Over-Sampling"
   ]
  },
  {
   "cell_type": "markdown",
   "id": "ccdb5270",
   "metadata": {},
   "source": [
    "Generate new samples in the minority classes"
   ]
  },
  {
   "cell_type": "code",
   "execution_count": 18,
   "id": "98837d24",
   "metadata": {},
   "outputs": [
    {
     "name": "stdout",
     "output_type": "stream",
     "text": [
      "original dataset shape: Counter({0: 9900, 1: 100})\n",
      "Resample dataset shape Counter({0: 9900, 1: 9900})\n",
      "9800 new random picked points\n"
     ]
    },
    {
     "data": {
      "image/png": "[encoded data removed]",
      "text/plain": [
       "<Figure size 432x288 with 1 Axes>"
      ]
     },
     "metadata": {
      "needs_background": "light"
     },
     "output_type": "display_data"
    }
   ],
   "source": [
    "from imblearn.over_sampling import RandomOverSampler\n",
    "\n",
    "ros = RandomOverSampler()\n",
    "X_ros, y_ros = ros.fit_resample(X, y)\n",
    "\n",
    "print('original dataset shape:', Counter(y))\n",
    "print('Resample dataset shape', Counter(y_ros))\n",
    "print(X_ros.shape[0] - X.shape[0], 'new random picked points')\n",
    "\n",
    "plot_2d_space(X_ros, y_ros, 'Random over-sampling')"
   ]
  },
  {
   "cell_type": "code",
   "execution_count": null,
   "id": "695ba2fb",
   "metadata": {},
   "outputs": [],
   "source": []
  },
  {
   "cell_type": "code",
   "execution_count": 19,
   "id": "bbd594c0",
   "metadata": {},
   "outputs": [
    {
     "name": "stdout",
     "output_type": "stream",
     "text": [
      "Mean Accuracy: 0.9927\n",
      "Mean Precision: 0.8413\n",
      "Mean Recall: 0.7588\n"
     ]
    }
   ],
   "source": [
    "#Define model\n",
    "model=RandomForestClassifier()\n",
    "#Define sampler\n",
    "ros_resample = RandomOverSampler(sampling_strategy='all')\n",
    "#Define pipeline\n",
    "pipeline=Pipeline(steps=[('r', ros_resample), ('m', model)])\n",
    "#Define evaluation procedure (here we use Repeated Stratified K-Fold CV)\n",
    "cv=RepeatedStratifiedKFold(n_splits=10, n_repeats=3, random_state=1)\n",
    "#Evaluate model\n",
    "scoring=['accuracy','precision_macro','recall_macro']\n",
    "scores = cross_validate(pipeline, X, y, scoring=scoring, cv=cv, n_jobs=-1)\n",
    "\n",
    "# summarize performance\n",
    "print('Mean Accuracy: %.4f' % np.mean(scores['test_accuracy']))\n",
    "print('Mean Precision: %.4f' % np.mean(scores['test_precision_macro']))\n",
    "print('Mean Recall: %.4f' % np.mean(scores['test_recall_macro']))"
   ]
  },
  {
   "cell_type": "markdown",
   "id": "689e5429",
   "metadata": {},
   "source": [
    "Checking distribution differences"
   ]
  },
  {
   "cell_type": "code",
   "execution_count": 20,
   "id": "e71d0215",
   "metadata": {},
   "outputs": [
    {
     "data": {
      "text/plain": [
       "<AxesSubplot:ylabel='Density'>"
      ]
     },
     "execution_count": 20,
     "metadata": {},
     "output_type": "execute_result"
    },
    {
     "data": {
      "image/png": "[encoded data removed]",
      "text/plain": [
       "<Figure size 432x288 with 1 Axes>"
      ]
     },
     "metadata": {
      "needs_background": "light"
     },
     "output_type": "display_data"
    }
   ],
   "source": [
    "sns.distplot(X_rus)\n",
    "sns.distplot(X_ros)"
   ]
  },
  {
   "cell_type": "markdown",
   "id": "09a7cd55",
   "metadata": {},
   "source": [
    "# Over-sampling: SMOTE"
   ]
  },
  {
   "cell_type": "code",
   "execution_count": 21,
   "id": "50369370",
   "metadata": {},
   "outputs": [],
   "source": [
    "from collections import Counter\n",
    "from sklearn.datasets import make_classification\n",
    "from imblearn.over_sampling import SMOTE\n",
    "from imblearn.combine import SMOTETomek\n",
    "import random"
   ]
  },
  {
   "cell_type": "markdown",
   "id": "7828f55e",
   "metadata": {},
   "source": [
    "Synthetic Minority Oversampling Technique using synthetic data"
   ]
  },
  {
   "cell_type": "code",
   "execution_count": 22,
   "id": "9fa167f2",
   "metadata": {},
   "outputs": [
    {
     "name": "stdout",
     "output_type": "stream",
     "text": [
      "Original dataset shape Counter({0: 9900, 1: 100})\n",
      "Resample dataset shape Counter({0: 9900, 1: 9900})\n"
     ]
    },
    {
     "data": {
      "image/png": "[encoded data removed]",
      "text/plain": [
       "<Figure size 432x288 with 1 Axes>"
      ]
     },
     "metadata": {
      "needs_background": "light"
     },
     "output_type": "display_data"
    }
   ],
   "source": [
    "# import library\n",
    "from imblearn.over_sampling import SMOTE\n",
    "\n",
    "smote = SMOTE()\n",
    "\n",
    "# fit predictor and target variable\n",
    "x_smote, y_smote = smote.fit_resample(X, y)\n",
    "\n",
    "print('Original dataset shape', Counter(y))\n",
    "print('Resample dataset shape', Counter(y_smote))\n",
    "plot_2d_space(x_smote, y_smote, 'SMOTE over-sampling')"
   ]
  },
  {
   "cell_type": "code",
   "execution_count": 23,
   "id": "3a867159",
   "metadata": {},
   "outputs": [
    {
     "name": "stdout",
     "output_type": "stream",
     "text": [
      "Mean Accuracy: 0.9463\n",
      "Mean Precision: 0.5636\n",
      "Mean Recall: 0.8524\n"
     ]
    }
   ],
   "source": [
    "##Using SMOTE to balance the data\n",
    "#Define model\n",
    "model=RandomForestClassifier()\n",
    "#Define SMOTE\n",
    "smt_resample = SMOTE(sampling_strategy='all')\n",
    "#Define pipeline\n",
    "pipeline=Pipeline(steps=[('r', smt_resample), ('m', model)])\n",
    "#Define evaluation procedure (here we use Repeated Stratified K-Fold CV)\n",
    "cv=RepeatedStratifiedKFold(n_splits=10, n_repeats=3, random_state=1)\n",
    "#Evaluate model\n",
    "scoring=['accuracy','precision_macro','recall_macro']\n",
    "scores = cross_validate(pipeline, X, y, scoring=scoring, cv=cv, n_jobs=-1)\n",
    "\n",
    "# summarize performance\n",
    "print('Mean Accuracy: %.4f' % np.mean(scores['test_accuracy']))\n",
    "print('Mean Precision: %.4f' % np.mean(scores['test_precision_macro']))\n",
    "print('Mean Recall: %.4f' % np.mean(scores['test_recall_macro']))"
   ]
  },
  {
   "cell_type": "markdown",
   "id": "7ae13bdd",
   "metadata": {},
   "source": [
    "Comparing the SMOTE distribution to OverSample "
   ]
  },
  {
   "cell_type": "code",
   "execution_count": 24,
   "id": "f8726b95",
   "metadata": {},
   "outputs": [
    {
     "data": {
      "text/plain": [
       "<AxesSubplot:ylabel='Density'>"
      ]
     },
     "execution_count": 24,
     "metadata": {},
     "output_type": "execute_result"
    },
    {
     "data": {
      "image/png": "[encoded data removed]",
      "text/plain": [
       "<Figure size 432x288 with 1 Axes>"
      ]
     },
     "metadata": {
      "needs_background": "light"
     },
     "output_type": "display_data"
    }
   ],
   "source": [
    "sns.distplot(x_smote)\n",
    "sns.distplot(X_ros)"
   ]
  },
  {
   "cell_type": "code",
   "execution_count": null,
   "id": "7ab1d1be",
   "metadata": {},
   "outputs": [],
   "source": []
  },
  {
   "cell_type": "markdown",
   "id": "64dc4980",
   "metadata": {},
   "source": [
    "# Over-sampling followed by under-sampling"
   ]
  },
  {
   "cell_type": "markdown",
   "id": "703d6a37",
   "metadata": {},
   "source": [
    "Synthetic data in the neigbourhood"
   ]
  },
  {
   "cell_type": "code",
   "execution_count": 25,
   "id": "4aa07424",
   "metadata": {},
   "outputs": [
    {
     "name": "stdout",
     "output_type": "stream",
     "text": [
      "original dataset shape: Counter({0: 9900, 1: 100})\n",
      "SMOTE dataset shape Counter({0: 9661, 1: 9661})\n"
     ]
    },
    {
     "data": {
      "image/png": "[encoded data removed]",
      "text/plain": [
       "<Figure size 432x288 with 1 Axes>"
      ]
     },
     "metadata": {
      "needs_background": "light"
     },
     "output_type": "display_data"
    }
   ],
   "source": [
    "from imblearn.combine import SMOTETomek\n",
    "\n",
    "smtk = SMOTETomek()\n",
    "X_smtk, y_smtk = smtk.fit_resample(X, y)\n",
    "print('original dataset shape:', Counter(y))\n",
    "print('SMOTE dataset shape', Counter(y_smtk))\n",
    "\n",
    "plot_2d_space(X_smtk, y_smtk, 'SMOTE + Tomek links')"
   ]
  },
  {
   "cell_type": "code",
   "execution_count": 26,
   "id": "0cb266ab",
   "metadata": {},
   "outputs": [
    {
     "name": "stdout",
     "output_type": "stream",
     "text": [
      "Mean Accuracy: 0.9504\n",
      "Mean Precision: 0.5673\n",
      "Mean Recall: 0.8496\n"
     ]
    }
   ],
   "source": [
    "##Using SMOTE-ENN to balance the data\n",
    "#Define model\n",
    "model=RandomForestClassifier()\n",
    "#Define SMOTek\n",
    "smtk_resample = SMOTETomek(sampling_strategy='all')\n",
    "#Define pipeline\n",
    "pipeline=Pipeline(steps=[('r', smtk_resample), ('m', model)])\n",
    "#Define evaluation procedure (here we use Repeated Stratified K-Fold CV)\n",
    "cv=RepeatedStratifiedKFold(n_splits=10, n_repeats=3, random_state=1)\n",
    "#Evaluate model\n",
    "scoring=['accuracy','precision_macro','recall_macro']\n",
    "scores = cross_validate(pipeline, X, y, scoring=scoring, cv=cv, n_jobs=-1)\n",
    "\n",
    "# summarize performance\n",
    "print('Mean Accuracy: %.4f' % np.mean(scores['test_accuracy']))\n",
    "print('Mean Precision: %.4f' % np.mean(scores['test_precision_macro']))\n",
    "print('Mean Recall: %.4f' % np.mean(scores['test_recall_macro']))"
   ]
  },
  {
   "cell_type": "code",
   "execution_count": null,
   "id": "4a02ee3d",
   "metadata": {},
   "outputs": [],
   "source": []
  },
  {
   "cell_type": "markdown",
   "id": "4a6c00c5",
   "metadata": {},
   "source": [
    "## NearMiss"
   ]
  },
  {
   "cell_type": "markdown",
   "id": "5d6d69a1",
   "metadata": {},
   "source": [
    "NearMiss is an under-sampling technique. Instead of resampling the Minority class, using a distance, this will make the majority class equal to the minority class."
   ]
  },
  {
   "cell_type": "code",
   "execution_count": 27,
   "id": "4a6ca73d",
   "metadata": {},
   "outputs": [
    {
     "name": "stdout",
     "output_type": "stream",
     "text": [
      "Original dataset shape: Counter({0: 9900, 1: 100})\n",
      "Resample dataset shape: Counter({0: 100, 1: 100})\n"
     ]
    },
    {
     "data": {
      "image/png": "[encoded data removed]",
      "text/plain": [
       "<Figure size 432x288 with 1 Axes>"
      ]
     },
     "metadata": {
      "needs_background": "light"
     },
     "output_type": "display_data"
    }
   ],
   "source": [
    "from imblearn.under_sampling import NearMiss\n",
    "\n",
    "nm = NearMiss()\n",
    "\n",
    "x_nm, y_nm = nm.fit_resample(X, y)\n",
    "\n",
    "print('Original dataset shape:', Counter(y))\n",
    "print('Resample dataset shape:', Counter(y_nm))\n",
    "plot_2d_space(x_nm, y_nm, 'NearMiss ')"
   ]
  },
  {
   "cell_type": "code",
   "execution_count": 28,
   "id": "82efb583",
   "metadata": {},
   "outputs": [
    {
     "name": "stdout",
     "output_type": "stream",
     "text": [
      "Mean Accuracy: 0.1786\n",
      "Mean Precision: 0.5037\n",
      "Mean Recall: 0.5604\n"
     ]
    }
   ],
   "source": [
    "##Using SMOTE-ENN to balance the data\n",
    "#Define model\n",
    "model=RandomForestClassifier()\n",
    "#Define SMOTE-ENN\n",
    "nm_resample = NearMiss(sampling_strategy='all')\n",
    "#Define pipeline\n",
    "pipeline=Pipeline(steps=[('r', nm_resample), ('m', model)])\n",
    "#Define evaluation procedure (here we use Repeated Stratified K-Fold CV)\n",
    "cv=RepeatedStratifiedKFold(n_splits=10, n_repeats=3, random_state=1)\n",
    "#Evaluate model\n",
    "scoring=['accuracy','precision_macro','recall_macro']\n",
    "scores = cross_validate(pipeline, X, y, scoring=scoring, cv=cv, n_jobs=-1)\n",
    "\n",
    "# summarize performance\n",
    "print('Mean Accuracy: %.4f' % np.mean(scores['test_accuracy']))\n",
    "print('Mean Precision: %.4f' % np.mean(scores['test_precision_macro']))\n",
    "print('Mean Recall: %.4f' % np.mean(scores['test_recall_macro']))"
   ]
  },
  {
   "cell_type": "markdown",
   "id": "fa8b668f",
   "metadata": {},
   "source": [
    "# Change the performance metrics"
   ]
  },
  {
   "cell_type": "code",
   "execution_count": 29,
   "id": "76e105ed",
   "metadata": {},
   "outputs": [],
   "source": [
    "# load library\n",
    "from sklearn.svm import SVC\n",
    "from sklearn.metrics import roc_auc_score\n",
    "from sklearn.metrics import f1_score"
   ]
  },
  {
   "cell_type": "code",
   "execution_count": 30,
   "id": "c705b1e8",
   "metadata": {},
   "outputs": [
    {
     "name": "stdout",
     "output_type": "stream",
     "text": [
      "ROCAUC score: 0.7027783863338894\n",
      "Accuracy score: 0.8327787021630616\n",
      "F1 score: 0.47244094488188976\n"
     ]
    }
   ],
   "source": [
    "# we can add class_weight='balanced' to add panalize mistake\n",
    "svc_model = SVC(class_weight='balanced', probability=True)\n",
    "\n",
    "svc_model.fit(X_train, y_train)\n",
    "\n",
    "svc_predict = svc_model.predict(X_test)# check performance\n",
    "print('ROCAUC score:',roc_auc_score(y_test, svc_predict))\n",
    "print('Accuracy score:',accuracy_score(y_test, svc_predict))\n",
    "print('F1 score:',f1_score(y_test, svc_predict))"
   ]
  },
  {
   "cell_type": "markdown",
   "id": "b53d810e",
   "metadata": {},
   "source": [
    "We will run again the original data over Random forest Classifier"
   ]
  },
  {
   "cell_type": "code",
   "execution_count": 31,
   "id": "7a03f6d2",
   "metadata": {},
   "outputs": [
    {
     "name": "stdout",
     "output_type": "stream",
     "text": [
      "ROCAUC score: 0.7368678272299837\n",
      "Accuracy score: 0.9034941763727121\n",
      "F1 score: 0.6000000000000001\n"
     ]
    }
   ],
   "source": [
    "# load library\n",
    "from sklearn.ensemble import RandomForestClassifier\n",
    "\n",
    "rfc = RandomForestClassifier()\n",
    "\n",
    "# fit the predictor and target\n",
    "rfc.fit(X_train, y_train)\n",
    "\n",
    "# predict\n",
    "rfc_predict = rfc.predict(X_test)# check performance\n",
    "print('ROCAUC score:',roc_auc_score(y_test, rfc_predict))\n",
    "print('Accuracy score:',accuracy_score(y_test, rfc_predict))\n",
    "print('F1 score:',f1_score(y_test, rfc_predict))"
   ]
  },
  {
   "cell_type": "markdown",
   "id": "5fac08fb",
   "metadata": {},
   "source": [
    "The best results are provided by Mean RandomOverSampler:\n",
    "Accuracy: 0.9929\n",
    "Mean Precision: 0.8479\n",
    "Mean Recall: 0.7621"
   ]
  },
  {
   "cell_type": "markdown",
   "id": "f0edce4c",
   "metadata": {},
   "source": [
    "Creating Train DataFrame with ROS Strategy"
   ]
  },
  {
   "cell_type": "code",
   "execution_count": 32,
   "id": "d8361b6c",
   "metadata": {},
   "outputs": [],
   "source": [
    "ros = RandomOverSampler()\n",
    "columns=X_train.columns\n",
    "X_train_oversampled, y_train_oversampled = ros.fit_resample(X_train, y_train)\n",
    "df_ros = pd.DataFrame(X_train_oversampled, columns=X_train.columns)\n",
    "df_ros['host_is_superhost'] = y_train_oversampled"
   ]
  },
  {
   "cell_type": "code",
   "execution_count": 33,
   "id": "4d5cff53",
   "metadata": {},
   "outputs": [
    {
     "data": {
      "text/html": [
       "<div>\n",
       "<style scoped>\n",
       "    .dataframe tbody tr th:only-of-type {\n",
       "        vertical-align: middle;\n",
       "    }\n",
       "\n",
       "    .dataframe tbody tr th {\n",
       "        vertical-align: top;\n",
       "    }\n",
       "\n",
       "    .dataframe thead th {\n",
       "        text-align: right;\n",
       "    }\n",
       "</style>\n",
       "<table border=\"1\" class=\"dataframe\">\n",
       "  <thead>\n",
       "    <tr style=\"text-align: right;\">\n",
       "      <th></th>\n",
       "      <th>host_response_time</th>\n",
       "      <th>host_neighbourhood</th>\n",
       "      <th>host_total_listings_count</th>\n",
       "      <th>neighbourhood</th>\n",
       "      <th>neighbourhood_cleansed</th>\n",
       "      <th>latitude</th>\n",
       "      <th>property_type</th>\n",
       "      <th>room_type</th>\n",
       "      <th>beds</th>\n",
       "      <th>security_deposit</th>\n",
       "      <th>...</th>\n",
       "      <th>years_of_hosting</th>\n",
       "      <th>qnum_since_last_review</th>\n",
       "      <th>qnum_since_first_review</th>\n",
       "      <th>hair_dryer</th>\n",
       "      <th>shampoo</th>\n",
       "      <th>hot_water</th>\n",
       "      <th>dishes_and_silverware</th>\n",
       "      <th>luggage_dropoff_allowed</th>\n",
       "      <th>host_is_superhost</th>\n",
       "      <th>split</th>\n",
       "    </tr>\n",
       "  </thead>\n",
       "  <tbody>\n",
       "    <tr>\n",
       "      <th>0</th>\n",
       "      <td>1.0</td>\n",
       "      <td>31.0</td>\n",
       "      <td>1</td>\n",
       "      <td>37.0</td>\n",
       "      <td>7.0</td>\n",
       "      <td>52.369168</td>\n",
       "      <td>1.0</td>\n",
       "      <td>0.0</td>\n",
       "      <td>3</td>\n",
       "      <td>250</td>\n",
       "      <td>...</td>\n",
       "      <td>1</td>\n",
       "      <td>6</td>\n",
       "      <td>6</td>\n",
       "      <td>1</td>\n",
       "      <td>0</td>\n",
       "      <td>0</td>\n",
       "      <td>0</td>\n",
       "      <td>0</td>\n",
       "      <td>0</td>\n",
       "      <td>0.0</td>\n",
       "    </tr>\n",
       "    <tr>\n",
       "      <th>1</th>\n",
       "      <td>1.0</td>\n",
       "      <td>49.0</td>\n",
       "      <td>1</td>\n",
       "      <td>37.0</td>\n",
       "      <td>20.0</td>\n",
       "      <td>52.382810</td>\n",
       "      <td>1.0</td>\n",
       "      <td>0.0</td>\n",
       "      <td>8</td>\n",
       "      <td>300</td>\n",
       "      <td>...</td>\n",
       "      <td>3</td>\n",
       "      <td>0</td>\n",
       "      <td>0</td>\n",
       "      <td>1</td>\n",
       "      <td>1</td>\n",
       "      <td>0</td>\n",
       "      <td>0</td>\n",
       "      <td>0</td>\n",
       "      <td>0</td>\n",
       "      <td>0.0</td>\n",
       "    </tr>\n",
       "    <tr>\n",
       "      <th>2</th>\n",
       "      <td>3.0</td>\n",
       "      <td>49.0</td>\n",
       "      <td>1</td>\n",
       "      <td>37.0</td>\n",
       "      <td>7.0</td>\n",
       "      <td>52.369850</td>\n",
       "      <td>1.0</td>\n",
       "      <td>0.0</td>\n",
       "      <td>1</td>\n",
       "      <td>100</td>\n",
       "      <td>...</td>\n",
       "      <td>5</td>\n",
       "      <td>5</td>\n",
       "      <td>19</td>\n",
       "      <td>1</td>\n",
       "      <td>0</td>\n",
       "      <td>0</td>\n",
       "      <td>0</td>\n",
       "      <td>0</td>\n",
       "      <td>0</td>\n",
       "      <td>0.0</td>\n",
       "    </tr>\n",
       "    <tr>\n",
       "      <th>3</th>\n",
       "      <td>4.0</td>\n",
       "      <td>8.0</td>\n",
       "      <td>1</td>\n",
       "      <td>11.0</td>\n",
       "      <td>8.0</td>\n",
       "      <td>52.356726</td>\n",
       "      <td>1.0</td>\n",
       "      <td>1.0</td>\n",
       "      <td>1</td>\n",
       "      <td>300</td>\n",
       "      <td>...</td>\n",
       "      <td>5</td>\n",
       "      <td>5</td>\n",
       "      <td>13</td>\n",
       "      <td>1</td>\n",
       "      <td>0</td>\n",
       "      <td>1</td>\n",
       "      <td>0</td>\n",
       "      <td>0</td>\n",
       "      <td>1</td>\n",
       "      <td>0.0</td>\n",
       "    </tr>\n",
       "    <tr>\n",
       "      <th>4</th>\n",
       "      <td>1.0</td>\n",
       "      <td>49.0</td>\n",
       "      <td>1</td>\n",
       "      <td>31.0</td>\n",
       "      <td>11.0</td>\n",
       "      <td>52.350358</td>\n",
       "      <td>18.0</td>\n",
       "      <td>1.0</td>\n",
       "      <td>1</td>\n",
       "      <td>0</td>\n",
       "      <td>...</td>\n",
       "      <td>7</td>\n",
       "      <td>6</td>\n",
       "      <td>13</td>\n",
       "      <td>1</td>\n",
       "      <td>1</td>\n",
       "      <td>1</td>\n",
       "      <td>0</td>\n",
       "      <td>0</td>\n",
       "      <td>1</td>\n",
       "      <td>0.0</td>\n",
       "    </tr>\n",
       "    <tr>\n",
       "      <th>...</th>\n",
       "      <td>...</td>\n",
       "      <td>...</td>\n",
       "      <td>...</td>\n",
       "      <td>...</td>\n",
       "      <td>...</td>\n",
       "      <td>...</td>\n",
       "      <td>...</td>\n",
       "      <td>...</td>\n",
       "      <td>...</td>\n",
       "      <td>...</td>\n",
       "      <td>...</td>\n",
       "      <td>...</td>\n",
       "      <td>...</td>\n",
       "      <td>...</td>\n",
       "      <td>...</td>\n",
       "      <td>...</td>\n",
       "      <td>...</td>\n",
       "      <td>...</td>\n",
       "      <td>...</td>\n",
       "      <td>...</td>\n",
       "      <td>...</td>\n",
       "    </tr>\n",
       "    <tr>\n",
       "      <th>12013</th>\n",
       "      <td>4.0</td>\n",
       "      <td>3.0</td>\n",
       "      <td>1</td>\n",
       "      <td>6.0</td>\n",
       "      <td>2.0</td>\n",
       "      <td>52.383068</td>\n",
       "      <td>1.0</td>\n",
       "      <td>0.0</td>\n",
       "      <td>2</td>\n",
       "      <td>250</td>\n",
       "      <td>...</td>\n",
       "      <td>1</td>\n",
       "      <td>4</td>\n",
       "      <td>5</td>\n",
       "      <td>1</td>\n",
       "      <td>1</td>\n",
       "      <td>0</td>\n",
       "      <td>0</td>\n",
       "      <td>0</td>\n",
       "      <td>0</td>\n",
       "      <td>0.0</td>\n",
       "    </tr>\n",
       "    <tr>\n",
       "      <th>12014</th>\n",
       "      <td>1.0</td>\n",
       "      <td>16.0</td>\n",
       "      <td>1</td>\n",
       "      <td>19.0</td>\n",
       "      <td>5.0</td>\n",
       "      <td>52.374797</td>\n",
       "      <td>1.0</td>\n",
       "      <td>0.0</td>\n",
       "      <td>4</td>\n",
       "      <td>200</td>\n",
       "      <td>...</td>\n",
       "      <td>7</td>\n",
       "      <td>18</td>\n",
       "      <td>30</td>\n",
       "      <td>0</td>\n",
       "      <td>0</td>\n",
       "      <td>0</td>\n",
       "      <td>0</td>\n",
       "      <td>0</td>\n",
       "      <td>0</td>\n",
       "      <td>0.0</td>\n",
       "    </tr>\n",
       "    <tr>\n",
       "      <th>12015</th>\n",
       "      <td>1.0</td>\n",
       "      <td>47.0</td>\n",
       "      <td>1</td>\n",
       "      <td>57.0</td>\n",
       "      <td>5.0</td>\n",
       "      <td>52.387871</td>\n",
       "      <td>3.0</td>\n",
       "      <td>1.0</td>\n",
       "      <td>2</td>\n",
       "      <td>0</td>\n",
       "      <td>...</td>\n",
       "      <td>2</td>\n",
       "      <td>5</td>\n",
       "      <td>9</td>\n",
       "      <td>1</td>\n",
       "      <td>1</td>\n",
       "      <td>1</td>\n",
       "      <td>0</td>\n",
       "      <td>0</td>\n",
       "      <td>0</td>\n",
       "      <td>0.0</td>\n",
       "    </tr>\n",
       "    <tr>\n",
       "      <th>12016</th>\n",
       "      <td>4.0</td>\n",
       "      <td>11.0</td>\n",
       "      <td>1</td>\n",
       "      <td>14.0</td>\n",
       "      <td>5.0</td>\n",
       "      <td>52.371047</td>\n",
       "      <td>1.0</td>\n",
       "      <td>0.0</td>\n",
       "      <td>3</td>\n",
       "      <td>300</td>\n",
       "      <td>...</td>\n",
       "      <td>4</td>\n",
       "      <td>5</td>\n",
       "      <td>16</td>\n",
       "      <td>1</td>\n",
       "      <td>1</td>\n",
       "      <td>1</td>\n",
       "      <td>0</td>\n",
       "      <td>0</td>\n",
       "      <td>1</td>\n",
       "      <td>0.0</td>\n",
       "    </tr>\n",
       "    <tr>\n",
       "      <th>12017</th>\n",
       "      <td>1.0</td>\n",
       "      <td>49.0</td>\n",
       "      <td>2</td>\n",
       "      <td>2.0</td>\n",
       "      <td>1.0</td>\n",
       "      <td>52.319406</td>\n",
       "      <td>18.0</td>\n",
       "      <td>1.0</td>\n",
       "      <td>1</td>\n",
       "      <td>0</td>\n",
       "      <td>...</td>\n",
       "      <td>2</td>\n",
       "      <td>5</td>\n",
       "      <td>6</td>\n",
       "      <td>0</td>\n",
       "      <td>1</td>\n",
       "      <td>1</td>\n",
       "      <td>1</td>\n",
       "      <td>0</td>\n",
       "      <td>1</td>\n",
       "      <td>0.0</td>\n",
       "    </tr>\n",
       "  </tbody>\n",
       "</table>\n",
       "<p>12018 rows × 36 columns</p>\n",
       "</div>"
      ],
      "text/plain": [
       "       host_response_time  host_neighbourhood  host_total_listings_count  \\\n",
       "0                     1.0                31.0                          1   \n",
       "1                     1.0                49.0                          1   \n",
       "2                     3.0                49.0                          1   \n",
       "3                     4.0                 8.0                          1   \n",
       "4                     1.0                49.0                          1   \n",
       "...                   ...                 ...                        ...   \n",
       "12013                 4.0                 3.0                          1   \n",
       "12014                 1.0                16.0                          1   \n",
       "12015                 1.0                47.0                          1   \n",
       "12016                 4.0                11.0                          1   \n",
       "12017                 1.0                49.0                          2   \n",
       "\n",
       "       neighbourhood  neighbourhood_cleansed   latitude  property_type  \\\n",
       "0               37.0                     7.0  52.369168            1.0   \n",
       "1               37.0                    20.0  52.382810            1.0   \n",
       "2               37.0                     7.0  52.369850            1.0   \n",
       "3               11.0                     8.0  52.356726            1.0   \n",
       "4               31.0                    11.0  52.350358           18.0   \n",
       "...              ...                     ...        ...            ...   \n",
       "12013            6.0                     2.0  52.383068            1.0   \n",
       "12014           19.0                     5.0  52.374797            1.0   \n",
       "12015           57.0                     5.0  52.387871            3.0   \n",
       "12016           14.0                     5.0  52.371047            1.0   \n",
       "12017            2.0                     1.0  52.319406           18.0   \n",
       "\n",
       "       room_type  beds  security_deposit  ...  years_of_hosting  \\\n",
       "0            0.0     3               250  ...                 1   \n",
       "1            0.0     8               300  ...                 3   \n",
       "2            0.0     1               100  ...                 5   \n",
       "3            1.0     1               300  ...                 5   \n",
       "4            1.0     1                 0  ...                 7   \n",
       "...          ...   ...               ...  ...               ...   \n",
       "12013        0.0     2               250  ...                 1   \n",
       "12014        0.0     4               200  ...                 7   \n",
       "12015        1.0     2                 0  ...                 2   \n",
       "12016        0.0     3               300  ...                 4   \n",
       "12017        1.0     1                 0  ...                 2   \n",
       "\n",
       "       qnum_since_last_review  qnum_since_first_review  hair_dryer  shampoo  \\\n",
       "0                           6                        6           1        0   \n",
       "1                           0                        0           1        1   \n",
       "2                           5                       19           1        0   \n",
       "3                           5                       13           1        0   \n",
       "4                           6                       13           1        1   \n",
       "...                       ...                      ...         ...      ...   \n",
       "12013                       4                        5           1        1   \n",
       "12014                      18                       30           0        0   \n",
       "12015                       5                        9           1        1   \n",
       "12016                       5                       16           1        1   \n",
       "12017                       5                        6           0        1   \n",
       "\n",
       "       hot_water  dishes_and_silverware  luggage_dropoff_allowed  \\\n",
       "0              0                      0                        0   \n",
       "1              0                      0                        0   \n",
       "2              0                      0                        0   \n",
       "3              1                      0                        0   \n",
       "4              1                      0                        0   \n",
       "...          ...                    ...                      ...   \n",
       "12013          0                      0                        0   \n",
       "12014          0                      0                        0   \n",
       "12015          1                      0                        0   \n",
       "12016          1                      0                        0   \n",
       "12017          1                      1                        0   \n",
       "\n",
       "       host_is_superhost  split  \n",
       "0                      0    0.0  \n",
       "1                      0    0.0  \n",
       "2                      0    0.0  \n",
       "3                      1    0.0  \n",
       "4                      1    0.0  \n",
       "...                  ...    ...  \n",
       "12013                  0    0.0  \n",
       "12014                  0    0.0  \n",
       "12015                  0    0.0  \n",
       "12016                  1    0.0  \n",
       "12017                  1    0.0  \n",
       "\n",
       "[12018 rows x 36 columns]"
      ]
     },
     "execution_count": 33,
     "metadata": {},
     "output_type": "execute_result"
    }
   ],
   "source": [
    "df_train"
   ]
  },
  {
   "cell_type": "code",
   "execution_count": 34,
   "id": "176e7f8e",
   "metadata": {},
   "outputs": [
    {
     "data": {
      "text/plain": [
       "Index(['host_response_time', 'host_neighbourhood', 'host_total_listings_count',\n",
       "       'neighbourhood', 'neighbourhood_cleansed', 'latitude', 'property_type',\n",
       "       'room_type', 'beds', 'security_deposit', 'extra_people',\n",
       "       'minimum_nights', 'maximum_nights', 'calendar_updated',\n",
       "       'availability_30', 'availability_60', 'availability_90',\n",
       "       'availability_365', 'number_of_reviews', 'review_scores_rating',\n",
       "       'review_scores_accuracy', 'review_scores_cleanliness',\n",
       "       'review_scores_checkin', 'review_scores_communication',\n",
       "       'calculated_host_listings_count', 'reviews_per_month',\n",
       "       'years_of_hosting', 'qnum_since_last_review', 'qnum_since_first_review',\n",
       "       'hair_dryer', 'shampoo', 'hot_water', 'dishes_and_silverware',\n",
       "       'luggage_dropoff_allowed', 'split', 'host_is_superhost'],\n",
       "      dtype='object')"
      ]
     },
     "execution_count": 34,
     "metadata": {},
     "output_type": "execute_result"
    }
   ],
   "source": [
    "df_ros.columns"
   ]
  },
  {
   "cell_type": "code",
   "execution_count": 35,
   "id": "f280ce29",
   "metadata": {},
   "outputs": [
    {
     "data": {
      "text/html": [
       "<div>\n",
       "<style scoped>\n",
       "    .dataframe tbody tr th:only-of-type {\n",
       "        vertical-align: middle;\n",
       "    }\n",
       "\n",
       "    .dataframe tbody tr th {\n",
       "        vertical-align: top;\n",
       "    }\n",
       "\n",
       "    .dataframe thead th {\n",
       "        text-align: right;\n",
       "    }\n",
       "</style>\n",
       "<table border=\"1\" class=\"dataframe\">\n",
       "  <thead>\n",
       "    <tr style=\"text-align: right;\">\n",
       "      <th></th>\n",
       "      <th>host_response_time</th>\n",
       "      <th>host_neighbourhood</th>\n",
       "      <th>host_total_listings_count</th>\n",
       "      <th>neighbourhood</th>\n",
       "      <th>neighbourhood_cleansed</th>\n",
       "      <th>latitude</th>\n",
       "      <th>property_type</th>\n",
       "      <th>room_type</th>\n",
       "      <th>beds</th>\n",
       "      <th>security_deposit</th>\n",
       "      <th>...</th>\n",
       "      <th>years_of_hosting</th>\n",
       "      <th>qnum_since_last_review</th>\n",
       "      <th>qnum_since_first_review</th>\n",
       "      <th>hair_dryer</th>\n",
       "      <th>shampoo</th>\n",
       "      <th>hot_water</th>\n",
       "      <th>dishes_and_silverware</th>\n",
       "      <th>luggage_dropoff_allowed</th>\n",
       "      <th>split</th>\n",
       "      <th>host_is_superhost</th>\n",
       "    </tr>\n",
       "  </thead>\n",
       "  <tbody>\n",
       "    <tr>\n",
       "      <th>0</th>\n",
       "      <td>0.0</td>\n",
       "      <td>49.0</td>\n",
       "      <td>1</td>\n",
       "      <td>32.0</td>\n",
       "      <td>4.0</td>\n",
       "      <td>52.374031</td>\n",
       "      <td>1.0</td>\n",
       "      <td>0.0</td>\n",
       "      <td>1</td>\n",
       "      <td>250</td>\n",
       "      <td>...</td>\n",
       "      <td>7</td>\n",
       "      <td>6</td>\n",
       "      <td>14</td>\n",
       "      <td>1</td>\n",
       "      <td>1</td>\n",
       "      <td>1</td>\n",
       "      <td>0</td>\n",
       "      <td>1</td>\n",
       "      <td>0.0</td>\n",
       "      <td>0</td>\n",
       "    </tr>\n",
       "    <tr>\n",
       "      <th>1</th>\n",
       "      <td>3.0</td>\n",
       "      <td>0.0</td>\n",
       "      <td>1</td>\n",
       "      <td>1.0</td>\n",
       "      <td>5.0</td>\n",
       "      <td>52.376054</td>\n",
       "      <td>1.0</td>\n",
       "      <td>1.0</td>\n",
       "      <td>2</td>\n",
       "      <td>100</td>\n",
       "      <td>...</td>\n",
       "      <td>3</td>\n",
       "      <td>4</td>\n",
       "      <td>5</td>\n",
       "      <td>1</td>\n",
       "      <td>1</td>\n",
       "      <td>1</td>\n",
       "      <td>0</td>\n",
       "      <td>1</td>\n",
       "      <td>0.0</td>\n",
       "      <td>0</td>\n",
       "    </tr>\n",
       "    <tr>\n",
       "      <th>2</th>\n",
       "      <td>4.0</td>\n",
       "      <td>16.0</td>\n",
       "      <td>19</td>\n",
       "      <td>15.0</td>\n",
       "      <td>21.0</td>\n",
       "      <td>52.357052</td>\n",
       "      <td>1.0</td>\n",
       "      <td>0.0</td>\n",
       "      <td>2</td>\n",
       "      <td>100</td>\n",
       "      <td>...</td>\n",
       "      <td>9</td>\n",
       "      <td>6</td>\n",
       "      <td>7</td>\n",
       "      <td>0</td>\n",
       "      <td>0</td>\n",
       "      <td>1</td>\n",
       "      <td>0</td>\n",
       "      <td>0</td>\n",
       "      <td>0.0</td>\n",
       "      <td>0</td>\n",
       "    </tr>\n",
       "    <tr>\n",
       "      <th>3</th>\n",
       "      <td>1.0</td>\n",
       "      <td>43.0</td>\n",
       "      <td>1</td>\n",
       "      <td>52.0</td>\n",
       "      <td>13.0</td>\n",
       "      <td>52.410611</td>\n",
       "      <td>13.0</td>\n",
       "      <td>0.0</td>\n",
       "      <td>3</td>\n",
       "      <td>350</td>\n",
       "      <td>...</td>\n",
       "      <td>7</td>\n",
       "      <td>6</td>\n",
       "      <td>13</td>\n",
       "      <td>0</td>\n",
       "      <td>1</td>\n",
       "      <td>0</td>\n",
       "      <td>0</td>\n",
       "      <td>0</td>\n",
       "      <td>0.0</td>\n",
       "      <td>0</td>\n",
       "    </tr>\n",
       "    <tr>\n",
       "      <th>4</th>\n",
       "      <td>4.0</td>\n",
       "      <td>31.0</td>\n",
       "      <td>1</td>\n",
       "      <td>37.0</td>\n",
       "      <td>20.0</td>\n",
       "      <td>52.384146</td>\n",
       "      <td>1.0</td>\n",
       "      <td>0.0</td>\n",
       "      <td>2</td>\n",
       "      <td>300</td>\n",
       "      <td>...</td>\n",
       "      <td>8</td>\n",
       "      <td>5</td>\n",
       "      <td>8</td>\n",
       "      <td>0</td>\n",
       "      <td>1</td>\n",
       "      <td>0</td>\n",
       "      <td>0</td>\n",
       "      <td>0</td>\n",
       "      <td>0.0</td>\n",
       "      <td>0</td>\n",
       "    </tr>\n",
       "    <tr>\n",
       "      <th>...</th>\n",
       "      <td>...</td>\n",
       "      <td>...</td>\n",
       "      <td>...</td>\n",
       "      <td>...</td>\n",
       "      <td>...</td>\n",
       "      <td>...</td>\n",
       "      <td>...</td>\n",
       "      <td>...</td>\n",
       "      <td>...</td>\n",
       "      <td>...</td>\n",
       "      <td>...</td>\n",
       "      <td>...</td>\n",
       "      <td>...</td>\n",
       "      <td>...</td>\n",
       "      <td>...</td>\n",
       "      <td>...</td>\n",
       "      <td>...</td>\n",
       "      <td>...</td>\n",
       "      <td>...</td>\n",
       "      <td>...</td>\n",
       "      <td>...</td>\n",
       "    </tr>\n",
       "    <tr>\n",
       "      <th>18221</th>\n",
       "      <td>4.0</td>\n",
       "      <td>31.0</td>\n",
       "      <td>1</td>\n",
       "      <td>37.0</td>\n",
       "      <td>7.0</td>\n",
       "      <td>52.373959</td>\n",
       "      <td>1.0</td>\n",
       "      <td>0.0</td>\n",
       "      <td>2</td>\n",
       "      <td>0</td>\n",
       "      <td>...</td>\n",
       "      <td>7</td>\n",
       "      <td>5</td>\n",
       "      <td>26</td>\n",
       "      <td>1</td>\n",
       "      <td>1</td>\n",
       "      <td>1</td>\n",
       "      <td>1</td>\n",
       "      <td>0</td>\n",
       "      <td>0.0</td>\n",
       "      <td>1</td>\n",
       "    </tr>\n",
       "    <tr>\n",
       "      <th>18222</th>\n",
       "      <td>1.0</td>\n",
       "      <td>30.0</td>\n",
       "      <td>1</td>\n",
       "      <td>35.0</td>\n",
       "      <td>15.0</td>\n",
       "      <td>52.356330</td>\n",
       "      <td>1.0</td>\n",
       "      <td>1.0</td>\n",
       "      <td>2</td>\n",
       "      <td>95</td>\n",
       "      <td>...</td>\n",
       "      <td>5</td>\n",
       "      <td>4</td>\n",
       "      <td>10</td>\n",
       "      <td>0</td>\n",
       "      <td>1</td>\n",
       "      <td>1</td>\n",
       "      <td>0</td>\n",
       "      <td>0</td>\n",
       "      <td>0.0</td>\n",
       "      <td>1</td>\n",
       "    </tr>\n",
       "    <tr>\n",
       "      <th>18223</th>\n",
       "      <td>4.0</td>\n",
       "      <td>49.0</td>\n",
       "      <td>1</td>\n",
       "      <td>13.0</td>\n",
       "      <td>20.0</td>\n",
       "      <td>52.380127</td>\n",
       "      <td>1.0</td>\n",
       "      <td>0.0</td>\n",
       "      <td>1</td>\n",
       "      <td>100</td>\n",
       "      <td>...</td>\n",
       "      <td>6</td>\n",
       "      <td>6</td>\n",
       "      <td>11</td>\n",
       "      <td>1</td>\n",
       "      <td>0</td>\n",
       "      <td>1</td>\n",
       "      <td>1</td>\n",
       "      <td>0</td>\n",
       "      <td>0.0</td>\n",
       "      <td>1</td>\n",
       "    </tr>\n",
       "    <tr>\n",
       "      <th>18224</th>\n",
       "      <td>1.0</td>\n",
       "      <td>49.0</td>\n",
       "      <td>1</td>\n",
       "      <td>15.0</td>\n",
       "      <td>21.0</td>\n",
       "      <td>52.351030</td>\n",
       "      <td>1.0</td>\n",
       "      <td>0.0</td>\n",
       "      <td>4</td>\n",
       "      <td>0</td>\n",
       "      <td>...</td>\n",
       "      <td>5</td>\n",
       "      <td>5</td>\n",
       "      <td>20</td>\n",
       "      <td>0</td>\n",
       "      <td>1</td>\n",
       "      <td>0</td>\n",
       "      <td>0</td>\n",
       "      <td>0</td>\n",
       "      <td>0.0</td>\n",
       "      <td>1</td>\n",
       "    </tr>\n",
       "    <tr>\n",
       "      <th>18225</th>\n",
       "      <td>2.0</td>\n",
       "      <td>25.0</td>\n",
       "      <td>1</td>\n",
       "      <td>30.0</td>\n",
       "      <td>4.0</td>\n",
       "      <td>52.371131</td>\n",
       "      <td>1.0</td>\n",
       "      <td>0.0</td>\n",
       "      <td>1</td>\n",
       "      <td>100</td>\n",
       "      <td>...</td>\n",
       "      <td>7</td>\n",
       "      <td>6</td>\n",
       "      <td>27</td>\n",
       "      <td>1</td>\n",
       "      <td>1</td>\n",
       "      <td>0</td>\n",
       "      <td>0</td>\n",
       "      <td>0</td>\n",
       "      <td>0.0</td>\n",
       "      <td>1</td>\n",
       "    </tr>\n",
       "  </tbody>\n",
       "</table>\n",
       "<p>18226 rows × 36 columns</p>\n",
       "</div>"
      ],
      "text/plain": [
       "       host_response_time  host_neighbourhood  host_total_listings_count  \\\n",
       "0                     0.0                49.0                          1   \n",
       "1                     3.0                 0.0                          1   \n",
       "2                     4.0                16.0                         19   \n",
       "3                     1.0                43.0                          1   \n",
       "4                     4.0                31.0                          1   \n",
       "...                   ...                 ...                        ...   \n",
       "18221                 4.0                31.0                          1   \n",
       "18222                 1.0                30.0                          1   \n",
       "18223                 4.0                49.0                          1   \n",
       "18224                 1.0                49.0                          1   \n",
       "18225                 2.0                25.0                          1   \n",
       "\n",
       "       neighbourhood  neighbourhood_cleansed   latitude  property_type  \\\n",
       "0               32.0                     4.0  52.374031            1.0   \n",
       "1                1.0                     5.0  52.376054            1.0   \n",
       "2               15.0                    21.0  52.357052            1.0   \n",
       "3               52.0                    13.0  52.410611           13.0   \n",
       "4               37.0                    20.0  52.384146            1.0   \n",
       "...              ...                     ...        ...            ...   \n",
       "18221           37.0                     7.0  52.373959            1.0   \n",
       "18222           35.0                    15.0  52.356330            1.0   \n",
       "18223           13.0                    20.0  52.380127            1.0   \n",
       "18224           15.0                    21.0  52.351030            1.0   \n",
       "18225           30.0                     4.0  52.371131            1.0   \n",
       "\n",
       "       room_type  beds  security_deposit  ...  years_of_hosting  \\\n",
       "0            0.0     1               250  ...                 7   \n",
       "1            1.0     2               100  ...                 3   \n",
       "2            0.0     2               100  ...                 9   \n",
       "3            0.0     3               350  ...                 7   \n",
       "4            0.0     2               300  ...                 8   \n",
       "...          ...   ...               ...  ...               ...   \n",
       "18221        0.0     2                 0  ...                 7   \n",
       "18222        1.0     2                95  ...                 5   \n",
       "18223        0.0     1               100  ...                 6   \n",
       "18224        0.0     4                 0  ...                 5   \n",
       "18225        0.0     1               100  ...                 7   \n",
       "\n",
       "       qnum_since_last_review  qnum_since_first_review  hair_dryer  shampoo  \\\n",
       "0                           6                       14           1        1   \n",
       "1                           4                        5           1        1   \n",
       "2                           6                        7           0        0   \n",
       "3                           6                       13           0        1   \n",
       "4                           5                        8           0        1   \n",
       "...                       ...                      ...         ...      ...   \n",
       "18221                       5                       26           1        1   \n",
       "18222                       4                       10           0        1   \n",
       "18223                       6                       11           1        0   \n",
       "18224                       5                       20           0        1   \n",
       "18225                       6                       27           1        1   \n",
       "\n",
       "       hot_water  dishes_and_silverware  luggage_dropoff_allowed  split  \\\n",
       "0              1                      0                        1    0.0   \n",
       "1              1                      0                        1    0.0   \n",
       "2              1                      0                        0    0.0   \n",
       "3              0                      0                        0    0.0   \n",
       "4              0                      0                        0    0.0   \n",
       "...          ...                    ...                      ...    ...   \n",
       "18221          1                      1                        0    0.0   \n",
       "18222          1                      0                        0    0.0   \n",
       "18223          1                      1                        0    0.0   \n",
       "18224          0                      0                        0    0.0   \n",
       "18225          0                      0                        0    0.0   \n",
       "\n",
       "       host_is_superhost  \n",
       "0                      0  \n",
       "1                      0  \n",
       "2                      0  \n",
       "3                      0  \n",
       "4                      0  \n",
       "...                  ...  \n",
       "18221                  1  \n",
       "18222                  1  \n",
       "18223                  1  \n",
       "18224                  1  \n",
       "18225                  1  \n",
       "\n",
       "[18226 rows x 36 columns]"
      ]
     },
     "execution_count": 35,
     "metadata": {},
     "output_type": "execute_result"
    }
   ],
   "source": [
    "df_ros"
   ]
  },
  {
   "cell_type": "code",
   "execution_count": 36,
   "id": "f921bf0a",
   "metadata": {},
   "outputs": [
    {
     "data": {
      "text/plain": [
       "(18226, 36)"
      ]
     },
     "execution_count": 36,
     "metadata": {},
     "output_type": "execute_result"
    }
   ],
   "source": [
    "df_ros.shape"
   ]
  },
  {
   "cell_type": "code",
   "execution_count": 37,
   "id": "b59cecd2",
   "metadata": {},
   "outputs": [
    {
     "data": {
      "text/plain": [
       "(12018, 36)"
      ]
     },
     "execution_count": 37,
     "metadata": {},
     "output_type": "execute_result"
    }
   ],
   "source": [
    "df_train.shape"
   ]
  },
  {
   "cell_type": "code",
   "execution_count": 38,
   "id": "c073be6f",
   "metadata": {},
   "outputs": [
    {
     "data": {
      "text/html": [
       "<div>\n",
       "<style scoped>\n",
       "    .dataframe tbody tr th:only-of-type {\n",
       "        vertical-align: middle;\n",
       "    }\n",
       "\n",
       "    .dataframe tbody tr th {\n",
       "        vertical-align: top;\n",
       "    }\n",
       "\n",
       "    .dataframe thead th {\n",
       "        text-align: right;\n",
       "    }\n",
       "</style>\n",
       "<table border=\"1\" class=\"dataframe\">\n",
       "  <thead>\n",
       "    <tr style=\"text-align: right;\">\n",
       "      <th></th>\n",
       "      <th>host_response_time</th>\n",
       "      <th>host_neighbourhood</th>\n",
       "      <th>host_total_listings_count</th>\n",
       "      <th>neighbourhood</th>\n",
       "      <th>neighbourhood_cleansed</th>\n",
       "      <th>latitude</th>\n",
       "      <th>property_type</th>\n",
       "      <th>room_type</th>\n",
       "      <th>beds</th>\n",
       "      <th>security_deposit</th>\n",
       "      <th>...</th>\n",
       "      <th>years_of_hosting</th>\n",
       "      <th>qnum_since_last_review</th>\n",
       "      <th>qnum_since_first_review</th>\n",
       "      <th>hair_dryer</th>\n",
       "      <th>shampoo</th>\n",
       "      <th>hot_water</th>\n",
       "      <th>dishes_and_silverware</th>\n",
       "      <th>luggage_dropoff_allowed</th>\n",
       "      <th>host_is_superhost</th>\n",
       "      <th>split</th>\n",
       "    </tr>\n",
       "  </thead>\n",
       "  <tbody>\n",
       "    <tr>\n",
       "      <th>0</th>\n",
       "      <td>1.0</td>\n",
       "      <td>31.0</td>\n",
       "      <td>1</td>\n",
       "      <td>37.0</td>\n",
       "      <td>7.0</td>\n",
       "      <td>52.369168</td>\n",
       "      <td>1.0</td>\n",
       "      <td>0.0</td>\n",
       "      <td>3</td>\n",
       "      <td>250</td>\n",
       "      <td>...</td>\n",
       "      <td>1</td>\n",
       "      <td>6</td>\n",
       "      <td>6</td>\n",
       "      <td>1</td>\n",
       "      <td>0</td>\n",
       "      <td>0</td>\n",
       "      <td>0</td>\n",
       "      <td>0</td>\n",
       "      <td>0</td>\n",
       "      <td>0.0</td>\n",
       "    </tr>\n",
       "    <tr>\n",
       "      <th>1</th>\n",
       "      <td>1.0</td>\n",
       "      <td>49.0</td>\n",
       "      <td>1</td>\n",
       "      <td>37.0</td>\n",
       "      <td>20.0</td>\n",
       "      <td>52.382810</td>\n",
       "      <td>1.0</td>\n",
       "      <td>0.0</td>\n",
       "      <td>8</td>\n",
       "      <td>300</td>\n",
       "      <td>...</td>\n",
       "      <td>3</td>\n",
       "      <td>0</td>\n",
       "      <td>0</td>\n",
       "      <td>1</td>\n",
       "      <td>1</td>\n",
       "      <td>0</td>\n",
       "      <td>0</td>\n",
       "      <td>0</td>\n",
       "      <td>0</td>\n",
       "      <td>0.0</td>\n",
       "    </tr>\n",
       "    <tr>\n",
       "      <th>2</th>\n",
       "      <td>3.0</td>\n",
       "      <td>49.0</td>\n",
       "      <td>1</td>\n",
       "      <td>37.0</td>\n",
       "      <td>7.0</td>\n",
       "      <td>52.369850</td>\n",
       "      <td>1.0</td>\n",
       "      <td>0.0</td>\n",
       "      <td>1</td>\n",
       "      <td>100</td>\n",
       "      <td>...</td>\n",
       "      <td>5</td>\n",
       "      <td>5</td>\n",
       "      <td>19</td>\n",
       "      <td>1</td>\n",
       "      <td>0</td>\n",
       "      <td>0</td>\n",
       "      <td>0</td>\n",
       "      <td>0</td>\n",
       "      <td>0</td>\n",
       "      <td>0.0</td>\n",
       "    </tr>\n",
       "    <tr>\n",
       "      <th>3</th>\n",
       "      <td>4.0</td>\n",
       "      <td>8.0</td>\n",
       "      <td>1</td>\n",
       "      <td>11.0</td>\n",
       "      <td>8.0</td>\n",
       "      <td>52.356726</td>\n",
       "      <td>1.0</td>\n",
       "      <td>1.0</td>\n",
       "      <td>1</td>\n",
       "      <td>300</td>\n",
       "      <td>...</td>\n",
       "      <td>5</td>\n",
       "      <td>5</td>\n",
       "      <td>13</td>\n",
       "      <td>1</td>\n",
       "      <td>0</td>\n",
       "      <td>1</td>\n",
       "      <td>0</td>\n",
       "      <td>0</td>\n",
       "      <td>1</td>\n",
       "      <td>0.0</td>\n",
       "    </tr>\n",
       "    <tr>\n",
       "      <th>4</th>\n",
       "      <td>1.0</td>\n",
       "      <td>49.0</td>\n",
       "      <td>1</td>\n",
       "      <td>31.0</td>\n",
       "      <td>11.0</td>\n",
       "      <td>52.350358</td>\n",
       "      <td>18.0</td>\n",
       "      <td>1.0</td>\n",
       "      <td>1</td>\n",
       "      <td>0</td>\n",
       "      <td>...</td>\n",
       "      <td>7</td>\n",
       "      <td>6</td>\n",
       "      <td>13</td>\n",
       "      <td>1</td>\n",
       "      <td>1</td>\n",
       "      <td>1</td>\n",
       "      <td>0</td>\n",
       "      <td>0</td>\n",
       "      <td>1</td>\n",
       "      <td>0.0</td>\n",
       "    </tr>\n",
       "  </tbody>\n",
       "</table>\n",
       "<p>5 rows × 36 columns</p>\n",
       "</div>"
      ],
      "text/plain": [
       "   host_response_time  host_neighbourhood  host_total_listings_count  \\\n",
       "0                 1.0                31.0                          1   \n",
       "1                 1.0                49.0                          1   \n",
       "2                 3.0                49.0                          1   \n",
       "3                 4.0                 8.0                          1   \n",
       "4                 1.0                49.0                          1   \n",
       "\n",
       "   neighbourhood  neighbourhood_cleansed   latitude  property_type  room_type  \\\n",
       "0           37.0                     7.0  52.369168            1.0        0.0   \n",
       "1           37.0                    20.0  52.382810            1.0        0.0   \n",
       "2           37.0                     7.0  52.369850            1.0        0.0   \n",
       "3           11.0                     8.0  52.356726            1.0        1.0   \n",
       "4           31.0                    11.0  52.350358           18.0        1.0   \n",
       "\n",
       "   beds  security_deposit  ...  years_of_hosting  qnum_since_last_review  \\\n",
       "0     3               250  ...                 1                       6   \n",
       "1     8               300  ...                 3                       0   \n",
       "2     1               100  ...                 5                       5   \n",
       "3     1               300  ...                 5                       5   \n",
       "4     1                 0  ...                 7                       6   \n",
       "\n",
       "   qnum_since_first_review  hair_dryer  shampoo  hot_water  \\\n",
       "0                        6           1        0          0   \n",
       "1                        0           1        1          0   \n",
       "2                       19           1        0          0   \n",
       "3                       13           1        0          1   \n",
       "4                       13           1        1          1   \n",
       "\n",
       "   dishes_and_silverware  luggage_dropoff_allowed  host_is_superhost  split  \n",
       "0                      0                        0                  0    0.0  \n",
       "1                      0                        0                  0    0.0  \n",
       "2                      0                        0                  0    0.0  \n",
       "3                      0                        0                  1    0.0  \n",
       "4                      0                        0                  1    0.0  \n",
       "\n",
       "[5 rows x 36 columns]"
      ]
     },
     "execution_count": 38,
     "metadata": {},
     "output_type": "execute_result"
    }
   ],
   "source": [
    "df_train.head()"
   ]
  },
  {
   "cell_type": "code",
   "execution_count": 39,
   "id": "d63b165a",
   "metadata": {},
   "outputs": [],
   "source": [
    "#del df_train['split']\n",
    "del df_ros['split']"
   ]
  },
  {
   "cell_type": "code",
   "execution_count": 40,
   "id": "7e3cbd73",
   "metadata": {},
   "outputs": [
    {
     "data": {
      "text/html": [
       "<div>\n",
       "<style scoped>\n",
       "    .dataframe tbody tr th:only-of-type {\n",
       "        vertical-align: middle;\n",
       "    }\n",
       "\n",
       "    .dataframe tbody tr th {\n",
       "        vertical-align: top;\n",
       "    }\n",
       "\n",
       "    .dataframe thead th {\n",
       "        text-align: right;\n",
       "    }\n",
       "</style>\n",
       "<table border=\"1\" class=\"dataframe\">\n",
       "  <thead>\n",
       "    <tr style=\"text-align: right;\">\n",
       "      <th></th>\n",
       "      <th>host_response_time</th>\n",
       "      <th>host_neighbourhood</th>\n",
       "      <th>host_total_listings_count</th>\n",
       "      <th>neighbourhood</th>\n",
       "      <th>neighbourhood_cleansed</th>\n",
       "      <th>latitude</th>\n",
       "      <th>property_type</th>\n",
       "      <th>room_type</th>\n",
       "      <th>beds</th>\n",
       "      <th>security_deposit</th>\n",
       "      <th>...</th>\n",
       "      <th>years_of_hosting</th>\n",
       "      <th>qnum_since_last_review</th>\n",
       "      <th>qnum_since_first_review</th>\n",
       "      <th>hair_dryer</th>\n",
       "      <th>shampoo</th>\n",
       "      <th>hot_water</th>\n",
       "      <th>dishes_and_silverware</th>\n",
       "      <th>luggage_dropoff_allowed</th>\n",
       "      <th>host_is_superhost</th>\n",
       "      <th>split</th>\n",
       "    </tr>\n",
       "  </thead>\n",
       "  <tbody>\n",
       "    <tr>\n",
       "      <th>0</th>\n",
       "      <td>1.0</td>\n",
       "      <td>31.0</td>\n",
       "      <td>1</td>\n",
       "      <td>37.0</td>\n",
       "      <td>7.0</td>\n",
       "      <td>52.369168</td>\n",
       "      <td>1.0</td>\n",
       "      <td>0.0</td>\n",
       "      <td>3</td>\n",
       "      <td>250</td>\n",
       "      <td>...</td>\n",
       "      <td>1</td>\n",
       "      <td>6</td>\n",
       "      <td>6</td>\n",
       "      <td>1</td>\n",
       "      <td>0</td>\n",
       "      <td>0</td>\n",
       "      <td>0</td>\n",
       "      <td>0</td>\n",
       "      <td>0</td>\n",
       "      <td>0.0</td>\n",
       "    </tr>\n",
       "    <tr>\n",
       "      <th>1</th>\n",
       "      <td>1.0</td>\n",
       "      <td>49.0</td>\n",
       "      <td>1</td>\n",
       "      <td>37.0</td>\n",
       "      <td>20.0</td>\n",
       "      <td>52.382810</td>\n",
       "      <td>1.0</td>\n",
       "      <td>0.0</td>\n",
       "      <td>8</td>\n",
       "      <td>300</td>\n",
       "      <td>...</td>\n",
       "      <td>3</td>\n",
       "      <td>0</td>\n",
       "      <td>0</td>\n",
       "      <td>1</td>\n",
       "      <td>1</td>\n",
       "      <td>0</td>\n",
       "      <td>0</td>\n",
       "      <td>0</td>\n",
       "      <td>0</td>\n",
       "      <td>0.0</td>\n",
       "    </tr>\n",
       "    <tr>\n",
       "      <th>2</th>\n",
       "      <td>3.0</td>\n",
       "      <td>49.0</td>\n",
       "      <td>1</td>\n",
       "      <td>37.0</td>\n",
       "      <td>7.0</td>\n",
       "      <td>52.369850</td>\n",
       "      <td>1.0</td>\n",
       "      <td>0.0</td>\n",
       "      <td>1</td>\n",
       "      <td>100</td>\n",
       "      <td>...</td>\n",
       "      <td>5</td>\n",
       "      <td>5</td>\n",
       "      <td>19</td>\n",
       "      <td>1</td>\n",
       "      <td>0</td>\n",
       "      <td>0</td>\n",
       "      <td>0</td>\n",
       "      <td>0</td>\n",
       "      <td>0</td>\n",
       "      <td>0.0</td>\n",
       "    </tr>\n",
       "    <tr>\n",
       "      <th>3</th>\n",
       "      <td>4.0</td>\n",
       "      <td>8.0</td>\n",
       "      <td>1</td>\n",
       "      <td>11.0</td>\n",
       "      <td>8.0</td>\n",
       "      <td>52.356726</td>\n",
       "      <td>1.0</td>\n",
       "      <td>1.0</td>\n",
       "      <td>1</td>\n",
       "      <td>300</td>\n",
       "      <td>...</td>\n",
       "      <td>5</td>\n",
       "      <td>5</td>\n",
       "      <td>13</td>\n",
       "      <td>1</td>\n",
       "      <td>0</td>\n",
       "      <td>1</td>\n",
       "      <td>0</td>\n",
       "      <td>0</td>\n",
       "      <td>1</td>\n",
       "      <td>0.0</td>\n",
       "    </tr>\n",
       "    <tr>\n",
       "      <th>4</th>\n",
       "      <td>1.0</td>\n",
       "      <td>49.0</td>\n",
       "      <td>1</td>\n",
       "      <td>31.0</td>\n",
       "      <td>11.0</td>\n",
       "      <td>52.350358</td>\n",
       "      <td>18.0</td>\n",
       "      <td>1.0</td>\n",
       "      <td>1</td>\n",
       "      <td>0</td>\n",
       "      <td>...</td>\n",
       "      <td>7</td>\n",
       "      <td>6</td>\n",
       "      <td>13</td>\n",
       "      <td>1</td>\n",
       "      <td>1</td>\n",
       "      <td>1</td>\n",
       "      <td>0</td>\n",
       "      <td>0</td>\n",
       "      <td>1</td>\n",
       "      <td>0.0</td>\n",
       "    </tr>\n",
       "  </tbody>\n",
       "</table>\n",
       "<p>5 rows × 36 columns</p>\n",
       "</div>"
      ],
      "text/plain": [
       "   host_response_time  host_neighbourhood  host_total_listings_count  \\\n",
       "0                 1.0                31.0                          1   \n",
       "1                 1.0                49.0                          1   \n",
       "2                 3.0                49.0                          1   \n",
       "3                 4.0                 8.0                          1   \n",
       "4                 1.0                49.0                          1   \n",
       "\n",
       "   neighbourhood  neighbourhood_cleansed   latitude  property_type  room_type  \\\n",
       "0           37.0                     7.0  52.369168            1.0        0.0   \n",
       "1           37.0                    20.0  52.382810            1.0        0.0   \n",
       "2           37.0                     7.0  52.369850            1.0        0.0   \n",
       "3           11.0                     8.0  52.356726            1.0        1.0   \n",
       "4           31.0                    11.0  52.350358           18.0        1.0   \n",
       "\n",
       "   beds  security_deposit  ...  years_of_hosting  qnum_since_last_review  \\\n",
       "0     3               250  ...                 1                       6   \n",
       "1     8               300  ...                 3                       0   \n",
       "2     1               100  ...                 5                       5   \n",
       "3     1               300  ...                 5                       5   \n",
       "4     1                 0  ...                 7                       6   \n",
       "\n",
       "   qnum_since_first_review  hair_dryer  shampoo  hot_water  \\\n",
       "0                        6           1        0          0   \n",
       "1                        0           1        1          0   \n",
       "2                       19           1        0          0   \n",
       "3                       13           1        0          1   \n",
       "4                       13           1        1          1   \n",
       "\n",
       "   dishes_and_silverware  luggage_dropoff_allowed  host_is_superhost  split  \n",
       "0                      0                        0                  0    0.0  \n",
       "1                      0                        0                  0    0.0  \n",
       "2                      0                        0                  0    0.0  \n",
       "3                      0                        0                  1    0.0  \n",
       "4                      0                        0                  1    0.0  \n",
       "\n",
       "[5 rows x 36 columns]"
      ]
     },
     "execution_count": 40,
     "metadata": {},
     "output_type": "execute_result"
    }
   ],
   "source": [
    "df_train.head()"
   ]
  },
  {
   "cell_type": "code",
   "execution_count": 41,
   "id": "6af1bd89",
   "metadata": {},
   "outputs": [
    {
     "data": {
      "text/html": [
       "<div>\n",
       "<style scoped>\n",
       "    .dataframe tbody tr th:only-of-type {\n",
       "        vertical-align: middle;\n",
       "    }\n",
       "\n",
       "    .dataframe tbody tr th {\n",
       "        vertical-align: top;\n",
       "    }\n",
       "\n",
       "    .dataframe thead th {\n",
       "        text-align: right;\n",
       "    }\n",
       "</style>\n",
       "<table border=\"1\" class=\"dataframe\">\n",
       "  <thead>\n",
       "    <tr style=\"text-align: right;\">\n",
       "      <th></th>\n",
       "      <th>host_response_time</th>\n",
       "      <th>host_neighbourhood</th>\n",
       "      <th>host_total_listings_count</th>\n",
       "      <th>neighbourhood</th>\n",
       "      <th>neighbourhood_cleansed</th>\n",
       "      <th>latitude</th>\n",
       "      <th>property_type</th>\n",
       "      <th>room_type</th>\n",
       "      <th>beds</th>\n",
       "      <th>security_deposit</th>\n",
       "      <th>...</th>\n",
       "      <th>reviews_per_month</th>\n",
       "      <th>years_of_hosting</th>\n",
       "      <th>qnum_since_last_review</th>\n",
       "      <th>qnum_since_first_review</th>\n",
       "      <th>hair_dryer</th>\n",
       "      <th>shampoo</th>\n",
       "      <th>hot_water</th>\n",
       "      <th>dishes_and_silverware</th>\n",
       "      <th>luggage_dropoff_allowed</th>\n",
       "      <th>host_is_superhost</th>\n",
       "    </tr>\n",
       "  </thead>\n",
       "  <tbody>\n",
       "    <tr>\n",
       "      <th>0</th>\n",
       "      <td>0.0</td>\n",
       "      <td>49.0</td>\n",
       "      <td>1</td>\n",
       "      <td>32.0</td>\n",
       "      <td>4.0</td>\n",
       "      <td>52.374031</td>\n",
       "      <td>1.0</td>\n",
       "      <td>0.0</td>\n",
       "      <td>1</td>\n",
       "      <td>250</td>\n",
       "      <td>...</td>\n",
       "      <td>0.37</td>\n",
       "      <td>7</td>\n",
       "      <td>6</td>\n",
       "      <td>14</td>\n",
       "      <td>1</td>\n",
       "      <td>1</td>\n",
       "      <td>1</td>\n",
       "      <td>0</td>\n",
       "      <td>1</td>\n",
       "      <td>0</td>\n",
       "    </tr>\n",
       "    <tr>\n",
       "      <th>1</th>\n",
       "      <td>3.0</td>\n",
       "      <td>0.0</td>\n",
       "      <td>1</td>\n",
       "      <td>1.0</td>\n",
       "      <td>5.0</td>\n",
       "      <td>52.376054</td>\n",
       "      <td>1.0</td>\n",
       "      <td>1.0</td>\n",
       "      <td>2</td>\n",
       "      <td>100</td>\n",
       "      <td>...</td>\n",
       "      <td>3.53</td>\n",
       "      <td>3</td>\n",
       "      <td>4</td>\n",
       "      <td>5</td>\n",
       "      <td>1</td>\n",
       "      <td>1</td>\n",
       "      <td>1</td>\n",
       "      <td>0</td>\n",
       "      <td>1</td>\n",
       "      <td>0</td>\n",
       "    </tr>\n",
       "    <tr>\n",
       "      <th>2</th>\n",
       "      <td>4.0</td>\n",
       "      <td>16.0</td>\n",
       "      <td>19</td>\n",
       "      <td>15.0</td>\n",
       "      <td>21.0</td>\n",
       "      <td>52.357052</td>\n",
       "      <td>1.0</td>\n",
       "      <td>0.0</td>\n",
       "      <td>2</td>\n",
       "      <td>100</td>\n",
       "      <td>...</td>\n",
       "      <td>1.11</td>\n",
       "      <td>9</td>\n",
       "      <td>6</td>\n",
       "      <td>7</td>\n",
       "      <td>0</td>\n",
       "      <td>0</td>\n",
       "      <td>1</td>\n",
       "      <td>0</td>\n",
       "      <td>0</td>\n",
       "      <td>0</td>\n",
       "    </tr>\n",
       "    <tr>\n",
       "      <th>3</th>\n",
       "      <td>1.0</td>\n",
       "      <td>43.0</td>\n",
       "      <td>1</td>\n",
       "      <td>52.0</td>\n",
       "      <td>13.0</td>\n",
       "      <td>52.410611</td>\n",
       "      <td>13.0</td>\n",
       "      <td>0.0</td>\n",
       "      <td>3</td>\n",
       "      <td>350</td>\n",
       "      <td>...</td>\n",
       "      <td>0.23</td>\n",
       "      <td>7</td>\n",
       "      <td>6</td>\n",
       "      <td>13</td>\n",
       "      <td>0</td>\n",
       "      <td>1</td>\n",
       "      <td>0</td>\n",
       "      <td>0</td>\n",
       "      <td>0</td>\n",
       "      <td>0</td>\n",
       "    </tr>\n",
       "    <tr>\n",
       "      <th>4</th>\n",
       "      <td>4.0</td>\n",
       "      <td>31.0</td>\n",
       "      <td>1</td>\n",
       "      <td>37.0</td>\n",
       "      <td>20.0</td>\n",
       "      <td>52.384146</td>\n",
       "      <td>1.0</td>\n",
       "      <td>0.0</td>\n",
       "      <td>2</td>\n",
       "      <td>300</td>\n",
       "      <td>...</td>\n",
       "      <td>0.92</td>\n",
       "      <td>8</td>\n",
       "      <td>5</td>\n",
       "      <td>8</td>\n",
       "      <td>0</td>\n",
       "      <td>1</td>\n",
       "      <td>0</td>\n",
       "      <td>0</td>\n",
       "      <td>0</td>\n",
       "      <td>0</td>\n",
       "    </tr>\n",
       "  </tbody>\n",
       "</table>\n",
       "<p>5 rows × 35 columns</p>\n",
       "</div>"
      ],
      "text/plain": [
       "   host_response_time  host_neighbourhood  host_total_listings_count  \\\n",
       "0                 0.0                49.0                          1   \n",
       "1                 3.0                 0.0                          1   \n",
       "2                 4.0                16.0                         19   \n",
       "3                 1.0                43.0                          1   \n",
       "4                 4.0                31.0                          1   \n",
       "\n",
       "   neighbourhood  neighbourhood_cleansed   latitude  property_type  room_type  \\\n",
       "0           32.0                     4.0  52.374031            1.0        0.0   \n",
       "1            1.0                     5.0  52.376054            1.0        1.0   \n",
       "2           15.0                    21.0  52.357052            1.0        0.0   \n",
       "3           52.0                    13.0  52.410611           13.0        0.0   \n",
       "4           37.0                    20.0  52.384146            1.0        0.0   \n",
       "\n",
       "   beds  security_deposit  ...  reviews_per_month  years_of_hosting  \\\n",
       "0     1               250  ...               0.37                 7   \n",
       "1     2               100  ...               3.53                 3   \n",
       "2     2               100  ...               1.11                 9   \n",
       "3     3               350  ...               0.23                 7   \n",
       "4     2               300  ...               0.92                 8   \n",
       "\n",
       "   qnum_since_last_review  qnum_since_first_review  hair_dryer  shampoo  \\\n",
       "0                       6                       14           1        1   \n",
       "1                       4                        5           1        1   \n",
       "2                       6                        7           0        0   \n",
       "3                       6                       13           0        1   \n",
       "4                       5                        8           0        1   \n",
       "\n",
       "   hot_water  dishes_and_silverware  luggage_dropoff_allowed  \\\n",
       "0          1                      0                        1   \n",
       "1          1                      0                        1   \n",
       "2          1                      0                        0   \n",
       "3          0                      0                        0   \n",
       "4          0                      0                        0   \n",
       "\n",
       "   host_is_superhost  \n",
       "0                  0  \n",
       "1                  0  \n",
       "2                  0  \n",
       "3                  0  \n",
       "4                  0  \n",
       "\n",
       "[5 rows x 35 columns]"
      ]
     },
     "execution_count": 41,
     "metadata": {},
     "output_type": "execute_result"
    }
   ],
   "source": [
    "df_ros.head()"
   ]
  },
  {
   "cell_type": "code",
   "execution_count": 42,
   "id": "784d33d3",
   "metadata": {},
   "outputs": [
    {
     "data": {
      "text/plain": [
       "(18226, 35)"
      ]
     },
     "execution_count": 42,
     "metadata": {},
     "output_type": "execute_result"
    }
   ],
   "source": [
    "df_ros.shape"
   ]
  },
  {
   "cell_type": "code",
   "execution_count": 44,
   "id": "2129237b",
   "metadata": {},
   "outputs": [],
   "source": [
    "#del df_ros['split']"
   ]
  },
  {
   "cell_type": "code",
   "execution_count": 45,
   "id": "d756840b",
   "metadata": {},
   "outputs": [
    {
     "data": {
      "text/plain": [
       "(12018, 36)"
      ]
     },
     "execution_count": 45,
     "metadata": {},
     "output_type": "execute_result"
    }
   ],
   "source": [
    "df_train.shape"
   ]
  },
  {
   "cell_type": "code",
   "execution_count": null,
   "id": "e3c3fab0",
   "metadata": {},
   "outputs": [],
   "source": []
  },
  {
   "cell_type": "code",
   "execution_count": 46,
   "id": "ce84fac5",
   "metadata": {},
   "outputs": [
    {
     "data": {
      "text/html": [
       "<div>\n",
       "<style scoped>\n",
       "    .dataframe tbody tr th:only-of-type {\n",
       "        vertical-align: middle;\n",
       "    }\n",
       "\n",
       "    .dataframe tbody tr th {\n",
       "        vertical-align: top;\n",
       "    }\n",
       "\n",
       "    .dataframe thead th {\n",
       "        text-align: right;\n",
       "    }\n",
       "</style>\n",
       "<table border=\"1\" class=\"dataframe\">\n",
       "  <thead>\n",
       "    <tr style=\"text-align: right;\">\n",
       "      <th></th>\n",
       "      <th>host_response_time</th>\n",
       "      <th>host_neighbourhood</th>\n",
       "      <th>host_total_listings_count</th>\n",
       "      <th>neighbourhood</th>\n",
       "      <th>neighbourhood_cleansed</th>\n",
       "      <th>latitude</th>\n",
       "      <th>property_type</th>\n",
       "      <th>room_type</th>\n",
       "      <th>beds</th>\n",
       "      <th>security_deposit</th>\n",
       "      <th>...</th>\n",
       "      <th>years_of_hosting</th>\n",
       "      <th>qnum_since_last_review</th>\n",
       "      <th>qnum_since_first_review</th>\n",
       "      <th>hair_dryer</th>\n",
       "      <th>shampoo</th>\n",
       "      <th>hot_water</th>\n",
       "      <th>dishes_and_silverware</th>\n",
       "      <th>luggage_dropoff_allowed</th>\n",
       "      <th>host_is_superhost</th>\n",
       "      <th>split</th>\n",
       "    </tr>\n",
       "  </thead>\n",
       "  <tbody>\n",
       "    <tr>\n",
       "      <th>0</th>\n",
       "      <td>1.0</td>\n",
       "      <td>31.0</td>\n",
       "      <td>1</td>\n",
       "      <td>37.0</td>\n",
       "      <td>7.0</td>\n",
       "      <td>52.369168</td>\n",
       "      <td>1.0</td>\n",
       "      <td>0.0</td>\n",
       "      <td>3</td>\n",
       "      <td>250</td>\n",
       "      <td>...</td>\n",
       "      <td>1</td>\n",
       "      <td>6</td>\n",
       "      <td>6</td>\n",
       "      <td>1</td>\n",
       "      <td>0</td>\n",
       "      <td>0</td>\n",
       "      <td>0</td>\n",
       "      <td>0</td>\n",
       "      <td>0</td>\n",
       "      <td>0.0</td>\n",
       "    </tr>\n",
       "    <tr>\n",
       "      <th>1</th>\n",
       "      <td>1.0</td>\n",
       "      <td>49.0</td>\n",
       "      <td>1</td>\n",
       "      <td>37.0</td>\n",
       "      <td>20.0</td>\n",
       "      <td>52.382810</td>\n",
       "      <td>1.0</td>\n",
       "      <td>0.0</td>\n",
       "      <td>8</td>\n",
       "      <td>300</td>\n",
       "      <td>...</td>\n",
       "      <td>3</td>\n",
       "      <td>0</td>\n",
       "      <td>0</td>\n",
       "      <td>1</td>\n",
       "      <td>1</td>\n",
       "      <td>0</td>\n",
       "      <td>0</td>\n",
       "      <td>0</td>\n",
       "      <td>0</td>\n",
       "      <td>0.0</td>\n",
       "    </tr>\n",
       "    <tr>\n",
       "      <th>2</th>\n",
       "      <td>3.0</td>\n",
       "      <td>49.0</td>\n",
       "      <td>1</td>\n",
       "      <td>37.0</td>\n",
       "      <td>7.0</td>\n",
       "      <td>52.369850</td>\n",
       "      <td>1.0</td>\n",
       "      <td>0.0</td>\n",
       "      <td>1</td>\n",
       "      <td>100</td>\n",
       "      <td>...</td>\n",
       "      <td>5</td>\n",
       "      <td>5</td>\n",
       "      <td>19</td>\n",
       "      <td>1</td>\n",
       "      <td>0</td>\n",
       "      <td>0</td>\n",
       "      <td>0</td>\n",
       "      <td>0</td>\n",
       "      <td>0</td>\n",
       "      <td>0.0</td>\n",
       "    </tr>\n",
       "    <tr>\n",
       "      <th>3</th>\n",
       "      <td>4.0</td>\n",
       "      <td>8.0</td>\n",
       "      <td>1</td>\n",
       "      <td>11.0</td>\n",
       "      <td>8.0</td>\n",
       "      <td>52.356726</td>\n",
       "      <td>1.0</td>\n",
       "      <td>1.0</td>\n",
       "      <td>1</td>\n",
       "      <td>300</td>\n",
       "      <td>...</td>\n",
       "      <td>5</td>\n",
       "      <td>5</td>\n",
       "      <td>13</td>\n",
       "      <td>1</td>\n",
       "      <td>0</td>\n",
       "      <td>1</td>\n",
       "      <td>0</td>\n",
       "      <td>0</td>\n",
       "      <td>1</td>\n",
       "      <td>0.0</td>\n",
       "    </tr>\n",
       "    <tr>\n",
       "      <th>4</th>\n",
       "      <td>1.0</td>\n",
       "      <td>49.0</td>\n",
       "      <td>1</td>\n",
       "      <td>31.0</td>\n",
       "      <td>11.0</td>\n",
       "      <td>52.350358</td>\n",
       "      <td>18.0</td>\n",
       "      <td>1.0</td>\n",
       "      <td>1</td>\n",
       "      <td>0</td>\n",
       "      <td>...</td>\n",
       "      <td>7</td>\n",
       "      <td>6</td>\n",
       "      <td>13</td>\n",
       "      <td>1</td>\n",
       "      <td>1</td>\n",
       "      <td>1</td>\n",
       "      <td>0</td>\n",
       "      <td>0</td>\n",
       "      <td>1</td>\n",
       "      <td>0.0</td>\n",
       "    </tr>\n",
       "  </tbody>\n",
       "</table>\n",
       "<p>5 rows × 36 columns</p>\n",
       "</div>"
      ],
      "text/plain": [
       "   host_response_time  host_neighbourhood  host_total_listings_count  \\\n",
       "0                 1.0                31.0                          1   \n",
       "1                 1.0                49.0                          1   \n",
       "2                 3.0                49.0                          1   \n",
       "3                 4.0                 8.0                          1   \n",
       "4                 1.0                49.0                          1   \n",
       "\n",
       "   neighbourhood  neighbourhood_cleansed   latitude  property_type  room_type  \\\n",
       "0           37.0                     7.0  52.369168            1.0        0.0   \n",
       "1           37.0                    20.0  52.382810            1.0        0.0   \n",
       "2           37.0                     7.0  52.369850            1.0        0.0   \n",
       "3           11.0                     8.0  52.356726            1.0        1.0   \n",
       "4           31.0                    11.0  52.350358           18.0        1.0   \n",
       "\n",
       "   beds  security_deposit  ...  years_of_hosting  qnum_since_last_review  \\\n",
       "0     3               250  ...                 1                       6   \n",
       "1     8               300  ...                 3                       0   \n",
       "2     1               100  ...                 5                       5   \n",
       "3     1               300  ...                 5                       5   \n",
       "4     1                 0  ...                 7                       6   \n",
       "\n",
       "   qnum_since_first_review  hair_dryer  shampoo  hot_water  \\\n",
       "0                        6           1        0          0   \n",
       "1                        0           1        1          0   \n",
       "2                       19           1        0          0   \n",
       "3                       13           1        0          1   \n",
       "4                       13           1        1          1   \n",
       "\n",
       "   dishes_and_silverware  luggage_dropoff_allowed  host_is_superhost  split  \n",
       "0                      0                        0                  0    0.0  \n",
       "1                      0                        0                  0    0.0  \n",
       "2                      0                        0                  0    0.0  \n",
       "3                      0                        0                  1    0.0  \n",
       "4                      0                        0                  1    0.0  \n",
       "\n",
       "[5 rows x 36 columns]"
      ]
     },
     "execution_count": 46,
     "metadata": {},
     "output_type": "execute_result"
    }
   ],
   "source": [
    "df_train.head()"
   ]
  },
  {
   "cell_type": "code",
   "execution_count": 47,
   "id": "f70e2400",
   "metadata": {},
   "outputs": [],
   "source": [
    "del df_train['split']"
   ]
  },
  {
   "cell_type": "code",
   "execution_count": 48,
   "id": "79e2f6de",
   "metadata": {},
   "outputs": [
    {
     "data": {
      "text/plain": [
       "(12018, 35)"
      ]
     },
     "execution_count": 48,
     "metadata": {},
     "output_type": "execute_result"
    }
   ],
   "source": [
    "df_train.shape"
   ]
  },
  {
   "cell_type": "code",
   "execution_count": 49,
   "id": "bbf31bf0",
   "metadata": {},
   "outputs": [],
   "source": [
    "df_ros.to_csv('df_ros.csv')"
   ]
  },
  {
   "cell_type": "code",
   "execution_count": null,
   "id": "003185a6",
   "metadata": {},
   "outputs": [],
   "source": []
  },
  {
   "cell_type": "code",
   "execution_count": null,
   "id": "7d870125",
   "metadata": {},
   "outputs": [],
   "source": []
  },
  {
   "cell_type": "markdown",
   "id": "9bd23446",
   "metadata": {},
   "source": [
    "# Next to stage 6 - Model selection"
   ]
  },
  {
   "cell_type": "code",
   "execution_count": null,
   "id": "5bb2a1a1",
   "metadata": {},
   "outputs": [],
   "source": []
  },
  {
   "cell_type": "code",
   "execution_count": null,
   "id": "90210f12",
   "metadata": {},
   "outputs": [],
   "source": []
  }
 ],
 "metadata": {
  "kernelspec": {
   "display_name": "Python 3",
   "language": "python",
   "name": "python3"
  },
  "language_info": {
   "codemirror_mode": {
    "name": "ipython",
    "version": 3
   },
   "file_extension": ".py",
   "mimetype": "text/x-python",
   "name": "python",
   "nbconvert_exporter": "python",
   "pygments_lexer": "ipython3",
   "version": "3.8.8"
  }
 },
 "nbformat": 4,
 "nbformat_minor": 5
}
